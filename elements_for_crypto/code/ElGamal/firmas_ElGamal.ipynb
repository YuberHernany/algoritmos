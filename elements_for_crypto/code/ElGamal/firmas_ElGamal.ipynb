{
 "cells": [
  {
   "attachments": {},
   "cell_type": "markdown",
   "metadata": {},
   "source": [
    "### Firmas digitales usando ElGamal\n",
    "\n",
    "Suponga que la persona $A$ tiene clave pública $(p,g,a)$, con clave privada $e$. La persona $B$ que quiera firmar y enviar un mensaje a la persona $A$, procede así:\n",
    "\n",
    "1) $B$ elige una clave privada $\\hat e$, con $1\\leq \\hat e \\leq p-1$, y calcula $\\hat a = g ^{\\hat e}\\quad \\text{mód}\\ p $.\n",
    "\n",
    "2) $B$ usa el cálculo $\\gamma := g ^{ k} \\quad \\text{mód}\\ p$, donde $1\\leq \\gamma \\leq p -1 $ que realizó para enviar su mensaje $b$ y donde $k$ es el entero coprimo con $\\varphi(p)=p-1$ que escogió al azar para \"enmascarar\" su mensaje $b$.       \n",
    "\n",
    "3) $B$ calcula $s:= (b - \\hat e \\gamma ) k ^{-1} \\quad \\text{mód}\\ p$, y así $0\\leq s\\leq p-2$, donde el mensaje que se quiere firmar es el bloque $b$. La \"firma\" que envía $B$ es $(s, \\hat a)$, junto con el mensaje encriptado $(g ^{k}, \\beta) $ que desea enviar.\n",
    "\n",
    "Debe notarse que $B$ es el único que puede calcular $s$ y $\\hat a$, ya que $\\hat e$ y $k$ sólo los conoce él.     \n",
    "\n",
    "Para verificar que el mensaje proviene de la persona $B$ que dice que lo envió, $A$ calcula, usando las claves públicas $(p, g, a)$, y los datos $(\\gamma, b, s, \\hat a)$ que le envió $B$:\n",
    "\n",
    "$$V _{ 1} \\equiv \\gamma ^{s} \\hat a  ^{\\gamma} \\quad \\text{mód} \\ p \\quad \\quad \\text{con} \\quad \\quad 0\\leq V _{ 1} \\leq p-1 $$\n",
    "y $$V _{ 2} \\equiv g ^{b}  \\quad \\text{mód} \\ p \\quad \\quad \\text{con} \\quad \\quad 0\\leq V _{ 2} \\leq p-1 $$\n",
    "\n",
    "Note que en estos cálculos que hace $A$, éste no necesita conocer las claves privadas de $B$, es decir, los enteros $\\hat e$ y $k$. Para que este mensaje firmado sea auténtico, se debe tener que $V _{ 1} = V _{ 2} $ ya que, módulo $p$:\n",
    "\n",
    "$$V _{ 1} \\equiv \\gamma ^{s} \\hat a ^{\\gamma} \\equiv (g ^{k} ) ^{ (b - \\hat e \\gamma) k ^{-1}} \\hat a ^{\\gamma}\n",
    "\\equiv g ^{b-\\hat e \\gamma} \\hat a ^{\\gamma} \\equiv g ^{b} (g ^{\\hat e \\gamma} ) ^{-1}  \\hat a ^{\\gamma} \\equiv g ^{b} (\\hat a ^{\\gamma}  ) ^{-1} \\hat a ^{\\gamma} \\equiv g ^{b} \\equiv V _{ 2}  $$\n",
    "\n",
    "Es muy importante notar que se deben seleccionar diferentes enteros $k$ para firmar cada uno de los mensajes o bloques en el protocolo anterior, ya que si se repiten dos enteros tales, entonces existe una manera de encontrar el entero $k$.  \n"
   ]
  },
  {
   "cell_type": "markdown",
   "metadata": {},
   "source": []
  }
 ],
 "metadata": {
  "language_info": {
   "name": "python"
  },
  "orig_nbformat": 4
 },
 "nbformat": 4,
 "nbformat_minor": 2
}
