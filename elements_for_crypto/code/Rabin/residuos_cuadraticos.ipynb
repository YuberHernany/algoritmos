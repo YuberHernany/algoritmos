{
 "cells": [
  {
   "attachments": {},
   "cell_type": "markdown",
   "metadata": {},
   "source": [
    "### Residuos cuadráticos\n",
    "\n",
    "Dado $a\\in (\\mathbb{Z}/p) ^{*} $, ¿para qué primos $p$ es $a$ un cuadrado perfecto?. Si $p$ es primo y $\\text{mcd}(a,p) = 1$, se dirá que $a$ es un **residuo cuadrático** módulo $p$, si tiene raíz, es decir, si existe $x$ entero tal que $x ^{ 2} \\equiv a\\quad \\text{mód}\\ p$ y se denota $a$ es $RC$. Si lo anterior no sucede, se dirá que $a$ no es residuo cuadrático, y se denota $NRC$      \n",
    "\n",
    "Si $p$ es primo impar y $p \\not | a$, cuando la congruencia $x ^{ 2} \\equiv a \\quad \\text{mód}\\ p$ tiene soluciones, tiene exactamente dos.\n",
    "\n",
    "En las próximas tablas podrá notar que si $p$ es primo impar, entonces hay simetría en los residuos cuadráticos y hay exactamente $(p-1)/2 \\ RC$ y $(p-1)/2 \\ NRC$ módulo $p$. "
   ]
  },
  {
   "attachments": {},
   "cell_type": "markdown",
   "metadata": {},
   "source": [
    "\\begin{bmatrix}{}\n",
    "\\text{mód}\\  7 \\\\\n",
    "b &  1 &  2 &   3 &  4 &  5 &  6 \\\\\n",
    "b ^{ 2}  &  1 &  4 &  2 &  2 &  4 &  1 \\\\ \n",
    "\\end{bmatrix}\n",
    "\n",
    "\n",
    "\\begin{bmatrix}{}\n",
    "\\text{mód}\\  11 \\\\\n",
    "b &  1  &  2  &  3  &  4  &  5  &  6  &  7  &  8  &  9  &  10 \\\\\n",
    "b ^{ 2}  &   1 &   4 &   9 &   5 &   3 &   3 &   5 &   9 &   4 &   1 \\\\\n",
    "\\end{bmatrix}\n",
    "\n",
    "\\begin{bmatrix}{}\n",
    "\\text{mód}\\  13 \\\\\n",
    "b &  1  &  2  &  3  &  4  &  5  &  6  &  7  &  8  &  9  &  10 &  11 &  12 \\\\\n",
    "b ^{ 2}  &   1 &   4 &   9 &   3 &  12 &  10 &  10 &  12 &   3 &   9 &   4 &   1 \\\\\n",
    "\\end{bmatrix}"
   ]
  },
  {
   "attachments": {},
   "cell_type": "markdown",
   "metadata": {},
   "source": [
    "Si $p$ es primo impar y $g$ su raíz primitiva, entonces los $(p-1)/2 \\ RC$ y los $(p-1)/2 \\ NRC$ módulo $p$ son respectivamente $g ^{ 2} , g ^{4}, g ^{6}, \\dots,  g ^{2k}, \\dots $ y $g, g ^{ 3} , g ^{5}, g ^{7}, \\dots,  g ^{2k+1}, \\dots $. Lo anterior conduce a que: \n",
    "\n",
    "* $RC \\times RC = RC$ (Similar al fenómeno $1\\times 1 = 1$)\n",
    "* $RC \\times NRC = NRC$ (Similar al fenómeno $1\\times (-1) = (-1)$)\n",
    "* $NRC \\times NRC = RC$ (Similar al fenómeno $(-1)\\times (-1) = 1$)\n",
    "\n",
    "Se define entonces el símbolo de Legendre en la forma siguiente:\n",
    "\n",
    "$$\\left(\\frac{a}{p} \\right) := \n",
    "\\begin{cases}\n",
    "\t\t\t+1, & \\text{si $a$ es RC mód p}\\\\\n",
    "            -1, & \\text{si $a$ es NRC mód p}\\\\\n",
    "\t\t \\end{cases}\n",
    "$$\n",
    "\n",
    "#### ¿Cuándó $-1$ es un RC módulo $p$?"
   ]
  },
  {
   "cell_type": "code",
   "execution_count": null,
   "metadata": {},
   "outputs": [],
   "source": []
  }
 ],
 "metadata": {
  "kernelspec": {
   "display_name": "Python 3",
   "language": "python",
   "name": "python3"
  },
  "language_info": {
   "codemirror_mode": {
    "name": "ipython",
    "version": 3
   },
   "file_extension": ".py",
   "mimetype": "text/x-python",
   "name": "python",
   "nbconvert_exporter": "python",
   "pygments_lexer": "ipython3",
   "version": "3.9.5"
  },
  "orig_nbformat": 4
 },
 "nbformat": 4,
 "nbformat_minor": 2
}
