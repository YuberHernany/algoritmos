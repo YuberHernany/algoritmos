{
 "cells": [
  {
   "attachments": {},
   "cell_type": "markdown",
   "metadata": {},
   "source": [
    "#### Criptoanálisis"
   ]
  },
  {
   "attachments": {},
   "cell_type": "markdown",
   "metadata": {},
   "source": [
    "Cuando se usa criptosistema Cesar, hay una vulnerabilidad, dado que se  pueden analizar las frecuencias con las que aparecen las letras en un mensaje encriptado.\n",
    "\n",
    "En el español, las letras del alfabeto aparecen en un  texto genérico con las frecuencias siguientes:\n",
    "\n",
    "| *Alta frecuencia*      | *Media frecuencia* |*Baja frecuencia* |\n",
    "| ----------- | ----------- | ----------- |\n",
    "| *Letra    -    frec (%)*      | *Letra   -    frec (%)* |*Letra    -    frec (%)* |\n",
    "| E - 16.78 %   | R - 4.94 %      | Y- 1.54  %     |\n",
    "| A -  11.96 %  | U - 4.80 %     | Q - 1.53  %     |\n",
    "| O -  8.69 % | I - 4.15 %       | B - 0.92  %     |\n",
    "| L -  8.37 % | T - 3.31 %      | H - 0.89   %    |\n",
    "| S -  7.88 % | C - 2.92 %        |         |\n",
    "| N -  7.01 % | P - 2.76 %       |         |\n",
    "| D -  6.87 % | M  - 2.12 %      |         |\n",
    "\n",
    "Las letras restantes tienen frecuencias inferiores a $0.5 \\%$ "
   ]
  },
  {
   "attachments": {},
   "cell_type": "markdown",
   "metadata": {},
   "source": [
    "<img src='frecuencias_letras.png'>"
   ]
  },
  {
   "attachments": {},
   "cell_type": "markdown",
   "metadata": {},
   "source": [
    "Supongamos que se recibe el mensaje encriptado `gnglgñrnqguukñrng`. Las frecuencias son:\n",
    "\n",
    "\n",
    "| *Letra*      | G | N| L| Ñ| R| Q|U| K|\n",
    "| ----| --|--|--|--|--|--|--|--|\n",
    "| *Frecuencia* | 5|3|1|2|2|1|2|1|\n",
    "\n",
    "Si hacemos corresponder a la letra `G` (más frecuente en texto encriptado) con la letra `E` (más frecuente en texto genéricos en español), entonces estamos proponiendo que cada letra se ha traslado un número de posiciones $k=2$ (distancia entre `E` y `G`). Si retornamos cada letra del mensaje encriptado el mismo número de posiciones $k=2$, entonces se tendrá:  `gnglgñrnqguukñrng` -> `ejemplosimple`\n"
   ]
  },
  {
   "cell_type": "markdown",
   "metadata": {},
   "source": []
  }
 ],
 "metadata": {
  "language_info": {
   "name": "python"
  },
  "orig_nbformat": 4
 },
 "nbformat": 4,
 "nbformat_minor": 2
}
