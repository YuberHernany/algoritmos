{
 "cells": [
  {
   "attachments": {},
   "cell_type": "markdown",
   "metadata": {},
   "source": [
    "Para encriptar un mensaje, el primer paso es convertirlo en una secuencia de números como lo indica la siguiente tabla:\n",
    "|A|B|C|D|E|F|G|H|I|J|K|L|M|N|Ñ|O|P|Q|R|S|T|U|V|W|X|Y|Z|\n",
    "|---|---|---|---|---|---|---|---|---|---|---|---|---|---|---|---|---|---|---|---|---|---|---|---|---|---|---|\n",
    "|11|12|13|14|15|16|17|18|19|20|21|22|23|24|25|26|27|28|29|30|31|32|33|34|35|36|37|\n",
    "\n",
    "y al espacio entre palabras le asignamos los dígitos $38$. Así, \"hola mundo\" se convierte en 18262211382332241426.\n",
    "\n",
    "|H|O|L|A| |M|U|N|D|O|\n",
    "|---|---|---|---|---|---|---|---|---|---|\n",
    "|18|26|22|11|38|23|32|24|14|26|"
   ]
  },
  {
   "cell_type": "code",
   "execution_count": 1,
   "metadata": {},
   "outputs": [],
   "source": [
    "import sympy.ntheory as nt\n",
    "import sympy as sy\n",
    "from tools_blocks2message import *\n",
    "from tools_message2blocks import *\n",
    "from tools_for_RSA import *"
   ]
  },
  {
   "attachments": {},
   "cell_type": "markdown",
   "metadata": {},
   "source": [
    "`mensaje1 = \"los cientificos se esfuerzan por hacer posible lo imposible mientras que los politicos por hacer lo posible imposible\"`"
   ]
  },
  {
   "attachments": {},
   "cell_type": "markdown",
   "metadata": {},
   "source": [
    "Tomando `p = nt.prime(1000)`,  `q = nt.prime(2000)` y `e = 96558349`. Encripte `mensaje1` usando RSA."
   ]
  },
  {
   "cell_type": "code",
   "execution_count": 2,
   "metadata": {},
   "outputs": [
    {
     "data": {
      "text/plain": [
       "8220617"
      ]
     },
     "execution_count": 2,
     "metadata": {},
     "output_type": "execute_result"
    }
   ],
   "source": [
    "p = nt.prime(1000)\n",
    "q = nt.prime(2000)\n",
    "phi_m = (p-1) * (q-1)\n",
    "e = random_coprime_with(phi_m)\n",
    "e"
   ]
  },
  {
   "cell_type": "code",
   "execution_count": 3,
   "metadata": {},
   "outputs": [],
   "source": [
    "mensaje1 = \"los cientificos se esfuerzan por hacer posible lo imposible mientras que los politicos por hacer lo posible imposible\"\n",
    "mis_bloques1 = message2blocks(mensaje1, possible_len=2)"
   ]
  },
  {
   "cell_type": "code",
   "execution_count": 4,
   "metadata": {},
   "outputs": [
    {
     "data": {
      "text/plain": [
       "103314329"
      ]
     },
     "execution_count": 4,
     "metadata": {},
     "output_type": "execute_result"
    }
   ],
   "source": [
    "d = inverse_of(e, phi_m)\n",
    "d"
   ]
  },
  {
   "cell_type": "code",
   "execution_count": 5,
   "metadata": {},
   "outputs": [],
   "source": [
    "m = p*q\n",
    "mis_bloques_encriptados = encode_rsa(m, e, mis_bloques1)\n",
    "# mis_bloques_encriptados"
   ]
  },
  {
   "cell_type": "code",
   "execution_count": 6,
   "metadata": {},
   "outputs": [],
   "source": [
    "mis_bloques_desencriptados = decode_rsa(m, d, mis_bloques_encriptados)"
   ]
  },
  {
   "cell_type": "code",
   "execution_count": 7,
   "metadata": {},
   "outputs": [
    {
     "data": {
      "text/plain": [
       "[22, 26, 30, 38, 13, 19, 15, 24, 31, 19, 16, 19, 13, 26, 30]"
      ]
     },
     "execution_count": 7,
     "metadata": {},
     "output_type": "execute_result"
    }
   ],
   "source": [
    "mis_bloques1[:15]"
   ]
  },
  {
   "cell_type": "code",
   "execution_count": 8,
   "metadata": {},
   "outputs": [
    {
     "data": {
      "text/plain": [
       "'los cientificos se esfuerzan por hacer posible lo imposible mientras que los politicos por hacer lo posible imposible'"
      ]
     },
     "execution_count": 8,
     "metadata": {},
     "output_type": "execute_result"
    }
   ],
   "source": [
    "blocks2message(mis_bloques_desencriptados[:])"
   ]
  },
  {
   "cell_type": "code",
   "execution_count": 9,
   "metadata": {},
   "outputs": [
    {
     "name": "stdout",
     "output_type": "stream",
     "text": [
      "p:  7919\n",
      "q:  17389\n",
      "e:  8220617\n",
      "[33113290, 80365780, 16594511, 47171377, 119770509, 54937779, 37098340, 125119529, 16827617, 54937779, 47297777, 54937779, 119770509, 80365780, 16594511, 47171377, 16594511, 37098340, 47171377, 37098340, 16594511, 47297777, 18785197, 37098340, 121728071, 73500723, 121944756, 125119529, 47171377, 101452928, 80365780, 121728071, 47171377, 96535797, 121944756, 119770509, 37098340, 121728071, 47171377, 101452928, 80365780, 16594511, 54937779, 19799694, 33113290, 37098340, 47171377, 33113290, 80365780, 47171377, 54937779, 135601836, 101452928, 80365780, 16594511, 54937779, 19799694, 33113290, 37098340, 47171377, 135601836, 54937779, 37098340, 125119529, 16827617, 121728071, 121944756, 16594511, 47171377, 33776723, 18785197, 37098340, 47171377, 33113290, 80365780, 16594511, 47171377, 101452928, 80365780, 33113290, 54937779, 16827617, 54937779, 119770509, 80365780, 16594511, 47171377, 101452928, 80365780, 121728071, 47171377, 96535797, 121944756, 119770509, 37098340, 121728071, 47171377, 33113290, 80365780, 47171377, 101452928, 80365780, 16594511, 54937779, 19799694, 33113290, 37098340, 47171377, 54937779, 135601836, 101452928, 80365780, 16594511, 54937779, 19799694, 33113290, 37098340]\n"
     ]
    }
   ],
   "source": [
    "print(\"p: \", p)\n",
    "print(\"q: \", q)\n",
    "print(\"e: \", e)\n",
    "print(mis_bloques_encriptados)\n"
   ]
  },
  {
   "attachments": {},
   "cell_type": "markdown",
   "metadata": {},
   "source": [
    "1) ¿Cuál es el mensaje oculto en la siguiente lista de enteros, si se sabe que se ha usado el RSA con p=7919, q=17389 y e=96558349?\n",
    "\n",
    "[116427824, 71262391, 95967677, 108216637, 130284225, 44866252, 16356886, 121976595, 16896540, 44866252, 106409323, 44866252, 130284225, 71262391, 95967677, 108216637, 95967677, 16356886, 108216637, 16356886, 95967677, 106409323, 162951, 16356886, 122552340, 13783210, 87965332, 121976595, 108216637, 86661090, 71262391, 122552340, 108216637, 31583046, 87965332, 130284225, 16356886, 122552340, 108216637, 86661090, 71262391, 95967677, 44866252, 105050342, 116427824, 16356886, 108216637, 116427824, 71262391, 108216637, 44866252, 36622724, 86661090, 71262391, 95967677, 44866252, 105050342, 116427824, 16356886, 108216637, 36622724, 44866252, 16356886, 121976595, 16896540, 122552340, 87965332, 95967677, 108216637, 12960247, 162951, 16356886, 108216637, 116427824, 71262391, 95967677, 108216637, 86661090, 71262391, 116427824, 44866252, 16896540, 44866252, 130284225, 71262391, 95967677, 108216637, 86661090, 71262391, 122552340, 108216637, 31583046, 87965332, 130284225, 16356886, 122552340, 108216637, 116427824, 71262391, 108216637, 86661090, 71262391, 95967677, 44866252, 105050342, 116427824, 16356886, 108216637, 44866252, 36622724, 86661090, 71262391, 95967677, 44866252, 105050342, 116427824, 16356886]"
   ]
  },
  {
   "cell_type": "code",
   "execution_count": 10,
   "metadata": {},
   "outputs": [
    {
     "name": "stdout",
     "output_type": "stream",
     "text": [
      "[112337747, 121728071, 121944756, 125119529, 47171377, 101452928, 121944756, 121728071, 16827617, 37098340, 47171377, 13773263, 37098340, 47171377, 33113290, 121944756, 16594511, 47171377, 13773263, 54937779, 47297777, 54937779, 119770509, 18785197, 33113290, 16827617, 121944756, 13773263, 37098340, 16594511, 47171377, 101452928, 80365780, 121728071, 47171377, 33113290, 121944756, 16594511, 47171377, 33776723, 18785197, 37098340, 47171377, 121944756, 16827617, 121728071, 121944756, 133461719, 54937779, 37098340, 16594511, 121944756, 47171377, 37098340, 33113290, 47171377, 135601836, 18785197, 125119529, 13773263, 80365780, 47171377, 16594511, 37098340, 47171377, 13773263, 37098340, 19799694, 37098340, 125119529, 47171377, 121944756, 47171377, 33776723, 18785197, 37098340, 47171377, 33113290, 80365780, 16594511, 47171377, 54937779, 112337747, 125119529, 80365780, 121728071, 121944756, 125119529, 16827617, 37098340, 16594511, 47171377, 37098340, 16594511, 16827617, 121944756, 125119529, 47171377, 119770509, 80365780, 135601836, 101452928, 33113290, 37098340, 16827617, 121944756, 135601836, 37098340, 125119529, 16827617, 37098340, 47171377, 16594511, 37098340, 112337747, 18785197, 121728071, 80365780, 16594511, 47171377, 36012136, 47171377, 33113290, 80365780, 16594511, 47171377, 54937779, 125119529, 16827617, 37098340, 33113290, 54937779, 112337747, 37098340, 125119529, 16827617, 37098340, 16594511, 47171377, 33113290, 33113290, 37098340, 125119529, 80365780, 16594511, 47171377, 13773263, 37098340, 47171377, 13773263, 18785197, 13773263, 121944756, 16594511]\n"
     ]
    }
   ],
   "source": [
    "mensaje2 = \"gran parte de las dificultades por las que atraviesa el mundo se deben a que los ignorantes estan completamente seguros y los inteligentes llenos de dudas\"\n",
    "mis_bloques2 = message2blocks(mensaje2, possible_len=2)\n",
    "mis_bloques2_encriptados = encode_rsa(m, e, mis_bloques2)\n",
    "print(mis_bloques2_encriptados)"
   ]
  },
  {
   "cell_type": "code",
   "execution_count": 11,
   "metadata": {},
   "outputs": [
    {
     "data": {
      "text/plain": [
       "'gran parte de las dificultades por las que atraviesa el mundo se deben a que los ignorantes estan completamente seguros y los inteligentes llenos de dudas'"
      ]
     },
     "execution_count": 11,
     "metadata": {},
     "output_type": "execute_result"
    }
   ],
   "source": [
    "blocks2message(decode_rsa(m, d, mis_bloques2_encriptados))"
   ]
  },
  {
   "attachments": {},
   "cell_type": "markdown",
   "metadata": {},
   "source": [
    "2) ¿Cuál es el mensaje oculto en la siguiente lista de enteros, si se sabe que se ha usado el RSA con p=7919, q=17389 y e=96558349?\n",
    "\n",
    "[94132717, 122552340, 87965332, 121976595, 108216637, 86661090, 87965332, 122552340, 16896540, 16356886, 108216637, 96593042, 16356886, 108216637, 116427824, 87965332, 95967677, 108216637, 96593042, 44866252, 106409323, 44866252, 130284225, 162951, 116427824, 16896540, 87965332, 96593042, 16356886, 95967677, 108216637, 86661090, 71262391, 122552340, 108216637, 116427824, 87965332, 95967677, 108216637, 12960247, 162951, 16356886, 108216637, 87965332, 16896540, 122552340, 87965332, 13625048, 44866252, 16356886, 95967677, 87965332, 108216637, 16356886, 116427824, 108216637, 36622724, 162951, 121976595, 96593042, 71262391, 108216637, 95967677, 16356886, 108216637, 96593042, 16356886, 105050342, 16356886, 121976595, 108216637, 87965332, 108216637, 12960247, 162951, 16356886, 108216637, 116427824, 71262391, 95967677, 108216637, 44866252, 94132717, 121976595, 71262391, 122552340, 87965332, 121976595, 16896540, 16356886, 95967677, 108216637, 16356886, 95967677, 16896540, 87965332, 121976595, 108216637, 130284225, 71262391, 36622724, 86661090, 116427824, 16356886, 16896540, 87965332, 36622724, 16356886, 121976595, 16896540, 16356886, 108216637, 95967677, 16356886, 94132717, 162951, 122552340, 71262391, 95967677, 108216637, 11752584, 108216637, 116427824, 71262391, 95967677, 108216637, 44866252, 121976595, 16896540, 16356886, 116427824, 44866252, 94132717, 16356886, 121976595, 16896540, 16356886, 95967677, 108216637, 116427824, 116427824, 16356886, 121976595, 71262391, 95967677, 108216637, 96593042, 16356886, 108216637, 96593042, 162951, 96593042, 87965332, 95967677]"
   ]
  },
  {
   "cell_type": "markdown",
   "metadata": {},
   "source": [
    "3. Usando RSA con p=7919, q=17389 y e=96558349, encripte el siguiente mensaje:\n",
    "\n",
    "`\"las matematicas pueden ser definidas como aquel tema del cual no sabemos nunca lo que decimos ni si lo que decimos es verdadero\"`"
   ]
  },
  {
   "attachments": {},
   "cell_type": "markdown",
   "metadata": {},
   "source": [
    "4. Usando RSA con p=7919, q=17389 y e=96558349, encripte el siguiente mensaje:\n",
    "\n",
    "`\"lo mas dificil de aprender en la vida es que puente hay que cruzar y que puente hay que quemar\"`"
   ]
  },
  {
   "cell_type": "code",
   "execution_count": 12,
   "metadata": {},
   "outputs": [],
   "source": [
    "p = nt.prime(10000)\n",
    "q = nt.prime(20000)\n",
    "m = p*q\n",
    "phi_m = (p-1)*(q-1)"
   ]
  },
  {
   "cell_type": "code",
   "execution_count": 13,
   "metadata": {},
   "outputs": [
    {
     "data": {
      "text/plain": [
       "10676693633"
      ]
     },
     "execution_count": 13,
     "metadata": {},
     "output_type": "execute_result"
    }
   ],
   "source": [
    "e = random_coprime_with(phi_m)\n",
    "e"
   ]
  },
  {
   "cell_type": "code",
   "execution_count": 14,
   "metadata": {},
   "outputs": [
    {
     "name": "stdout",
     "output_type": "stream",
     "text": [
      "p:  104729\n",
      "q:  224737\n",
      "e:  10676693633\n"
     ]
    }
   ],
   "source": [
    "print(\"p: \", p)\n",
    "print(\"q: \", q)\n",
    "print(\"e: \", e)\n"
   ]
  },
  {
   "cell_type": "code",
   "execution_count": 15,
   "metadata": {},
   "outputs": [
    {
     "data": {
      "text/plain": [
       "[24263813,\n",
       " 29151130,\n",
       " 38132624,\n",
       " 33152419,\n",
       " 15243115,\n",
       " 38111331,\n",
       " 32112938,\n",
       " 26133222,\n",
       " 31112414,\n",
       " 26382729,\n",
       " 32151211,\n",
       " 30382732,\n",
       " 15303822,\n",
       " 11303827,\n",
       " 29321512,\n",
       " 11303831,\n",
       " 15292319,\n",
       " 24112438,\n",
       " 27262938,\n",
       " 30112219,\n",
       " 29381138,\n",
       " 22113822,\n",
       " 32373811,\n",
       " 38331930,\n",
       " 31113814,\n",
       " 15383126]"
      ]
     },
     "execution_count": 15,
     "metadata": {},
     "output_type": "execute_result"
    }
   ],
   "source": [
    "mensaje3 = \"me opongo a toda supersticion sea musulmana sea cristiana sea judia o sea budista\"\n",
    "mis_bloques3 = message2blocks(mensaje3, possible_len=8)\n",
    "mis_bloques3\n",
    "\n",
    "mensaje4 = \"no creas conveniente actuar ocultando pruebas pues las pruebas terminan por salir a la luz a vista de todos\"\n",
    "mis_bloques4 = message2blocks(mensaje4, possible_len=8)\n",
    "mis_bloques4"
   ]
  },
  {
   "cell_type": "code",
   "execution_count": 16,
   "metadata": {},
   "outputs": [
    {
     "name": "stdout",
     "output_type": "stream",
     "text": [
      "[21101450083, 11090237809, 7835290949, 13916509906, 5797007492, 14961567488, 18719985437, 11324383840, 18923852140, 1177562528, 2065877116, 12633916785, 12390310674, 7860888701, 13973961240, 21447248359, 6649317939, 1858340868, 9495270785, 9409415684, 528397340, 15319582691, 4613537384, 15302543808, 11322365081, 9863969465]\n"
     ]
    }
   ],
   "source": [
    "mis_bloques3_encriptados = encode_rsa(m, e, mis_bloques3)\n",
    "# print(mis_bloques3_encriptados)\n",
    "\n",
    "mis_bloques4_encriptados = encode_rsa(m, e, mis_bloques4)\n",
    "print(mis_bloques4_encriptados)"
   ]
  },
  {
   "attachments": {},
   "cell_type": "markdown",
   "metadata": {},
   "source": []
  },
  {
   "attachments": {},
   "cell_type": "markdown",
   "metadata": {},
   "source": [
    "5) ¿Cuál es el mensaje oculto en la siguiente lista de enteros, si se sabe que se ha usado el RSA con p=104729, q=224737 y e=554039341?\n",
    "\n",
    "[21820245060, 16973863343, 16647907597, 5351085797, 18648503124, 18273004418, 15817170431, 7381433519, 15585396102, 4443772741, 1656337393, 14754433457, 22946763748, 5135880178, 6542531552, 2051320888, 18050988245, 4994899630, 17668156117, 11269362579]\n"
   ]
  },
  {
   "cell_type": "code",
   "execution_count": 17,
   "metadata": {},
   "outputs": [
    {
     "name": "stdout",
     "output_type": "stream",
     "text": [
      "me opongo a toda supersticion sea musulmana sea cristiana sea judia o sea budist\n"
     ]
    }
   ],
   "source": [
    "d = inverse_of(e, phi_m)\n",
    "print(blocks2message(decode_rsa(m, d, mis_bloques3_encriptados)))"
   ]
  },
  {
   "attachments": {},
   "cell_type": "markdown",
   "metadata": {},
   "source": [
    "6) ¿Cuál es el mensaje oculto en la siguiente lista de enteros, si se sabe que se ha usado el RSA con p=104729, q=224737 y e=554039341?\n",
    "\n",
    "[20071683819, 18754823901, 15281925738, 22431087988, 18578136847, 14565167928, 20363208149, 23164154654, 19883031733, 17926748637, 22540995446, 9667978832, 3356165928, 20768696878, 7232548727, 17445960483, 17408203534, 18047748783, 11480314056, 20135029456, 21596106087, 21071138629, 12152023796, 18248646084, 9103249568, 22310161636]"
   ]
  },
  {
   "cell_type": "code",
   "execution_count": 18,
   "metadata": {},
   "outputs": [
    {
     "name": "stdout",
     "output_type": "stream",
     "text": [
      "no creas conveniente actuar ocultando pruebas pues las pruebas terminan por salir a la luz a vista de to\n"
     ]
    }
   ],
   "source": [
    "d = inverse_of(e, phi_m)\n",
    "print(blocks2message(decode_rsa(m, d, mis_bloques4_encriptados)))"
   ]
  },
  {
   "attachments": {},
   "cell_type": "markdown",
   "metadata": {},
   "source": [
    "7. Usando RSA con p=163841, q=350377 y e=4180452401, encripte el siguiente mensaje:\n",
    "\n",
    "`\"paren el mundo que me quiero bajar\"`"
   ]
  },
  {
   "attachments": {},
   "cell_type": "markdown",
   "metadata": {},
   "source": [
    "8. Usando RSA con p=163847, q=350381 y e=8584779379, encripte el siguiente mensaje:\n",
    "\n",
    "`\"estos son mis principios y si no le gustan le tengo otros\"`"
   ]
  },
  {
   "cell_type": "code",
   "execution_count": 19,
   "metadata": {},
   "outputs": [
    {
     "name": "stdout",
     "output_type": "stream",
     "text": [
      "p:  163847\n",
      "q:  350381\n"
     ]
    }
   ],
   "source": [
    "p = nt.prime(15001)\n",
    "q = nt.prime(30001)\n",
    "print(\"p: \", p)\n",
    "print(\"q: \", q)\n",
    "phi_m = (p-1) *(q-1)"
   ]
  },
  {
   "cell_type": "code",
   "execution_count": 20,
   "metadata": {},
   "outputs": [
    {
     "data": {
      "text/plain": [
       "28480286763"
      ]
     },
     "execution_count": 20,
     "metadata": {},
     "output_type": "execute_result"
    }
   ],
   "source": [
    "e = random_coprime_with(phi_m)\n",
    "e"
   ]
  },
  {
   "attachments": {},
   "cell_type": "markdown",
   "metadata": {},
   "source": [
    "Para manuscrito"
   ]
  },
  {
   "cell_type": "code",
   "execution_count": 21,
   "metadata": {},
   "outputs": [],
   "source": [
    "m = 319\n",
    "e = 3\n",
    "phi_m = 280\n",
    "mensaje5 = \"saludos a todos\"\n"
   ]
  },
  {
   "cell_type": "code",
   "execution_count": 22,
   "metadata": {},
   "outputs": [
    {
     "data": {
      "text/plain": [
       "[30, 11, 22, 32, 14, 26, 30, 38, 11, 38, 31, 26, 14, 26, 30]"
      ]
     },
     "execution_count": 22,
     "metadata": {},
     "output_type": "execute_result"
    }
   ],
   "source": [
    "mis_bloques5 = message2blocks(mensaje5, possible_len=2)\n",
    "mis_bloques5"
   ]
  },
  {
   "cell_type": "code",
   "execution_count": 23,
   "metadata": {},
   "outputs": [],
   "source": [
    "mis_bloques5_encriptados = encode_rsa(m, e, mis_bloques5)"
   ]
  },
  {
   "cell_type": "code",
   "execution_count": 24,
   "metadata": {},
   "outputs": [
    {
     "data": {
      "text/plain": [
       "[204, 55, 121, 230, 192, 31, 204, 4, 55, 4, 124, 31, 192, 31, 204]"
      ]
     },
     "execution_count": 24,
     "metadata": {},
     "output_type": "execute_result"
    }
   ],
   "source": [
    "mis_bloques5_encriptados"
   ]
  },
  {
   "cell_type": "code",
   "execution_count": 25,
   "metadata": {},
   "outputs": [
    {
     "name": "stdout",
     "output_type": "stream",
     "text": [
      "saludos a todos\n"
     ]
    }
   ],
   "source": [
    "d = inverse_of(e, phi_m)\n",
    "print(blocks2message(decode_rsa(m, d, mis_bloques5_encriptados)))"
   ]
  },
  {
   "cell_type": "code",
   "execution_count": 31,
   "metadata": {},
   "outputs": [
    {
     "name": "stdout",
     "output_type": "stream",
     "text": [
      "encriptado\n",
      "[222, 330, 329, 232, 460, 329, 237, 41, 195, 329, 645]\n"
     ]
    }
   ],
   "source": [
    "p = 23\n",
    "q = 29\n",
    "m = p * q\n",
    "e = 5\n",
    "men = \"duerme bien\"\n",
    "blo = message2blocks(men, possible_len=2)\n",
    "\n",
    "enc = encode_rsa(m, e, blo)\n",
    "print(\"encriptado\")\n",
    "print(enc)\n",
    "d = inverse_of(e, 22*28)\n"
   ]
  },
  {
   "cell_type": "markdown",
   "metadata": {},
   "source": [
    "Para encriptar un mensaje, el primer paso es convertirlo en una secuencia de números como lo indica la siguiente tabla:\n",
    "|A|B|C|D|E|F|G|H|I|J|K|L|M|N|Ñ|O|P|Q|R|S|T|U|V|W|X|Y|Z|\n",
    "|---|---|---|---|---|---|---|---|---|---|---|---|---|---|---|---|---|---|---|---|---|---|---|---|---|---|---|\n",
    "|11|12|13|14|15|16|17|18|19|20|21|22|23|24|25|26|27|28|29|30|31|32|33|34|35|36|37|\n",
    "\n",
    "y al espacio entre palabras le asignamos los dígitos $38$. Así, \"hola mundo\" se convierte en 18262211382332241426.\n",
    "\n",
    "|H|O|L|A| |M|U|N|D|O|\n",
    "|---|---|---|---|---|---|---|---|---|---|\n",
    "|18|26|22|11|38|23|32|24|14|26|"
   ]
  },
  {
   "attachments": {},
   "cell_type": "markdown",
   "metadata": {},
   "source": [
    "Para realizar en manuscrito.\n",
    "\n",
    "1) Usando el módulo $m=pq=319$ y el exponente $e=3$, que es coprimo con $\\varphi(m) = 280$, encripte el mensaje `saludos a todos`.\n",
    "\n",
    "2) Hace mucho, mucho tiempo en una galaxia muy lejana, te encontrabas en una misión ultrasecreta llevando en tu memoria las claves secretas $p=23$, $q=29$ y exponente $e=5$. Llegas al Hotel Electiva2, donde te alojas, para \"descansar\" después de un día arduo de trabajo y estudio; poco después de la media noche alguien toca a tu puerta y un misterioso mensajero te deja un papel con el mensaje encriptado siguiente:  \n",
    "\n",
    "[222, 330, 329, 232, 460, 329, 237, 41, 195, 329, 645]\n",
    "\n",
    "Tu misión, si la aceptas, es aprovar el primer parcial del Hotel Elevtiva2, si sigues la orden del mensaje anterior."
   ]
  },
  {
   "cell_type": "markdown",
   "metadata": {},
   "source": []
  }
 ],
 "metadata": {
  "kernelspec": {
   "display_name": "Python 3",
   "language": "python",
   "name": "python3"
  },
  "language_info": {
   "codemirror_mode": {
    "name": "ipython",
    "version": 3
   },
   "file_extension": ".py",
   "mimetype": "text/x-python",
   "name": "python",
   "nbconvert_exporter": "python",
   "pygments_lexer": "ipython3",
   "version": "3.9.5"
  },
  "orig_nbformat": 4
 },
 "nbformat": 4,
 "nbformat_minor": 2
}
