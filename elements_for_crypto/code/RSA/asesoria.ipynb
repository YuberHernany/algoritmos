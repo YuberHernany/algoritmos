{
 "cells": [
  {
   "cell_type": "code",
   "execution_count": 1,
   "metadata": {},
   "outputs": [],
   "source": [
    "from tools_blocks2message import *\n",
    "from tools_message2blocks import *\n",
    "from tools_for_RSA import *"
   ]
  },
  {
   "cell_type": "code",
   "execution_count": 2,
   "metadata": {},
   "outputs": [],
   "source": [
    "p = 23\n",
    "q = 29\n",
    "e = 5"
   ]
  },
  {
   "cell_type": "code",
   "execution_count": 3,
   "metadata": {},
   "outputs": [],
   "source": [
    "encriptado = [222, 330, 329, 232, 460, 329, 237, 41, 195, 329, 645]"
   ]
  },
  {
   "cell_type": "code",
   "execution_count": 4,
   "metadata": {},
   "outputs": [
    {
     "data": {
      "text/plain": [
       "493"
      ]
     },
     "execution_count": 4,
     "metadata": {},
     "output_type": "execute_result"
    }
   ],
   "source": [
    "d = inverse_of(e, (p-1)*(q-1))\n",
    "d"
   ]
  },
  {
   "cell_type": "code",
   "execution_count": 6,
   "metadata": {},
   "outputs": [
    {
     "name": "stdout",
     "output_type": "stream",
     "text": [
      "14\n",
      "32\n",
      "15\n"
     ]
    }
   ],
   "source": [
    "m = p*q\n",
    "print(pow(222, d, m))\n",
    "print(pow(330, d, m))\n",
    "print(pow(329, d, m))"
   ]
  },
  {
   "cell_type": "code",
   "execution_count": 4,
   "metadata": {},
   "outputs": [
    {
     "name": "stdout",
     "output_type": "stream",
     "text": [
      "[18, 26, 36, 38, 17, 11, 24, 11, 23, 26, 30]\n",
      "hoy ganamos\n"
     ]
    }
   ],
   "source": [
    "mensaje = 'hoy ganamos'\n",
    "men_cifrado = message2blocks(mensaje, possible_len=2)\n",
    "print(men_cifrado)\n",
    "men_descif = blocks2message(men_cifrado)\n",
    "print(men_descif)"
   ]
  },
  {
   "cell_type": "code",
   "execution_count": 6,
   "metadata": {},
   "outputs": [],
   "source": [
    "p = 11\n",
    "q = 13\n",
    "m = p * q\n",
    "phi_m = (p-1) * (q-1)"
   ]
  },
  {
   "cell_type": "code",
   "execution_count": 10,
   "metadata": {},
   "outputs": [],
   "source": [
    "e = 119"
   ]
  },
  {
   "cell_type": "code",
   "execution_count": 11,
   "metadata": {},
   "outputs": [
    {
     "data": {
      "text/plain": [
       "119"
      ]
     },
     "execution_count": 11,
     "metadata": {},
     "output_type": "execute_result"
    }
   ],
   "source": [
    "d = inverse_of(e, phi_m)\n",
    "d"
   ]
  },
  {
   "cell_type": "code",
   "execution_count": 115,
   "metadata": {},
   "outputs": [
    {
     "name": "stdout",
     "output_type": "stream",
     "text": [
      "27 3\n"
     ]
    }
   ],
   "source": [
    "e = 27\n",
    "d = inverse_of(e, phi_m)\n",
    "while (len(str(d)) != 1) and (len(str(e)) != 1):\n",
    "    e = random_coprime_with(phi_m)\n",
    "    d = inverse_of(e, phi_m)\n",
    "print(e, d)"
   ]
  },
  {
   "cell_type": "code",
   "execution_count": null,
   "metadata": {},
   "outputs": [],
   "source": [
    "# con p=11 y q=13, e=103, d=7\n",
    "# con p=11 y q=13, e=27, d=3"
   ]
  },
  {
   "cell_type": "code",
   "execution_count": 149,
   "metadata": {},
   "outputs": [],
   "source": [
    "p = 11\n",
    "q = 5\n",
    "m = p*q\n",
    "phi_m = (p-1) * (q-1)"
   ]
  },
  {
   "cell_type": "code",
   "execution_count": 157,
   "metadata": {},
   "outputs": [
    {
     "data": {
      "text/plain": [
       "40"
      ]
     },
     "execution_count": 157,
     "metadata": {},
     "output_type": "execute_result"
    }
   ],
   "source": [
    "phi_m"
   ]
  },
  {
   "cell_type": "code",
   "execution_count": 172,
   "metadata": {},
   "outputs": [
    {
     "name": "stdout",
     "output_type": "stream",
     "text": [
      "27 3\n"
     ]
    }
   ],
   "source": [
    "e = 39\n",
    "d = inverse_of(e, phi_m)\n",
    "while (len(str(d)) != 1) and (len(str(e)) != 1):\n",
    "    e = random_coprime_with(phi_m)\n",
    "    d = inverse_of(e, phi_m)\n",
    "print(e, d)"
   ]
  },
  {
   "cell_type": "code",
   "execution_count": 173,
   "metadata": {},
   "outputs": [
    {
     "data": {
      "text/plain": [
       "1"
      ]
     },
     "execution_count": 173,
     "metadata": {},
     "output_type": "execute_result"
    }
   ],
   "source": [
    "(3 * 27) % 40"
   ]
  },
  {
   "cell_type": "code",
   "execution_count": 176,
   "metadata": {},
   "outputs": [
    {
     "name": "stdout",
     "output_type": "stream",
     "text": [
      "cifrado:  [18, 26, 36, 38, 30, 15, 38, 17, 11, 24, 11]\n",
      "descifrado hoy se gana\n"
     ]
    }
   ],
   "source": [
    "# escenario p = 5, q = 11, e = 27, d = 3\n",
    "mensaje = 'hoy se gana'\n",
    "m_cif = message2blocks(mensaje, possible_len=2)\n",
    "print(\"cifrado: \", m_cif)\n",
    "m_descif = blocks2message(m_cif)\n",
    "print('descifrado', m_descif)"
   ]
  },
  {
   "cell_type": "code",
   "execution_count": 191,
   "metadata": {},
   "outputs": [],
   "source": [
    "p = 5\n",
    "q = 11\n",
    "m = p*q\n",
    "phi_m = (p-1) * (q-1)\n",
    "e = 27"
   ]
  },
  {
   "cell_type": "code",
   "execution_count": 192,
   "metadata": {},
   "outputs": [],
   "source": [
    "d = inverse_of(e, phi_m)"
   ]
  },
  {
   "cell_type": "code",
   "execution_count": 193,
   "metadata": {},
   "outputs": [
    {
     "data": {
      "text/plain": [
       "[17, 16, 31, 47, 35, 5, 47, 8, 11, 29, 11]"
      ]
     },
     "execution_count": 193,
     "metadata": {},
     "output_type": "execute_result"
    }
   ],
   "source": [
    "encriptado = encode_rsa(m, e, m_cif)\n",
    "encriptado"
   ]
  },
  {
   "cell_type": "code",
   "execution_count": 194,
   "metadata": {},
   "outputs": [
    {
     "name": "stdout",
     "output_type": "stream",
     "text": [
      "[18, 26, 36, 38, 30, 15, 38, 17, 11, 24, 11]\n",
      "hoy se gana\n"
     ]
    }
   ],
   "source": [
    "desencriptado = decode_rsa(m, d, encriptado)\n",
    "print(desencriptado)\n",
    "print(blocks2message(desencriptado))"
   ]
  },
  {
   "cell_type": "code",
   "execution_count": 182,
   "metadata": {},
   "outputs": [
    {
     "data": {
      "text/plain": [
       "16"
      ]
     },
     "execution_count": 182,
     "metadata": {},
     "output_type": "execute_result"
    }
   ],
   "source": [
    "nt.totient(40)"
   ]
  },
  {
   "cell_type": "code",
   "execution_count": 183,
   "metadata": {},
   "outputs": [
    {
     "data": {
      "text/plain": [
       "27"
      ]
     },
     "execution_count": 183,
     "metadata": {},
     "output_type": "execute_result"
    }
   ],
   "source": [
    "pow(27, 5, 40)"
   ]
  },
  {
   "cell_type": "code",
   "execution_count": 187,
   "metadata": {},
   "outputs": [
    {
     "data": {
      "text/plain": [
       "3"
      ]
     },
     "execution_count": 187,
     "metadata": {},
     "output_type": "execute_result"
    }
   ],
   "source": [
    "(27*27*27) % 40"
   ]
  },
  {
   "cell_type": "code",
   "execution_count": null,
   "metadata": {},
   "outputs": [],
   "source": []
  }
 ],
 "metadata": {
  "kernelspec": {
   "display_name": "Python 3",
   "language": "python",
   "name": "python3"
  },
  "language_info": {
   "codemirror_mode": {
    "name": "ipython",
    "version": 3
   },
   "file_extension": ".py",
   "mimetype": "text/x-python",
   "name": "python",
   "nbconvert_exporter": "python",
   "pygments_lexer": "ipython3",
   "version": "3.9.5"
  },
  "orig_nbformat": 4
 },
 "nbformat": 4,
 "nbformat_minor": 2
}
