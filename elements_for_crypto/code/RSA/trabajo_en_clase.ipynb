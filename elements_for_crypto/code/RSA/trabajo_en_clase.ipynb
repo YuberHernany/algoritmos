{
 "cells": [
  {
   "cell_type": "code",
   "execution_count": 9,
   "metadata": {},
   "outputs": [],
   "source": [
    "\n",
    "import numpy as np\n",
    "import sympy.ntheory as nt\n",
    "import sympy as sy\n"
   ]
  },
  {
   "cell_type": "code",
   "execution_count": 10,
   "metadata": {},
   "outputs": [],
   "source": [
    "\n",
    "alphabet = list('abcdefghijklmnñopqrstuvwxyz')\n",
    "N = len(alphabet)\n",
    "alphabet += [' ']\n",
    "numbers = list(11 + np.arange(N)) + [38]\n",
    "\n",
    "DICT = {letter:number for letter, number in zip(alphabet, numbers)}\n",
    "DICT_INV = {number:letter for letter, number in zip(alphabet, numbers)}\n"
   ]
  },
  {
   "cell_type": "code",
   "execution_count": 11,
   "metadata": {},
   "outputs": [
    {
     "data": {
      "text/plain": [
       "{11: 'a',\n",
       " 12: 'b',\n",
       " 13: 'c',\n",
       " 14: 'd',\n",
       " 15: 'e',\n",
       " 16: 'f',\n",
       " 17: 'g',\n",
       " 18: 'h',\n",
       " 19: 'i',\n",
       " 20: 'j',\n",
       " 21: 'k',\n",
       " 22: 'l',\n",
       " 23: 'm',\n",
       " 24: 'n',\n",
       " 25: 'ñ',\n",
       " 26: 'o',\n",
       " 27: 'p',\n",
       " 28: 'q',\n",
       " 29: 'r',\n",
       " 30: 's',\n",
       " 31: 't',\n",
       " 32: 'u',\n",
       " 33: 'v',\n",
       " 34: 'w',\n",
       " 35: 'x',\n",
       " 36: 'y',\n",
       " 37: 'z',\n",
       " 38: ' '}"
      ]
     },
     "execution_count": 11,
     "metadata": {},
     "output_type": "execute_result"
    }
   ],
   "source": [
    "DICT_INV"
   ]
  },
  {
   "cell_type": "code",
   "execution_count": 12,
   "metadata": {},
   "outputs": [
    {
     "name": "stdout",
     "output_type": "stream",
     "text": [
      "['a', 'b', 'c', 'd', 'e', 'f', 'g', 'h', 'i', 'j', 'k', 'l', 'm', 'n', 'ñ', 'o', 'p', 'q', 'r', 's', 't', 'u', 'v', 'w', 'x', 'y', 'z', ' ']\n",
      "<class 'list'>\n"
     ]
    }
   ],
   "source": [
    "# ej 1)\n",
    "print(alphabet)\n",
    "print(type(alphabet))"
   ]
  },
  {
   "cell_type": "code",
   "execution_count": 13,
   "metadata": {},
   "outputs": [],
   "source": [
    "\n",
    "def message2digits(message):\n",
    "    \"\"\"INPUTS: message (str)\n",
    "      OUTPUTS: digits_str (str)\"\"\"\n",
    "    digits_list = [str(DICT[letter]) for letter in message]\n",
    "    digits_str = \"\"\n",
    "    for string in digits_list:\n",
    "        digits_str += string\n",
    "    return digits_str\n",
    "\n",
    "def regular_blocks(digits_str, possible_len=4):\n",
    "    \"\"\"INPUTS: digits_str (str), possible_len (int) default 4\n",
    "        OUTPUTS: list of strings whose characters are integers\"\"\"\n",
    "    L = possible_len\n",
    "    my_blocks = []\n",
    "    n = len(digits_str) // L\n",
    "    for i in range(n):\n",
    "        my_blocks.append(digits_str[L*i:L*(i+1)])\n",
    "    return my_blocks\n",
    "\n",
    "\n",
    "def join_blocks_starting_with_zero(blocks):\n",
    "    \"\"\"INPUTS: blocks (list of strings_of_digits)\n",
    "       OUTPUTS: (list) of string_of_digits that don't start with zero\"\"\"\n",
    "    new_blocks = [blocks[0]]\n",
    "    for block in blocks[1:]:\n",
    "        if block[0] != '0':\n",
    "            new_blocks.append(block)\n",
    "        else:\n",
    "            new_blocks[-1] += block\n",
    "    return new_blocks\n",
    "\n",
    "def blocks_like_str(digits_str, possible_len=4):\n",
    "    \"\"\"INPUTS: digits_str (str) whose characters are digits\n",
    "    OUTPUTS: list of strings whose characters are digits\"\"\"\n",
    "    reg_blocks = regular_blocks(digits_str, possible_len=possible_len)\n",
    "    my_blocks = join_blocks_starting_with_zero(reg_blocks)\n",
    "    return my_blocks\n",
    "\n",
    "def blocks_like_int(my_blocks_like_str):\n",
    "    \"\"\"INPUTS: my_blocks_like_str (list) of string whose characters are digits\n",
    "        OUTPUTS: (list) of integers. That will be used for ecryption method\"\"\"\n",
    "    return [int(block) for block in my_blocks_like_str]\n",
    "\n",
    "def message2blocks(message, possible_len=4):\n",
    "    digits_str = message2digits(message)\n",
    "    my_blocks_str = blocks_like_str(digits_str, possible_len=possible_len)\n",
    "    my_blocks_int = blocks_like_int(my_blocks_str)\n",
    "    return my_blocks_int\n",
    "\n"
   ]
  },
  {
   "cell_type": "code",
   "execution_count": 14,
   "metadata": {},
   "outputs": [
    {
     "name": "stdout",
     "output_type": "stream",
     "text": [
      "111213141112131411121314\n"
     ]
    }
   ],
   "source": [
    "mensaje= \"abcdabcdabcd\"\n",
    "print (message2digits(mensaje))"
   ]
  },
  {
   "cell_type": "code",
   "execution_count": 15,
   "metadata": {},
   "outputs": [
    {
     "name": "stdout",
     "output_type": "stream",
     "text": [
      "[]\n"
     ]
    }
   ],
   "source": [
    "cifrado= \"111213141112131411121314\"\n",
    "print (regular_blocks(cifrado, possible_len=30))"
   ]
  },
  {
   "cell_type": "code",
   "execution_count": 16,
   "metadata": {},
   "outputs": [
    {
     "data": {
      "text/plain": [
       "'1815222226383426292214'"
      ]
     },
     "execution_count": 16,
     "metadata": {},
     "output_type": "execute_result"
    }
   ],
   "source": [
    "message2digits(\"hello world\")"
   ]
  },
  {
   "cell_type": "code",
   "execution_count": 27,
   "metadata": {},
   "outputs": [
    {
     "data": {
      "text/plain": [
       "[381826, 221138, 233224, 142638, 181522, 222638, 342629, 221438]"
      ]
     },
     "execution_count": 27,
     "metadata": {},
     "output_type": "execute_result"
    }
   ],
   "source": [
    "message2blocks(' hola mundo hello world ', possible_len=6)"
   ]
  },
  {
   "cell_type": "code",
   "execution_count": null,
   "metadata": {},
   "outputs": [],
   "source": []
  }
 ],
 "metadata": {
  "kernelspec": {
   "display_name": "Python 3",
   "language": "python",
   "name": "python3"
  },
  "language_info": {
   "codemirror_mode": {
    "name": "ipython",
    "version": 3
   },
   "file_extension": ".py",
   "mimetype": "text/x-python",
   "name": "python",
   "nbconvert_exporter": "python",
   "pygments_lexer": "ipython3",
   "version": "3.9.5"
  },
  "orig_nbformat": 4
 },
 "nbformat": 4,
 "nbformat_minor": 2
}
