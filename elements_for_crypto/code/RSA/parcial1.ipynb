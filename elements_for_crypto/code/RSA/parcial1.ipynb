{
 "cells": [
  {
   "attachments": {},
   "cell_type": "markdown",
   "metadata": {},
   "source": [
    "#### Parcial 1 Electiva II. Criptografía. Licenciatura en Matemáticas. UdeA.\n",
    "<img src = 'escudo.jpg' width=80> "
   ]
  },
  {
   "attachments": {},
   "cell_type": "markdown",
   "metadata": {},
   "source": [
    "Use la `tabla de correspondencia` siguiente:\n",
    "\n",
    "\n",
    "|A|B|C|D|E|F|G|H|I|J|K|L|M|N|Ñ|\n",
    "|---|---|---|---|---|---|---|---|---|---|---|---|---|---|---|\n",
    "|11|12|13|14|15|16|17|18|19|20|21|22|23|24|25|\n",
    "\n",
    "|O|P|Q|R|S|T|U|V|W|X|Y|Z| |\n",
    "|---|---|---|---|---|---|---|---|---|---|---|---|---|\n",
    "|26|27|28|29|30|31|32|33|34|35|36|37|38|\n"
   ]
  },
  {
   "attachments": {},
   "cell_type": "markdown",
   "metadata": {},
   "source": [
    "1) Un profesor malintencionado ha preparado un parcial \"imposible\" para sus estudiantes. \n",
    "Mientras el profesor se descuidó mirando la final de la Champions League entre M. City e Inter,\n",
    "algunos estudiantes hackearon el directorio del parcial y descubrieron que se ha guardado un \n",
    "problema del parcial con el criptosistema `RSA` y con claves privadas $p=5$, $q=11$, $e=27$. En los siguientes bloques está el mensaje oculto, del punto del parcial. \n",
    "\n",
    "`oculto = [17, 16, 31, 47, 35, 5, 47, 8, 11, 29, 11]`\n",
    "\n",
    "Recuerde que en `RSA`, la clave para desencriptar se encuentra resolviendo la congruencia $\\ \\ ed \\equiv 1 \\  \\mod \\varphi(pq)$ y la fórmula para resolverla es: $d \\equiv e ^{\\varphi(\\varphi(pq)) - 1} \\mod \\varphi(pq) $. (**Ayuda**: tenga en cuenta que en este caso en particular, $\\ \\ e ^{5} \\equiv e \\mod (\\varphi(pq)) $ ) \n",
    "\n",
    "\n",
    "No olvide que si $b$ es un número de la lista `oculto`, usted debe someter a $b$ al proceso $\\ \\ b ^{d} \\equiv r \\mod m  \\ \\ $ donde $r$ es el residuo de dividir por $m=pq.\\ \\  $ Debe dejar por escrito el cálculo de cada valor en el proceso.    \n",
    "\n",
    "2) Un estadounidense malintencionado asegura que tiene un plan descrito en la frase:\n",
    "\n",
    "`mensaje` = \"a man a plan a canal panama\"\n",
    "\n",
    "Intenta ocultar el mensaje al invertir las letras de orden, pero nota que obtiene nuevamente el mismo mensaje ( frase palíndroma ). Es por eso que mejor decide encriptarlo usando `RSA` con claves públicas $m=pq=55$ y $e = 3$ (Ignore el nivel de seguridad \n",
    "ridículo). Use la `tabla de correspondencia` para cifrar el mensaje y luego encripte con `RSA`. Debe dejar por escrito el cálculo de cada valor en el proceso."
   ]
  },
  {
   "cell_type": "markdown",
   "metadata": {},
   "source": []
  }
 ],
 "metadata": {
  "kernelspec": {
   "display_name": "Python 3",
   "language": "python",
   "name": "python3"
  },
  "language_info": {
   "name": "python",
   "version": "3.9.5"
  },
  "orig_nbformat": 4
 },
 "nbformat": 4,
 "nbformat_minor": 2
}
