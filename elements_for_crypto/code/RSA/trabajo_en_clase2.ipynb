{
 "cells": [
  {
   "cell_type": "code",
   "execution_count": null,
   "metadata": {},
   "outputs": [],
   "source": [
    "import numpy as np\n",
    "import sympy.ntheory as nt\n",
    "import sympy as sy\n",
    "\n",
    "alphabet = list('abcdefghijklmnñopqrstuvwxyz')\n",
    "N = len(alphabet)\n",
    "alphabet += [' ']\n",
    "numbers = list(11 + np.arange(N)) + [38]\n",
    "\n",
    "DICT = {letter:number for letter, number in zip(alphabet, numbers)}\n",
    "DICT_INV = {number:letter for letter, number in zip(alphabet, numbers)}\n",
    "\n",
    "def unified_string(blocks):\n",
    "    \"\"\"INPUTS: blocks (list of ints)\n",
    "      OUTPUTS: unified (str)\"\"\"\n",
    "    blocks_str = [str(block) for block in blocks]\n",
    "    unified = \"\"\n",
    "    for block_str in blocks_str:\n",
    "        unified += block_str\n",
    "    return unified\n",
    "\n",
    "def digits2message(digits_str):\n",
    "    \"\"\"INPUTS: digits_str (str) whose characters are digits\n",
    "      OUTPUTS: message (str) whose characters are letter from alphabet\n",
    "    \"\"\"\n",
    "    pairs_of_digits = [digits_str[i:i+2] for i in range(0, len(digits_str), 2)]\n",
    "    letters = [DICT_INV[int(pair)] for pair in pairs_of_digits]\n",
    "    message = \"\"\n",
    "    for letter in letters:\n",
    "        message += letter\n",
    "    return message\n",
    "\n",
    "def blocks2message(blocks):\n",
    "    \"\"\"INPUTS: blocks (list of ints)\n",
    "      OUTPUTS: message (str)\"\"\"\n",
    "    my_digits_str = unified_string(blocks)\n",
    "    message = digits2message(my_digits_str)\n",
    "    return message\n",
    "    \n",
    "if __name__ == \"__main__\":\n",
    "    # my_blocks = ['11', '12', '13', '14']\n",
    "    # print(type(unified_string(my_blocks)))\n",
    "    # print(digits2message('111213141112131411121314'))\n",
    "    # print(blocks2message(my_blocks))\n",
    "    pass\n",
    "\n"
   ]
  }
 ],
 "metadata": {
  "language_info": {
   "name": "python"
  },
  "orig_nbformat": 4
 },
 "nbformat": 4,
 "nbformat_minor": 2
}
