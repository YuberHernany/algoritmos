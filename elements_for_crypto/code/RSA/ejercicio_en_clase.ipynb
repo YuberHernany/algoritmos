{
 "cells": [
  {
   "cell_type": "code",
   "execution_count": 1,
   "metadata": {},
   "outputs": [],
   "source": [
    "from tools_blocks2message import *\n",
    "from tools_message2blocks import *\n",
    "from tools_for_RSA import *"
   ]
  },
  {
   "cell_type": "code",
   "execution_count": 2,
   "metadata": {},
   "outputs": [
    {
     "data": {
      "text/plain": [
       "[13, 11, 22, 23, 11, 38, 13, 11, 22, 23, 11, 38, 13, 11, 22, 23, 11]"
      ]
     },
     "execution_count": 2,
     "metadata": {},
     "output_type": "execute_result"
    }
   ],
   "source": [
    "mensaje = 'calma calma calma'\n",
    "bloques = message2blocks(mensaje, possible_len=2)\n",
    "bloques"
   ]
  },
  {
   "cell_type": "code",
   "execution_count": 4,
   "metadata": {},
   "outputs": [
    {
     "name": "stdout",
     "output_type": "stream",
     "text": [
      "[693, 1366, 1202, 1201, 1366, 888, 693, 1366, 1202, 1201, 1366, 888, 693, 1366, 1202, 1201, 1366]\n"
     ]
    }
   ],
   "source": [
    "m_esteban, e_esteban = 1853, 329\n",
    "\n",
    "encriptado = encode_rsa(m_esteban, e_esteban, bloques)\n",
    "print(encriptado)"
   ]
  },
  {
   "cell_type": "code",
   "execution_count": 2,
   "metadata": {},
   "outputs": [],
   "source": [
    "p = nt.prime(25)\n",
    "q = nt.prime(85)\n",
    "m = p * q\n",
    "phi_m = (p-1)*(q-1)\n",
    "e = 5"
   ]
  },
  {
   "cell_type": "code",
   "execution_count": 3,
   "metadata": {},
   "outputs": [],
   "source": [
    "d = inverse_of(e, phi_m)"
   ]
  },
  {
   "cell_type": "code",
   "execution_count": 4,
   "metadata": {},
   "outputs": [
    {
     "data": {
      "text/plain": [
       "25229"
      ]
     },
     "execution_count": 4,
     "metadata": {},
     "output_type": "execute_result"
    }
   ],
   "source": [
    "d"
   ]
  },
  {
   "cell_type": "code",
   "execution_count": 5,
   "metadata": {},
   "outputs": [],
   "source": [
    "mens_jhoa = [30629, 15916, 6285, 27690, 6310, 35464, 30788, 30629, 28726, 6285, 41019, 13375, 719, 27690, 6285, 27690, 13375, 35464, 6310, 33302, 30788, 30629, 15916, 6285, 27690, 6310, 35464, 30788, 30629, 28726, 6285, 41019, 13375, 719, 27690, 6285, 27690, 13375, 35464, 6310, 33302]"
   ]
  },
  {
   "cell_type": "code",
   "execution_count": 6,
   "metadata": {},
   "outputs": [],
   "source": [
    "mens_desen = decode_rsa(m, d, mens_jhoa)"
   ]
  },
  {
   "cell_type": "code",
   "execution_count": 7,
   "metadata": {},
   "outputs": [
    {
     "data": {
      "text/plain": [
       "'chisme criptosistema chisme criptosistema'"
      ]
     },
     "execution_count": 7,
     "metadata": {},
     "output_type": "execute_result"
    }
   ],
   "source": [
    "blocks2message(mens_desen)"
   ]
  },
  {
   "cell_type": "code",
   "execution_count": null,
   "metadata": {},
   "outputs": [],
   "source": []
  }
 ],
 "metadata": {
  "kernelspec": {
   "display_name": "Python 3",
   "language": "python",
   "name": "python3"
  },
  "language_info": {
   "codemirror_mode": {
    "name": "ipython",
    "version": 3
   },
   "file_extension": ".py",
   "mimetype": "text/x-python",
   "name": "python",
   "nbconvert_exporter": "python",
   "pygments_lexer": "ipython3",
   "version": "3.9.5"
  },
  "orig_nbformat": 4
 },
 "nbformat": 4,
 "nbformat_minor": 2
}
