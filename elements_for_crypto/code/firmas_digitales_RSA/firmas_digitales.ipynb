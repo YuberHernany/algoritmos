{
 "cells": [
  {
   "attachments": {},
   "cell_type": "markdown",
   "metadata": {},
   "source": [
    "### Firmas Digitales\n",
    "\n",
    "La criptografía es usada en la relación Banco-Cliente en tareas como:\n",
    "\n",
    "* Transferencias\n",
    "* Pagos\n",
    "\n",
    "¿Cómo determina el banco, que una petición proviene de un cliente legítimo?, es decir ¿Cómo puede firmarse electrónicamente un mensaje?\n",
    "\n",
    "Recuerde que RSA tiene los siguientes detalles:\n",
    "\n",
    "* $p, q$ primos.\n",
    "* $m= pq$.\n",
    "* $e$ tal que $mcd(e, \\varphi(m))=1$.\n",
    "* Clave pública del banco $E=(e,m)$.\n",
    "* Clave secreta del banco $D=(d,m)$, con $d = e ^{-1} $ módulo $\\varphi(m)$.\n",
    "\n",
    "Si un cliente quiere enviar un mensaje al banco, debe usar la clave pública del banco. El cliente convierte su mensaje en un número,  separa éste en bloques $b < m$, y encripta cada bloque $b$ así: \n",
    "$$E(b) = \\text{residuo de } b ^{e}\\ \\text{módulo } m $$ \n",
    "\n",
    "El banco recibe el bloque encriptado $a \\equiv b ^{e}\\quad \\text{mód}\\ m $. Para desencriptar este bloque el banco usa su clave privada y calcula $$D(a) = \\text{residuo de } a ^{d}\\ \\text{módulo}\\ m $$ "
   ]
  },
  {
   "attachments": {},
   "cell_type": "markdown",
   "metadata": {},
   "source": [
    "Denote con $E _{B} $ y $D _{B} $ las claves públicas y privadas del banco $B$, y para el cliente $C$ se desarrolla su propio sistema RSA con claves $E _{C}$ y $D _{C} $ respectivamente.\n",
    "\n",
    "Sea $b$ un bloque del mensaje que el cliente $C$ desea enviar (firmado) al banco $B$; para eso el cliente usa la clave pública $E _{B} $, calcula $E _{B}(b) $; sin embargo, en lugar de enviar el bloque $E _{B}(b) $ el cliente envía el bloque $E _{B}(D _{C}(b) ) $ encriptando primero su clave privada $D _{B} $ con su clave privada $D _{C} $ y luego con la clave pública $E _{B} $ del banco.   \n",
    "\n",
    "El banco para recibir el mensaje y al mismo tiempo verificar la autenticidad de la firma del cliente, aplica su clave privada y luego aplica la clave pública del cliente $E _{C} $ para obtener $E _{C} D _{B}(E _{B} D _{C} (b)  ) =b $.  \n",
    "\n",
    "\n",
    "# poner obs sobre  $m _{C} $ y $m _{B} $  y $b < m _{C} $ y $b < m _{D} $  "
   ]
  },
  {
   "cell_type": "markdown",
   "metadata": {},
   "source": []
  }
 ],
 "metadata": {
  "language_info": {
   "name": "python"
  },
  "orig_nbformat": 4
 },
 "nbformat": 4,
 "nbformat_minor": 2
}
