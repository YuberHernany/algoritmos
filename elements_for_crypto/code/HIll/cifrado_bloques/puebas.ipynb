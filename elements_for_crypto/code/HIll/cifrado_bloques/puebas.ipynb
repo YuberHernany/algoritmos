{
 "cells": [
  {
   "cell_type": "code",
   "execution_count": 114,
   "metadata": {},
   "outputs": [],
   "source": [
    "import numpy as np\n",
    "import sympy.ntheory as nt\n",
    "from sympy.core import igcd\n",
    "import re\n",
    "\n",
    "# alphabet = 'abcdefghijklmnopqrstuvwxyz '\n",
    "# alphabet = 'aclmnp '\n",
    "# alphabet = 'aceilmotv '\n",
    "alphabet = 'acdeiltuv '\n",
    "numbers = np.arange(len(alphabet))\n",
    "DICT = {letter:number for letter, number in zip(alphabet, numbers)}\n",
    "DICT_INV = {value:key for key, value in DICT.items()}\n",
    "m = len(alphabet)\n",
    "def letter_to_number_block_n(block_str):\n",
    "    n = len(block_str)\n",
    "    return np.array([DICT[s] for s in block_str]).reshape(-1,1)\n",
    "\n",
    "def are_relative_primes(a, b):\n",
    "    return igcd(a, b) == 1\n",
    "\n",
    "def is_invertible(A, modulo=m):\n",
    "    \"\"\"verify if det(A) and modulo are relative primes\"\"\"\n",
    "    D = int(np.round(np.linalg.det(A))) % modulo\n",
    "    return are_relative_primes(D, modulo)\n",
    "\n",
    "def inverse_modulo(A, modulo=m):\n",
    "    if is_invertible(A):\n",
    "        a, b, c, d = A[0,0], A[0,1], A[1,0], A[1,1]\n",
    "        D = int(np.round(np.linalg.det(A))) % modulo\n",
    "        D_inv = (D ** (nt.totient(modulo) - 1)) % modulo\n",
    "        D_inv_neg = modulo - D_inv\n",
    "        A_inv = np.array([[D_inv * d, D_inv_neg * b], \n",
    "                          [D_inv_neg * c, D_inv * a]]).astype(np.int64)\n",
    "        A_inv = A_inv % modulo\n",
    "        return A_inv\n",
    "    else:\n",
    "        print('The matrix is not invertible')\n",
    "\n",
    "def complete_string(my_string):\n",
    "    if len(my_string) % 2 == 0:\n",
    "        return my_string\n",
    "    else:\n",
    "        return my_string + 'x'\n",
    "\n",
    "def separate_string_in_blocks(my_string, length_block=2):\n",
    "    new_string = complete_string(my_string)\n",
    "    blocks = [new_string[k:k+length_block] for k in range(0, len(new_string)-1, length_block)]\n",
    "    return blocks\n",
    "\n",
    "def create_number_blocks(my_string, length_block=2):\n",
    "    blocks_of_letters = separate_string_in_blocks(my_string, length_block=length_block)\n",
    "    C = np.hstack([letter_to_number_block_n(block_str) for block_str in blocks_of_letters])\n",
    "    return C\n",
    "\n",
    "def encrypt_num(key, my_string, modulo=m):\n",
    "    \"\"\"key is matrix invertible modulo\"\"\"\n",
    "    n_rows = len(key)\n",
    "    C_num = create_number_blocks(my_string, length_block=n_rows)\n",
    "    return (key @ C_num) % modulo\n",
    "\n",
    "def num2letter(number):\n",
    "    return DICT_INV[number]\n",
    "\n",
    "def nums2letters(matrix):\n",
    "    n_rows, n_cols = len(matrix), len(matrix.T)\n",
    "    return np.array([[num2letter(matrix[i][j]) for j in range(n_cols)] for i in range(n_rows)])\n",
    "\n",
    "def all_letters(matrix_of_letters):\n",
    "    return matrix_of_letters.T.ravel()\n",
    "\n",
    "def letters(matrix):\n",
    "    matrix_of_letters = nums2letters(matrix)\n",
    "    list_of_letters = all_letters(matrix_of_letters)\n",
    "    message = ''\n",
    "    for letter in list_of_letters:\n",
    "        message += letter\n",
    "    return message\n",
    "\n",
    "def encrypt_hill(key, my_string, modulo=m):\n",
    "    matrix = encrypt_num(key, my_string, modulo=modulo)\n",
    "    return letters(matrix)\n",
    "\n",
    "def dynamical_key(order=2):\n",
    "    potential_key = np.random.randint(low=0, high=m, size=(order, order))\n",
    "    while not is_invertible(potential_key):\n",
    "        potential_key = np.random.randint(low=0, high=m, size=(order, order))\n",
    "    return potential_key\n",
    "\n",
    "def flatened_dynamical_key(matrix):\n",
    "    return matrix.ravel()\n",
    "\n",
    "def head_info(flattened_matrix):\n",
    "    head = \"\"\n",
    "    for num in flattened_matrix:\n",
    "        head += np.random.choice(list(alphabet)) + str(num)\n",
    "    return head + \"_\"\n",
    "\n",
    "def encrypt_hill_info(key, my_string, modulo=m, order=2):\n",
    "    head = head_info(flatened_dynamical_key(key))\n",
    "    encrypt_message = encrypt_hill(key, my_string)\n",
    "    return head + encrypt_message\n",
    "\n",
    "def extract_number_from(my_string):\n",
    "    numbers = [int(s) for s in re.findall(r'\\d+', my_string)]\n",
    "    return np.array([[numbers[0], numbers[1]],\n",
    "                     [numbers[2], numbers[3]]]).astype(np.int32)\n",
    "\n",
    "def decrypt_hill(my_string):\n",
    "    index_cut = my_string.index(\"_\")\n",
    "    key = extract_number_from(my_string)\n",
    "    key_inv = inverse_modulo(key)\n",
    "    my_string_without_numbers = my_string[index_cut+1:]\n",
    "    decrypted = encrypt_hill(key_inv, my_string_without_numbers)\n",
    "    return decrypted\n",
    "\n",
    "# if __name__ == \"__main__\":\n",
    "#     pass \n",
    "\n",
    "\n",
    "# review because with 3block is not working\n",
    "\n",
    "# key = dynamical_key(order=3)\n",
    "# print('With the flatened key: ', flatened_dynamical_key(key))\n",
    "# key_inv = inverse_modulo(key)\n",
    "# message = 'tenecesitotenecesitotenecesito'\n",
    "# encrypted_message = encrypt_hill(key, message)\n",
    "# print(\"encrypted message: \", encrypted_message)\n",
    "# decrypted_message = encrypt_hill(key_inv, encrypted_message)\n",
    "# print(\"decrypted message: \", decrypted_message)\n",
    "# print(head_info(flatened_dynamical_key(key)))\n",
    "# print(letter_to_number_block_n('hola'))\n",
    "# A = np.array([[2,4], [2,4]])\n",
    "# A = np.array([[2,1], [6,7]])\n",
    "# A_inv = inverse_modulo(A)\n",
    "# A3 = np.array([[1,0,0],\n",
    "#               [0,1,0], \n",
    "#               [0,0,26]])\n",
    "# print(A)\n",
    "# print(is_invertible(A))\n",
    "# print(inverse_modulo(A))\n",
    "# print(A @ inverse_modulo(A))\n",
    "# print(complete_string('hola'))\n",
    "# print(encrypt_hill(A, 'yaentendi'))\n",
    "# print(encrypt_hill(A3, 'yaentendi'))\n",
    "\n",
    "# example decrypting\n",
    "# key = np.array([[4,5],[3,2]])\n",
    "# print(inverse_modulo(key))\n",
    "# key = np.array([[2,1],[6,7]])\n",
    "# key_decript = inverse_modulo(key)\n",
    "# sent = 'sñrtbñistj'\n",
    "# sent = 'wouhqncrna'\n",
    "# print(encrypt_hill(key_decript, sent))\n",
    "# print(key_decript)\n"
   ]
  },
  {
   "cell_type": "code",
   "execution_count": 106,
   "metadata": {},
   "outputs": [
    {
     "data": {
      "text/plain": [
       "array([[4, 1],\n",
       "       [1, 3]])"
      ]
     },
     "execution_count": 106,
     "metadata": {},
     "output_type": "execute_result"
    }
   ],
   "source": [
    "\n",
    "my_key = dynamical_key()\n",
    "# while (np.linalg.det(my_key) % 10) == 3:\n",
    "#     my_key = dynamical_key()\n",
    "my_key"
   ]
  },
  {
   "cell_type": "code",
   "execution_count": 115,
   "metadata": {},
   "outputs": [
    {
     "data": {
      "text/plain": [
       "array([[4, 1],\n",
       "       [1, 3]])"
      ]
     },
     "execution_count": 115,
     "metadata": {},
     "output_type": "execute_result"
    }
   ],
   "source": [
    "my_key"
   ]
  },
  {
   "cell_type": "code",
   "execution_count": 52,
   "metadata": {},
   "outputs": [
    {
     "data": {
      "text/plain": [
       "array([[9, 5],\n",
       "       [0, 7]])"
      ]
     },
     "execution_count": 52,
     "metadata": {},
     "output_type": "execute_result"
    }
   ],
   "source": [
    "A_inversa = inverse_modulo(my_key)\n",
    "A_inversa"
   ]
  },
  {
   "cell_type": "code",
   "execution_count": 118,
   "metadata": {},
   "outputs": [
    {
     "data": {
      "text/plain": [
       "['de', 'ta', 'll', 'a ', 'tu', ' e', 'le', 'ct', 'iv', 'a ']"
      ]
     },
     "execution_count": 118,
     "metadata": {},
     "output_type": "execute_result"
    }
   ],
   "source": [
    "mensaje = \"detalla tu electiva \"\n",
    "separate_string_in_blocks(mensaje)"
   ]
  },
  {
   "cell_type": "code",
   "execution_count": 119,
   "metadata": {},
   "outputs": [
    {
     "data": {
      "text/plain": [
       "array([[2, 6, 5, 0, 6, 9, 5, 1, 4, 0],\n",
       "       [3, 0, 5, 9, 7, 3, 3, 6, 8, 9]])"
      ]
     },
     "execution_count": 119,
     "metadata": {},
     "output_type": "execute_result"
    }
   ],
   "source": [
    "b = create_number_blocks(mensaje)\n",
    "b"
   ]
  },
  {
   "cell_type": "code",
   "execution_count": 62,
   "metadata": {},
   "outputs": [
    {
     "data": {
      "text/plain": [
       "'oacooolctlmtmvoa'"
      ]
     },
     "execution_count": 62,
     "metadata": {},
     "output_type": "execute_result"
    }
   ],
   "source": [
    "letters((my_key @ b) % 10)"
   ]
  },
  {
   "cell_type": "code",
   "execution_count": 63,
   "metadata": {},
   "outputs": [
    {
     "data": {
      "text/plain": [
       "array([[6, 1, 6, 4, 7, 5, 5, 6],\n",
       "       [0, 6, 6, 1, 4, 7, 8, 0]])"
      ]
     },
     "execution_count": 63,
     "metadata": {},
     "output_type": "execute_result"
    }
   ],
   "source": [
    "encriptado = \"oacooolctlmtmvoa\"\n",
    "create_number_blocks(encriptado)"
   ]
  },
  {
   "cell_type": "code",
   "execution_count": 57,
   "metadata": {},
   "outputs": [
    {
     "data": {
      "text/plain": [
       "'la electiva mola'"
      ]
     },
     "execution_count": 57,
     "metadata": {},
     "output_type": "execute_result"
    }
   ],
   "source": [
    "letters((A_inversa @ create_number_blocks(encriptado)) % 10)"
   ]
  },
  {
   "cell_type": "code",
   "execution_count": 54,
   "metadata": {},
   "outputs": [],
   "source": [
    "men = \"la electiva mola\""
   ]
  },
  {
   "cell_type": "code",
   "execution_count": 55,
   "metadata": {},
   "outputs": [
    {
     "data": {
      "text/plain": [
       "10"
      ]
     },
     "execution_count": 55,
     "metadata": {},
     "output_type": "execute_result"
    }
   ],
   "source": [
    "len(set(men))"
   ]
  },
  {
   "cell_type": "code",
   "execution_count": 9,
   "metadata": {},
   "outputs": [
    {
     "data": {
      "text/plain": [
       "27"
      ]
     },
     "execution_count": 9,
     "metadata": {},
     "output_type": "execute_result"
    }
   ],
   "source": [
    "set(\"a man a plan a canal panama\")\n",
    "len(\"a man a plan a canal panama\")"
   ]
  },
  {
   "cell_type": "code",
   "execution_count": 14,
   "metadata": {},
   "outputs": [
    {
     "data": {
      "text/plain": [
       "array([[6, 1],\n",
       "       [6, 2]])"
      ]
     },
     "execution_count": 14,
     "metadata": {},
     "output_type": "execute_result"
    }
   ],
   "source": [
    "my_key = np.array([[6, 1], [6,2]])\n",
    "my_key"
   ]
  },
  {
   "cell_type": "code",
   "execution_count": 17,
   "metadata": {},
   "outputs": [
    {
     "data": {
      "text/plain": [
       "array([[6, 4, 2, 6, 4, 4, 1, 2, 4, 2, 6, 4, 3, 6],\n",
       "       [5, 4, 1, 5, 6, 1, 1, 3, 1, 4, 4, 1, 6, 5]])"
      ]
     },
     "execution_count": 17,
     "metadata": {},
     "output_type": "execute_result"
    }
   ],
   "source": [
    "(my_key @ create_number_blocks(\"a man a plan a canal panama \")) % 7"
   ]
  },
  {
   "cell_type": "code",
   "execution_count": 18,
   "metadata": {},
   "outputs": [
    {
     "data": {
      "text/plain": [
       "' pnnlc pn nccclmncln nncm  p'"
      ]
     },
     "execution_count": 18,
     "metadata": {},
     "output_type": "execute_result"
    }
   ],
   "source": [
    "letters((my_key @ create_number_blocks(\"a man a plan a canal panama \")) % 7)"
   ]
  },
  {
   "cell_type": "code",
   "execution_count": 30,
   "metadata": {},
   "outputs": [
    {
     "data": {
      "text/plain": [
       "6.0"
      ]
     },
     "execution_count": 30,
     "metadata": {},
     "output_type": "execute_result"
    }
   ],
   "source": [
    "np.linalg.det(my_key)"
   ]
  },
  {
   "cell_type": "code",
   "execution_count": 21,
   "metadata": {},
   "outputs": [],
   "source": [
    "men = \"la electiva mola\""
   ]
  },
  {
   "cell_type": "code",
   "execution_count": 23,
   "metadata": {},
   "outputs": [
    {
     "data": {
      "text/plain": [
       "{' ', 'a', 'c', 'e', 'i', 'l', 'm', 'o', 't', 'v'}"
      ]
     },
     "execution_count": 23,
     "metadata": {},
     "output_type": "execute_result"
    }
   ],
   "source": [
    "set(men)"
   ]
  },
  {
   "cell_type": "code",
   "execution_count": 26,
   "metadata": {},
   "outputs": [
    {
     "data": {
      "text/plain": [
       "6"
      ]
     },
     "execution_count": 26,
     "metadata": {},
     "output_type": "execute_result"
    }
   ],
   "source": [
    "pow(6, int(nt.totient(10)-1), 10)"
   ]
  },
  {
   "cell_type": "code",
   "execution_count": 81,
   "metadata": {},
   "outputs": [
    {
     "data": {
      "text/plain": [
       "{' ', 'a', 'c', 'd', 'e', 'i', 'l', 't', 'u', 'v'}"
      ]
     },
     "execution_count": 81,
     "metadata": {},
     "output_type": "execute_result"
    }
   ],
   "source": [
    "set(\"detalla tu electiva\")"
   ]
  },
  {
   "cell_type": "code",
   "execution_count": null,
   "metadata": {},
   "outputs": [],
   "source": []
  }
 ],
 "metadata": {
  "kernelspec": {
   "display_name": "Python 3",
   "language": "python",
   "name": "python3"
  },
  "language_info": {
   "codemirror_mode": {
    "name": "ipython",
    "version": 3
   },
   "file_extension": ".py",
   "mimetype": "text/x-python",
   "name": "python",
   "nbconvert_exporter": "python",
   "pygments_lexer": "ipython3",
   "version": "3.9.5"
  },
  "orig_nbformat": 4
 },
 "nbformat": 4,
 "nbformat_minor": 2
}
