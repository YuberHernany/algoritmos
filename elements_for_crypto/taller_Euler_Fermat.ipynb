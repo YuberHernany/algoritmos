{
 "cells": [
  {
   "attachments": {},
   "cell_type": "markdown",
   "metadata": {},
   "source": [
    "### Taller"
   ]
  },
  {
   "attachments": {},
   "cell_type": "markdown",
   "metadata": {},
   "source": [
    "1) Suponga que $p _{ 1} , p _{ 2} , \\cdots , p _{r} $ son los primos distintos que dividen a $m$. Argumente por qué $\\varphi(m)$ se puede calcular en la forma $$m \\left( 1 - \\frac{1}{p _{ 1} } \\right) \\left( 1 - \\frac{1}{p _{ 2} } \\right) \\cdots \\left( 1 - \\frac{1}{p _{ r} } \\right)$$   "
   ]
  },
  {
   "attachments": {},
   "cell_type": "markdown",
   "metadata": {},
   "source": [
    "2) Use el teorema de Fermat para\n",
    "\n",
    "* Encontrar un número $0 \\leq a < 73$ tal que $a \\equiv 9 ^{794}\\quad \\text{mód}\\ 73 $  \n",
    "\n",
    "* Resolver la congruencia $x ^{86} \\equiv 6\\quad \\text{mód}\\ 29 $ \n",
    "\n",
    "* Resolver la congruencia $x ^{39} \\equiv 8\\quad \\text{mód}\\ 13 $ "
   ]
  },
  {
   "attachments": {},
   "cell_type": "markdown",
   "metadata": {},
   "source": [
    "3) Construya un conjetura sobre el número $(p-1)! \\quad \\text{mód} \\ p$ (con $p$ primo). Explíquela.\n",
    "\n",
    "**Sug**: Con $p$ primo impar, los números $2,3,4,5, \\cdots, p-2$ (cantidad par de números), se pueden agrupar por parejas de respectivos inversos multiplicativos módulo $p$. "
   ]
  },
  {
   "cell_type": "code",
   "execution_count": 8,
   "metadata": {},
   "outputs": [],
   "source": [
    "import sympy.ntheory as nt\n",
    "import sympy as sy"
   ]
  },
  {
   "cell_type": "code",
   "execution_count": 11,
   "metadata": {},
   "outputs": [
    {
     "name": "stdout",
     "output_type": "stream",
     "text": [
      "(2 - 1)! mod 2, es:  1\n",
      "(3 - 1)! mod 3, es:  2\n",
      "(5 - 1)! mod 5, es:  4\n",
      "(7 - 1)! mod 7, es:  6\n",
      "(11 - 1)! mod 11, es:  10\n",
      "(13 - 1)! mod 13, es:  12\n",
      "(17 - 1)! mod 17, es:  16\n",
      "(19 - 1)! mod 19, es:  18\n",
      "(23 - 1)! mod 23, es:  22\n",
      "(29 - 1)! mod 29, es:  28\n",
      "(31 - 1)! mod 31, es:  30\n",
      "(37 - 1)! mod 37, es:  36\n",
      "(41 - 1)! mod 41, es:  40\n",
      "(43 - 1)! mod 43, es:  42\n",
      "(47 - 1)! mod 47, es:  46\n"
     ]
    }
   ],
   "source": [
    "for p in list(nt.primerange(2, 50)):\n",
    "    print(f\"({p} - 1)! mod {p}, es: \", sy.factorial(p-1) % p)"
   ]
  },
  {
   "cell_type": "code",
   "execution_count": null,
   "metadata": {},
   "outputs": [],
   "source": []
  }
 ],
 "metadata": {
  "kernelspec": {
   "display_name": "Python 3",
   "language": "python",
   "name": "python3"
  },
  "language_info": {
   "codemirror_mode": {
    "name": "ipython",
    "version": 3
   },
   "file_extension": ".py",
   "mimetype": "text/x-python",
   "name": "python",
   "nbconvert_exporter": "python",
   "pygments_lexer": "ipython3",
   "version": "3.9.5"
  },
  "orig_nbformat": 4
 },
 "nbformat": 4,
 "nbformat_minor": 2
}
