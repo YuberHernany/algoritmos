{
 "cells": [
  {
   "attachments": {},
   "cell_type": "markdown",
   "metadata": {},
   "source": [
    "#### Criptosistema RSA"
   ]
  },
  {
   "attachments": {},
   "cell_type": "markdown",
   "metadata": {},
   "source": [
    "Para encriptar un mensaje, el primer paso es convertirlo en una secuencia de números como lo indica la siguiente tabla:\n",
    "|A|B|C|D|E|F|G|H|I|J|K|L|M|N|Ñ|O|P|Q|R|S|T|U|V|W|X|Y|Z|\n",
    "|---|---|---|---|---|---|---|---|---|---|---|---|---|---|---|---|---|---|---|---|---|---|---|---|---|---|---|\n",
    "|11|12|13|14|15|16|17|18|19|20|21|22|23|24|25|26|27|28|29|30|31|32|33|34|35|36|37|\n",
    "\n",
    "y al espacio entre palabras le asignamos los dígitos $99$. Así, \"hola mundo\" se convierte en 18262211992332241426.\n",
    "\n",
    "|H|O|L|A| |M|U|N|D|O|\n",
    "|---|---|---|---|---|---|---|---|---|---|\n",
    "|18|26|22|11|99|23|32|24|14|26|"
   ]
  },
  {
   "attachments": {},
   "cell_type": "markdown",
   "metadata": {},
   "source": [
    "* El siguiente paso es elegir dos números primos (grandes) $p$ y $q$.\n",
    "\n",
    "* Calcular el producto $m=pq$, como módulo.\n",
    "\n",
    "* Se calcula $\\varphi(m) = \\varphi(p) \\varphi(q)=(p-1)(q-1)$. \n",
    "\n",
    "* Se escoge un exponente entero $e$, coprimo con $\\varphi(m)$.  \n",
    "\n",
    "\n"
   ]
  },
  {
   "attachments": {},
   "cell_type": "markdown",
   "metadata": {},
   "source": [
    "El encriptador hace públicos $m$ y $e$ pero mantiene $p, q$ y $\\varphi(m)$ secretos. Así, cualquiera que desee enviar un mensaje encriptado sólo usa $m$ y $e$ en el proceso; para materializar el proceso de encriptar sigue los pasos:\n",
    "\n",
    "* Convierte el mensaje en una secuencia de dígitos como se ejemplificó antes.\n",
    "\n",
    "* Usando módulo $m$ separa la secuencia de dígitos en grupos de números menores que $m$. Así, el mensaje se convierte ahora en una lista de números $a _{ 1} , a _{ 2} , \\dots , a _{r} $ (con $a _{j}<m, \\ \\forall j $ ). **Observación**: la elección de bloques no es única, pero se require para evitar problemas al descifrar que ningún bloque comience con cero.\n",
    "\n",
    "* Usando el exponente $e$, calcula las potencias módulo $m$: $$a _{ 1} ^{e} (\\text{mód}\\ m) ,\\  a _{ 2} ^{e} (\\text{mód}\\ m),\\  \\dots, \\ a _{ r} ^{e} (\\text{mód}\\ m)$$  \n",
    "Así, el mensaje encriptado es la lista de números $b _{ 1} , \\ b_{2}, \\ \\dots, \\ b _{r}  $ tales que $b _{j} = a _{j} ^{e}\\quad \\text{mód}\\ m   $.\n",
    "\n",
    "* Para recuperar el mensaje original, es decir, los $a _{ 1} , \\ a_{2}, \\ \\dots, \\ a _{r}  $, se calcula el número $u$ tal que $$eu\\equiv 1\\quad \\text{mód} \\ \\varphi(m)$$ (el inverso multiplicativo de $e$) y se obtendrá que $$a _{j} =  b _{j} ^{u}\\quad \\text{mód}\\ m   $$"
   ]
  },
  {
   "cell_type": "markdown",
   "metadata": {},
   "source": []
  }
 ],
 "metadata": {
  "language_info": {
   "name": "python"
  },
  "orig_nbformat": 4
 },
 "nbformat": 4,
 "nbformat_minor": 2
}
