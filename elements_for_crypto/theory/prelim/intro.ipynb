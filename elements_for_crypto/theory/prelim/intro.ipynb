{
 "cells": [
  {
   "attachments": {},
   "cell_type": "markdown",
   "metadata": {},
   "source": [
    "<img src=\"enteros..png\">\n",
    "<img src=\"props_enteros.png\">\n"
   ]
  },
  {
   "attachments": {},
   "cell_type": "markdown",
   "metadata": {},
   "source": [
    "#### Algoritmo de la división\n",
    "\n",
    "Si $a$ y $b$ son enteros con  $b\\neq 0$, entonces existen enteros $q, r$ tales que $$a = bq + r\\quad \\text{con}\\quad 0\\leq r < |b|$$\n",
    "El entero $q$ es llamado *cociente* y el entero $r$ es llamado *residuo*.  "
   ]
  },
  {
   "attachments": {},
   "cell_type": "markdown",
   "metadata": {},
   "source": [
    "#### Divisibilidad\n",
    "\n",
    "Se dice que $b\\neq 0$ divide a $a$, si al aplicar el algoritmo de la división, se tiene $a = bq + 0$, es decir, residuo $0$. \n",
    "\n",
    "#### Máximo común divisor y primos relativos\n",
    "\n",
    "* Si $a$ y $b$ no son ambos cero, entonces el conjunto $\\{g \\geq 0: \\quad g|a \\ \\land \\ g|b\\}$ es no vacío y finito. Por tanto se define su *máximo común divisor* como: \n",
    "$$\\text{mcd}(a,b):= \\max \\{g \\geq 0: \\quad g|a \\ \\land \\ g|b\\}$$\n",
    "\n",
    "* Si $a$ y $b$ no son ambos cero, entonces $\\text{mcd}(a,b)$ es el menor positivo de la forma $as+bt$ con $s,t\\in \\mathbb{Z}$. \n",
    "\n",
    "* Se dirá que $a$ y $b$ son *primos relativos* si $\\text{mcd}(a,b)=1$."
   ]
  },
  {
   "attachments": {},
   "cell_type": "markdown",
   "metadata": {},
   "source": [
    "#### Números Primos y Teorema Fundamental de la Aritmética\n",
    "\n",
    "* Un entero $p>1$ se dirá *número primo* si sus únicos divisores positivos son el conjunto $\\{1, p\\}$.\n",
    "\n",
    "* Todo entero $a>1$ es primo o producto de primos en una forma escencialmente única. \n",
    "\n",
    "Es decir, si $a = p _{ 1} p _{ 2} \\cdots p _{r} $ y $a = q _{ 1} q _{ 2} \\cdots q _{s} $ con $p _{ 1} , p _{ 2} ,\\cdots, p _{r},q _{ 1} , q _{ 2} ,\\cdots, q _{s}  $ primos, entonces $q _{ 1} , q _{ 2} ,\\cdots, q _{s}$ es un reordenamiento de  $p _{ 1} , p _{ 2} ,\\cdots, p _{r}$.\n",
    "\n"
   ]
  },
  {
   "cell_type": "markdown",
   "metadata": {},
   "source": []
  }
 ],
 "metadata": {
  "language_info": {
   "name": "python"
  },
  "orig_nbformat": 4
 },
 "nbformat": 4,
 "nbformat_minor": 2
}
