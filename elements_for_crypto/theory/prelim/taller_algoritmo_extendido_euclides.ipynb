{
 "cells": [
  {
   "attachments": {},
   "cell_type": "markdown",
   "metadata": {},
   "source": [
    "# Ejercicios"
   ]
  },
  {
   "attachments": {},
   "cell_type": "markdown",
   "metadata": {},
   "source": [
    "1) Codificar el siguiente algoritmo:\n",
    "\n",
    "* Recibir enteros $a$ y $b$ y verificar que $0 < b < a$.\n",
    "\n",
    "* Constuir las ecuaciones \n",
    "$$a = b q _{ 1}  + r _{ 1} , \\quad 0 < r _{ 1} < b$$\n",
    "$$b = r _{ 1}  q _{ 2}  + r _{ 2} , \\quad 0 < r _{ 2} <  r _{ 1} $$\n",
    "$$r  _{ 1}  = r _{ 2}  q _{ 3}  + r _{ 3} , \\quad 0 < r _{ 3} <  r _{ 2} $$\n",
    "$$\\vdots $$\n",
    "$$r  _{ k-3}  = r _{ k-2}  q _{ k-1}  + r _{ k-1} , \\quad 0 < r _{ k-1} <  r _{ k-2} $$\n",
    "$$r  _{ k-2}  = r _{ k-1}  q _{ k}  + r _{ k} , \\quad 0 < r _{ k} <  r _{ k-1} $$\n",
    "$$r _{k-1} =  r _{k } q _{k+1} + 0  $$\n",
    "\n",
    "* Defina:\n",
    "$$x _{0} = 0, \\quad x _{ 1}  = 1, \\quad y _{0 } = 1, \\quad y _{ 1} =  -q _{ 1}   $$\n",
    "y las fórmulas de recurrencia \n",
    "$$x _{ i} = x _{i-2} - x _{i-1}q _{i}, \\quad i=2,3,...,k   $$\n",
    "$$y _{ i} = y _{i-2} - y _{i-1}q _{i}, \\quad i=2,3,...,k   $$\n",
    "\n",
    "* Reporte $\\text{mcd}(a,b) = r _{k } = ax _{k } + b y _{k } $ \n"
   ]
  },
  {
   "attachments": {},
   "cell_type": "markdown",
   "metadata": {},
   "source": [
    "2) Usando el algoritmo anterior, calcule los siguientes mcd's y expréselos como combinación lineal en cada caso:\n",
    "\n",
    "* $\\text{mcd}(2 947, 3 997) $\n",
    "* $\\text{mcd}(329, 1005) $\n",
    "* $\\text{mcd}(1302, 1224) $\n",
    "* $\\text{mcd}(7469, 2 464) $\n",
    "* $\\text{mcd}(2 689, 4 001) $\n",
    "* $\\text{mcd}(1109, 4 999) $\n",
    "* $\\text{mcd}(1819, 3 587) $"
   ]
  }
 ],
 "metadata": {
  "kernelspec": {
   "display_name": "Python 3",
   "language": "python",
   "name": "python3"
  },
  "language_info": {
   "codemirror_mode": {
    "name": "ipython",
    "version": 3
   },
   "file_extension": ".py",
   "mimetype": "text/x-python",
   "name": "python",
   "nbconvert_exporter": "python",
   "pygments_lexer": "ipython3",
   "version": "3.9.5"
  },
  "orig_nbformat": 4
 },
 "nbformat": 4,
 "nbformat_minor": 2
}
