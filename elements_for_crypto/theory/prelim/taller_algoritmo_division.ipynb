{
 "cells": [
  {
   "attachments": {},
   "cell_type": "markdown",
   "metadata": {},
   "source": [
    "### Ejercicios"
   ]
  },
  {
   "attachments": {},
   "cell_type": "markdown",
   "metadata": {},
   "source": [
    "1) Codificar el siguiente algoritmo de la división:\n",
    "\n",
    "* Divida $a$ entre $b$ para obtener el racional $a/b$.\n",
    "\n",
    "* Escoja el entero $q$ que esté a la izquierda o sea igual a $a/b$.\n",
    "\n",
    "* Ponga $r:=a-bq$ \n",
    "\n"
   ]
  },
  {
   "attachments": {},
   "cell_type": "markdown",
   "metadata": {},
   "source": [
    "2) En el libro $VII$ de los *Elementos* de Euclides, se describe el siguiente algoritmo de la división. Codificarlo.\n",
    "\n",
    "* Si $a<b$, ponga $q=0$ y $r=a$; $a=b\\cdot 0 + a$.\n",
    "\n",
    "* Si $a - 1\\cdot b \\geq 0$ y $a - 2\\cdot b < 0$ , ponga $q:=1$ y $r=a - 1\\cdot b$   \n",
    "\n",
    "* Si $a - 2\\cdot b \\geq 0$ y $a - 3\\cdot b < 0$ , ponga $q:=2$ y $r=a - 2\\cdot b$   \n",
    "\n",
    "* Si $a - 3\\cdot b \\geq 0$ y $a - 4\\cdot b < 0$ , ponga $q:=3$ y $r=a - 3\\cdot b$   \n",
    "\n",
    "* Si $a - 4\\cdot b \\geq 0$ y $a - 5\\cdot b < 0$ , ponga $q:=4$ y $r=a - 4\\cdot b$   \n",
    "\n",
    "* etcétera.\n",
    "\n",
    "\n",
    " "
   ]
  },
  {
   "attachments": {},
   "cell_type": "markdown",
   "metadata": {},
   "source": [
    "3) Construya un gráfico comparativo de los tiempos de ejecución de las codificaciones en los puntos 1) y 2) tomando diferentes \n",
    "escenarios donde $a$ y $b$ sean se hacen más grandes."
   ]
  }
 ],
 "metadata": {
  "language_info": {
   "name": "python"
  },
  "orig_nbformat": 4
 },
 "nbformat": 4,
 "nbformat_minor": 2
}
