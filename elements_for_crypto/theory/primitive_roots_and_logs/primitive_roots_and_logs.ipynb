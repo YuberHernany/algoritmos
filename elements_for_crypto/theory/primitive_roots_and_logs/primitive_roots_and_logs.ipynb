{
 "cells": [
  {
   "attachments": {},
   "cell_type": "markdown",
   "metadata": {},
   "source": [
    "### Raíces primitivas y logaritmos discretos\n",
    "\n",
    "El grupo de unidades del anillo de enteros módulo $n$, son las clases residuales módulo $n$ que tienen inverso multiplicativo módulo $n$.\n",
    "\n",
    "$$U(\\mathbb{Z} / n) = (\\mathbb{Z} / n) ^{*} := \\{a \\in \\mathbb{Z} / n \\ : \\ \\text{mcd}(a,n)=1\\} $$\n",
    "\n",
    "Receurde que el conjunto $(\\mathbb{Z} / n) ^{*} $ tiene $\\varphi (n) $ elementos.  \n",
    "\n",
    "El teorema de Euler dice que si $n>0$ y $a \\in \\mathbb{Z}$ son coprimos, entonces $a ^{\\varphi (n)} \n",
    "\\equiv 1 \\quad \\text{mód}\\ n $.\n",
    "\n",
    "Al considerar la lista de potencias de $a$ módulo $n$: $$a, a ^{ 2} , a ^{3}, \\dots , a ^{ k} , \\dots a ^{\\varphi(n)} \\equiv 1  $$\n",
    "Al menor entero positivo $k$ tal que $a ^{k} \\equiv 1 \\quad \\text{mód}\\ n $ se le dirá *orden* de $a$ módulo $n$ y se denotará por $$k = \\text{ord} _{n}(a) $$      \n",
    "\n",
    "Se puede probar que:\n",
    "\n",
    "Si $n>0$, $\\text{mcd}(a,n)=1$ y $l > 0$, entonces $$a ^{l} \\equiv 1\\quad \\text{mód}\\ n \\text{  si y sólo si }\\ \\text{ord} _{n} (a) | l  $$   \n",
    "y que por teorema de Euler, $\\text{ord} _{n} (a) $ siempre divide a $\\varphi(n)$.\n",
    "\n",
    "También se puede probar que:\n",
    "\n",
    "Si $n>0$, $\\text{mcd}(a,n)=1$, $i,j>0$, entonces $$ a ^{i}\\equiv a ^{j} \\quad \\text{mód}\\ n \\ \\text{si y sólo si } i\\equiv j \\quad \\text{mód}\\ \\text{ord}(a)  $$  \n",
    "\n",
    "Si $n>0$ y $\\text{mcd}(g, n)=1$, se dirá que $g$ es una *raíz primitiva* módulo $n$ si $\\text{ord} _{n}(g) = \\varphi(g) $.  "
   ]
  },
  {
   "cell_type": "markdown",
   "metadata": {},
   "source": []
  }
 ],
 "metadata": {
  "language_info": {
   "name": "python"
  },
  "orig_nbformat": 4
 },
 "nbformat": 4,
 "nbformat_minor": 2
}
