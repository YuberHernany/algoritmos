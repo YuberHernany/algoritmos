{
 "cells": [
  {
   "attachments": {},
   "cell_type": "markdown",
   "metadata": {},
   "source": [
    "### El criptosistema ElGamal\n",
    "\n",
    "Criptosistema de clave pública cuya seguridad recae sobre la dificultad para calcular logaritmos discretos. Su aplicación requiere los siguientes pasos:\n",
    "\n",
    "1) Cada entidad $A$ que desea recibir mensajes encriptados elige un primo (grande) $p$, una raíz primitiva $g$ de $p$ y un exponente $e$ con $1 \\leq e \\leq p-1$, y luego calcula $a:=g ^{e} \\quad \\text{mód}\\ p $      \n",
    "\n",
    "* La clave pública es $(p, g, a)$.\n",
    "\n",
    "* La parte secreta es el exponente $e$. \n",
    "\n",
    "2) Si otra entidad $B$ quiere mandar un mensaje a la entidad $A$ usando las claves públicas $(p,g,a)$ de $A$, la entidad $B$ procede así:\n",
    "\n",
    "* Convierte el mensaje del texto usual a cifras (texto cifrado) y luego separa el número obtenido en bloques $b<p$. \n",
    "\n",
    "* Selecciona aleatoriamente un entero $k$ con $1\\leq k \\leq p-2$ y luego calcula el entero $$\\gamma \\equiv g ^{ k} \\quad \\text{mód}\\ p\\quad \\quad \\quad (\\text{ con } 0\\leq \\gamma \\leq p-1);$$  \n",
    "\n",
    "después, para cada bloque $b$, calcula los enteros $$\\beta \\equiv a ^{ k} b\\quad \\text{mód}\\ p \\quad \\quad \\quad (\\text{ con } 0\\leq \\beta \\leq p-1)$$ \n",
    "\n",
    "* El mensaje encriptado que envía consiste en los pares ordenados $$E(b) := (\\gamma, \\beta),$$ uno por cada bloque $b$. \n",
    "\n",
    "3) Para desencriptar el mensaje recibido $E(b)$, la entidad $A$ usa la clave secreta $e$ para calcular $$\\gamma ^{p-1-e} \\quad \\text{mód} \\ p $$ y luego calcula, para cada bloque encriptado $\\beta$ el valor original $b$, dado que $\\gamma ^{p-1-e} \\beta \\equiv b \\quad \\text{mód}\\ p $.   "
   ]
  },
  {
   "cell_type": "markdown",
   "metadata": {},
   "source": []
  }
 ],
 "metadata": {
  "language_info": {
   "name": "python"
  },
  "orig_nbformat": 4
 },
 "nbformat": 4,
 "nbformat_minor": 2
}
