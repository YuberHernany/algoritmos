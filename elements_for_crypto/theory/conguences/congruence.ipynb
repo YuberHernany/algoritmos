{
 "cells": [
  {
   "attachments": {},
   "cell_type": "markdown",
   "metadata": {},
   "source": [
    "#### Congruencias"
   ]
  },
  {
   "attachments": {},
   "cell_type": "markdown",
   "metadata": {},
   "source": [
    "Dado un entero $m\\geq 1$ fijo, diremos que $a\\in \\mathbb{Z}$ es *congruente* a $b\\in \\mathbb{Z}$, si $m|(a-b)$. Para indicar el fenómeno, se usa la notación siguiente: $$a\\equiv b \\quad \\text{mód}\\ m$$\n",
    "\n",
    "La relación así definida entre $a$ y $b$ es una *relación de equivalencia*. Además:\n",
    "\n",
    "Si $a\\equiv b\\quad \\text{mód} \\ m$ y $c\\equiv d\\quad \\text{mód} \\ m$, entonces:\n",
    "* Para todo par de enteros $r$ y $s$, $ar+cs\\equiv br+ds \\quad \\text{mód} \\ m$.\n",
    "\n",
    "* $a+c \\equiv b+d\\ \\quad \\text{mód} \\ m$.   \n",
    "\n",
    "* $a-c \\equiv b-d\\ \\quad \\text{mód} \\ m$.   \n",
    "\n",
    "* $ac \\equiv bd\\ \\quad \\text{mód} \\ m$.  \n",
    "\n",
    "* Para todo entero positivo $k$, $a ^{ k} \\equiv b ^{ k} \\ \\quad \\text{mód} \\ m$.\n",
    "\n",
    "* Para todo entero $r$,  $a+r \\equiv  b+r\\ \\quad \\text{mód} \\ m$. \n",
    "\n",
    "* Para todo entero $r$, $ar \\equiv  br\\ \\quad \\text{mód} \\ m$.   \n",
    "\n",
    "* Si $P$ polinomio con coeficientes enteros y $a\\equiv b  \\quad \\text{mód} \\ m$, entonces \n",
    " $P(a)\\equiv P(b)  \\quad \\text{mód} \\ m$ "
   ]
  },
  {
   "attachments": {},
   "cell_type": "markdown",
   "metadata": {},
   "source": [
    "#### Congruencias y aritmética modular"
   ]
  },
  {
   "attachments": {},
   "cell_type": "markdown",
   "metadata": {},
   "source": [
    "Considerando la relación de equivalencia de congruencia $\\text{mód}\\ m$; denotaremos al conjunto cociente como $\\mathbb{Z} / m$. Si $a\\in \\mathbb{Z}$, la clase de equivalencia de $a$ es: \n",
    "$$[a] := \\{x\\in \\mathbb{Z} \\ : \\ x \\equiv a \\quad \\text{mód}\\ m \\}$$ \n",
    "Todo entero $x$ en $[a]$ al ser dividido por $m$ deja el mismo residuo y como los posibles residuos son $0, 1, 2, ... , m-1$, entonces sólo hay $m$ clases en $\\mathbb{Z}/m$ y son: $$[0], [1], [2], ... , [m-1]$$\n",
    "\n",
    "En $\\mathbb{Z}/m$ se pueden definir las operaciones $$[a]+[b] := [a+b]$$ $$[a]\\cdot [b] := [a\\cdot b]$$ y con ellas constituir un anillo conmutativo con uno. (**Obs:** En neutro aditivo es $[0]$. El neutro multiplicativo es $[1]$. El inverso aditivo de $[a]$ es $[m-a]$). \n",
    "\n",
    "En general $\\mathbb{Z}/m$ no es un dominio entero. (**Ej:** en $\\mathbb{Z}/6$ se tine $[2] \\neq [0]$ y $[3]\\neq [0]$, pero $[2][3]=[6]=[0]$).\n",
    "\n",
    "Los elementos $[a]$ con inverso multiplicativo en $\\mathbb{Z}/m$ son aquellos que cumplen $\\text{mcd} (a,m) = 1$.\n",
    "\n",
    "$\\mathbb{Z}/p$ es un dominio entero si y sólo si $p$ es primo.\n",
    "\n",
    "Cuando $p$ es primo, todos los elementos distintos de $[0]$ en $\\mathbb{Z}/p$ tienen inverso multiplicativo y $\\mathbb{Z}/p$ se constituye en un *campo*."
   ]
  },
  {
   "cell_type": "markdown",
   "metadata": {},
   "source": []
  }
 ],
 "metadata": {
  "language_info": {
   "name": "python"
  },
  "orig_nbformat": 4
 },
 "nbformat": 4,
 "nbformat_minor": 2
}
