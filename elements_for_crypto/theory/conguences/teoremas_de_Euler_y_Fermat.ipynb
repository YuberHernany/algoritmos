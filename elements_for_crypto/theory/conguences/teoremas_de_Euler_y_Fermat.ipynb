{
 "cells": [
  {
   "attachments": {},
   "cell_type": "markdown",
   "metadata": {},
   "source": [
    "#### Teoremas de Euler y Fermat"
   ]
  },
  {
   "attachments": {},
   "cell_type": "markdown",
   "metadata": {},
   "source": [
    "Sea $p$ un primo. Entonces, para cualquier entero $a$ no divisible por $p$, se tiene que $$a ^{p-1} \\equiv 1\\quad \\text{mód}\\ p \\quad \\quad \\text{(Fermat)} $$ "
   ]
  },
  {
   "attachments": {},
   "cell_type": "markdown",
   "metadata": {},
   "source": [
    "Tenga en cuenta que $\\varphi(m)$ es la cardinalidad del conjunto $\\{a\\ : \\ 1\\leq a \\leq m \\quad \\text{y} \\quad \\text{mcd}(a,m) = 1\\}$ \n",
    "\n",
    "Si $\\text{mcd}(a,m)=1$, entonces $$a ^{\\varphi (m)} \\equiv 1 \\quad \\text{mód} \\ m \\quad \\quad \\text{(Euler)}$$ "
   ]
  }
 ],
 "metadata": {
  "language_info": {
   "name": "python"
  },
  "orig_nbformat": 4
 },
 "nbformat": 4,
 "nbformat_minor": 2
}
