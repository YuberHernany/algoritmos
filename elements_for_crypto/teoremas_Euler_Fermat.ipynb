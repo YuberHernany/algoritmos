{
 "cells": [
  {
   "attachments": {},
   "cell_type": "markdown",
   "metadata": {},
   "source": [
    "###"
   ]
  },
  {
   "attachments": {},
   "cell_type": "markdown",
   "metadata": {},
   "source": [
    "### Teoremas de Fermat y Euler\n",
    "\n",
    "Si se quiere buscar un patrón en los valores $a, a ^{ 2} , a ^{ 3} , \\dots, \\text{mód}\\ m $ con $m \\geq 2$ y $a \\neq 0$, en el caso en que $m=p$ es primo, fácil visualizar que hay repitencia de $1$'s.\n",
    "\n",
    "**Teorema (Fermat)**. Sea $p$ un primo. Entonces, para cualquier entero $a$ no divisible por $p$, se tiene que $$a ^{p-1} \\equiv 1 \\quad \\text{mód}\\ p $$   \n",
    "\n",
    "Euler generaliza el resultado anterior. Lo logró reconociendo a la función $$\\varphi(m) := |\\{a \\in \\mathbb{Z}: \\ 1\\leq a \\leq m \\quad \\text{y} \\quad \\text{mcd}(a,m)=1\\}|$$ (cantidad de primos relativos con $m$, positivos y menores que $m$).\n",
    "\n",
    "**Teorema (Euler)**. Si $\\text{mcd}(a,m)=1$, entonces $$a ^{\\varphi(m)} \\equiv 1\\quad \\text{mód}\\ m $$  \n"
   ]
  },
  {
   "attachments": {},
   "cell_type": "markdown",
   "metadata": {},
   "source": [
    "$\\begin{bmatrix}{}\n",
    "a ^{5}        &  1 &  2 &  3 &  4 \\\\\n",
    "a ^{\\varphi(5)}   &  1 &  1 &  1 &  1 \\\\\n",
    "a ^{\\varphi(5)-1} &  1 &  3 &  2 &  4 \\\\\n",
    "a ^{2}        &  1 &  4 &  4 &  1 \\\\\n",
    "a ^{1}        &  1 &  2 &  3 &  4 \\\\\n",
    "\\end{bmatrix}$\n",
    "\n",
    "$\\begin{bmatrix}{}\n",
    "a ^{6}        &  1 &  4 &  3 &  4 &  1 \\\\\n",
    "a ^{5}        &  1 &  2 &  3 &  4 &  5 \\\\\n",
    "a ^{4}        &  1 &  4 &  3 &  4 &  1 \\\\\n",
    "a ^{3}        &  1 &  2 &  3 &  4 &  5 \\\\\n",
    "a ^{\\varphi(6)}   &  1 &  4 &  3 &  4 &  1 \\\\\n",
    "a ^{\\varphi(6)-1} &  1 &  2 &  3 &  4 &  5 \\\\\n",
    "\\end{bmatrix}$\n",
    "\n",
    "$\\begin{bmatrix}{}\n",
    "a ^{7}        &  1 &  2 &  3 &  4 &  5 &  6 \\\\\n",
    "a ^{\\varphi(7)}   &  1 &  1 &  1 &  1 &  1 &  1 \\\\\n",
    "a ^{\\varphi(7)-1} &  1 &  4 &  5 &  2 &  3 &  6 \\\\\n",
    "a ^{4}        &  1 &  2 &  4 &  4 &  2 &  1 \\\\\n",
    "a ^{3}        &  1 &  1 &  6 &  1 &  6 &  6 \\\\\n",
    "a ^{2}        &  1 &  4 &  2 &  2 &  4 &  1 \\\\\n",
    "a ^{1}        &  1 &  2 &  3 &  4 &  5 &  6 \\\\\n",
    "\\end{bmatrix}$\n",
    "\n",
    "$\\begin{bmatrix}{}\n",
    "a^{8}        &  1 &  0 &  1 &  0 &  1 &  0 &  1 \\\\\n",
    "a^{7}        &  1 &  0 &  3 &  0 &  5 &  0 &  7 \\\\\n",
    "a^{6}        &  1 &  0 &  1 &  0 &  1 &  0 &  1 \\\\\n",
    "a^{5}        &  1 &  0 &  3 &  0 &  5 &  0 &  7 \\\\\n",
    "a^{\\varphi(8)}   &  1 &  0 &  1 &  0 &  1 &  0 &  1 \\\\\n",
    "a^{\\varphi(8)-1} &  1 &  0 &  3 &  0 &  5 &  0 &  7 \\\\\n",
    "a^{2}        &  1 &  4 &  1 &  0 &  1 &  4 &  1 \\\\\n",
    "a^{1}        &  1 &  2 &  3 &  4 &  5 &  6 &  7 \\\\\n",
    "\\end{bmatrix}$\n",
    "\n",
    "$\\begin{bmatrix}{}\n",
    "a ^{11}        &   1 &   2 &   3 &   4 &   5 &   6 &   7 &   8 &   9 &  10 \\\\\n",
    "a ^{\\varphi(11) }  &   1 &   1 &   1 &   1 &   1 &   1 &   1 &   1 &   1 &   1 \\\\\n",
    "a ^{\\varphi(11)-1 }&   1 &   6 &   4 &   3 &   9 &   2 &   8 &   7 &   5 &  10 \\\\\n",
    "a ^{8}         &   1 &   3 &   5 &   9 &   4 &   4 &   9 &   5 &   3 &   1 \\\\\n",
    "a ^{7}         &   1 &   7 &   9 &   5 &   3 &   8 &   6 &   2 &   4 &  10 \\\\\n",
    "a ^{6}         &   1 &   9 &   3 &   4 &   5 &   5 &   4 &   3 &   9 &   1 \\\\\n",
    "a ^{5}         &   1 &  10 &   1 &   1 &   1 &  10 &  10 &  10 &   1 &  10 \\\\\n",
    "a ^{4}         &   1 &   5 &   4 &   3 &   9 &   9 &   3 &   4 &   5 &   1 \\\\\n",
    "a ^{3}         &   1 &   8 &   5 &   9 &   4 &   7 &   2 &   6 &   3 &  10 \\\\\n",
    "a ^{2}         &   1 &   4 &   9 &   5 &   3 &   3 &   5 &   9 &   4 &   1 \\\\\n",
    "a ^{1}         &   1 &   2 &   3 &   4 &   5 &   6 &   7 &   8 &   9 &  10 \\\\\n",
    "\\end{bmatrix}$"
   ]
  },
  {
   "attachments": {},
   "cell_type": "markdown",
   "metadata": {},
   "source": [
    "\n",
    "\n",
    "\n"
   ]
  }
 ],
 "metadata": {
  "kernelspec": {
   "display_name": "Python 3",
   "language": "python",
   "name": "python3"
  },
  "language_info": {
   "codemirror_mode": {
    "name": "ipython",
    "version": 3
   },
   "file_extension": ".py",
   "mimetype": "text/x-python",
   "name": "python",
   "nbconvert_exporter": "python",
   "pygments_lexer": "ipython3",
   "version": "3.9.5"
  },
  "orig_nbformat": 4
 },
 "nbformat": 4,
 "nbformat_minor": 2
}
