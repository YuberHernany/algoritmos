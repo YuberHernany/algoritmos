{
 "cells": [
  {
   "cell_type": "markdown",
   "metadata": {},
   "source": [
    "#### Método de Newton\n",
    "\n",
    "Suponga que $f\\in C ^{ 2} [a,b]$. Si $p _{0}\\in [a,b] $ es una apriximación para $p$, de tal forma que $f'(p _{0}) \\neq 0 $ y $|p - p _{0} |$ es \"pequeño\". Considere que el primer polinomio de Taylor para $f(x)$ expandido alrededor de $p _{0} $ y evaluado en $x =p$:\n",
    "$$f(p) = f(p _{0}) + (p - p _{0} )f'(p _{0} ) + \\frac{(p - p _{0} ) ^{ 2} }{2} f''( \\xi(p)) $$     \n",
    "donde $\\xi(p)$ se encuentra entre $p$ y $p _{0} $. Puesto que $f(p)=0$, esta ecuación nos da \n",
    "$$0 = f(p _{0} ) + (p-p0)f'(p _{0}) + \\frac{(p-p _{0} ) ^{ 2} }{2} f''(\\xi(p))  $$\n",
    "El método de Newton se deduce al suponer que como $|p - p _{0} |$ es pequeño, el término relacionado con $(p-p _{0} ) ^{ 2} $ es mucho más pequeño, entonces \n",
    "$$0 \\approx f(p _{0}) + (p-p _{0} )f'(p _{0} ) $$         \n",
    "Al resolver para $p$ obtenemos\n",
    "$$p \\approx p _{0} - \\frac{f(p _{0} )}{f'(p _{0} )}  \\equiv  p _{ 1} $$ "
   ]
  },
  {
   "cell_type": "code",
   "execution_count": 1,
   "metadata": {},
   "outputs": [],
   "source": [
    "import numpy as np\n",
    "\n",
    "def newton_method(f, p0, Df, tol=1e-5, max_iter=15):\n",
    "    \"\"\" \n",
    "        Entradas: f function, p0 float, Df function, tol float, max_iter int\n",
    "        Salidas: p1: aproximación al cero de la función f.\n",
    "        convergencia: booleano indicando parada anticipada al max_iter\n",
    "        iteraciones_usadas: int indicando número de actualizaciones de p1 \"\"\"\n",
    "    iteraciones_usadas = 0\n",
    "    for k in range(max_iter):\n",
    "        p1 = p0 - f(p0)/Df(p0)\n",
    "        iteraciones_usadas += 1\n",
    "        convergencia = np.abs(p1 - p0) < tol\n",
    "        if convergencia:\n",
    "            break\n",
    "        p0 = p1\n",
    "    return p1, convergencia, iteraciones_usadas"
   ]
  },
  {
   "cell_type": "code",
   "execution_count": 6,
   "metadata": {},
   "outputs": [
    {
     "data": {
      "text/plain": [
       "(0.7390851332151607, True, 5)"
      ]
     },
     "execution_count": 6,
     "metadata": {},
     "output_type": "execute_result"
    }
   ],
   "source": [
    "import sympy as sy\n",
    "\n",
    "x = sy.symbols('x')\n",
    "f_expr = sy.cos(x) - x\n",
    "f = sy.lambdify(x, f_expr, \"numpy\")\n",
    "Df = sy.lambdify(x, f_expr.diff(x), \"numpy\")\n",
    "p0 = 1.0\n",
    "newton_method(f, p0, Df, tol=1e-20)"
   ]
  },
  {
   "cell_type": "markdown",
   "metadata": {},
   "source": [
    "#### El método de la secante\n",
    "\n",
    "Tratando de transformar el método de Newton (de forma que no se requiera el conocimiento previo de la derivada), se propone una variación aproximando a la derivada. Recuerde que\n",
    "$$f'(p _{n-1} ) = \\displaystyle \\lim _{x\\to p _{n-1} } \\frac{f(x)- f(p _{n-1} )}{x - p _{ n-1} } $$ \n",
    "\n",
    "Si $p _{ n-2} $ está cerca de $p _{n-1} $, entonces \n",
    "$$f'(p _{n-1}) \\approx \\frac{f(p _{n-2} )- f(p _{n-1} )}{p _{n-2}- p _{n-1}  } =  \\frac{f(p _{n-1} )- f(p _{n-2} )}{p _{n-1}- p _{n-2}  }  $$  \n",
    "\n",
    "Usando esta aproximación para $f'(p _{n-1}) $ en la fórmula de Newton se obtiene\n",
    "$$p _{n} = p _{n-1} - \\frac{f(p _{n-1} )(p _{n-1} - p _{n-2}  )}{f(p _{n-1}) - f(p _{n-2} ) }   $$ "
   ]
  },
  {
   "cell_type": "code",
   "execution_count": 3,
   "metadata": {},
   "outputs": [],
   "source": [
    "\n",
    "import numpy as np\n",
    "\n",
    "def secante(f, p0, p1, tol=1e-5, max_iter=30):\n",
    "    \"\"\" \n",
    "    Entradas: f function, p0 y p1 floats, tol float, max_iter int\n",
    "    Salidas: p1: aproximación al cero de la función f.\n",
    "    convergencia: booleano indicando parada anticipada al max_iter\n",
    "    iteraciones_usadas: int indicando número de actualizaciones de p1 \"\"\"\n",
    "    q0, q1 = f(p0), f(p1) # se quiere evitar recalcularlos\n",
    "    iteraciones_usadas = 0\n",
    "    for k in range(max_iter):\n",
    "        p = p1 - (q1 * (p1 - p0)) / (q1 - q0)\n",
    "        iteraciones_usadas += 1\n",
    "        convergencia = np.abs(p - p1) < tol\n",
    "        if convergencia:\n",
    "            break\n",
    "        p0 = p1\n",
    "        q0 = q1\n",
    "        p1 = p\n",
    "        q1 = f(p)\n",
    "    return p1, convergencia, iteraciones_usadas"
   ]
  },
  {
   "cell_type": "code",
   "execution_count": 4,
   "metadata": {},
   "outputs": [
    {
     "data": {
      "text/plain": [
       "(0.7390851493372764, True, 4)"
      ]
     },
     "execution_count": 4,
     "metadata": {},
     "output_type": "execute_result"
    }
   ],
   "source": [
    "import sympy as sy\n",
    "\n",
    "x = sy.symbols('x')\n",
    "f_expr = sy.cos(x) - x\n",
    "f = sy.lambdify(x, f_expr, \"numpy\")\n",
    "p0, p1 = 0.5, np.pi/4\n",
    "secante(f, p0, p1)"
   ]
  },
  {
   "cell_type": "markdown",
   "metadata": {},
   "source": [
    "**Taller: Método de Newton y de la secante**\n",
    "\n",
    "1) Sean $f(x) = x ^{ 2} - 6$ y $p _{0}=1 $. Use el método de Newton para hallar $p _{2} $.\n",
    "\n",
    "2) Sean $f(x) = - x ^{3} - \\cos x $ y $p _{0}=-1$. Use el método de Newton para hallar $p _{ 2} $. ¿Puede $p _{0} =0  $ ser usado?\n",
    "\n",
    "3) Sean $f(x) = x ^{ 2} - 6$, $ p _{0 } = 3, \\ p _{1} = 2 $. Halle $p _{3} $ usando el método de la secante.\n",
    "\n",
    "4) Sean $f(x) = -x ^{ 3} - \\cos x$, $ p _{0 } = -1, \\ p _{1} = 0 $. Halle $p _{3} $ usando el método de la secante.\n",
    "\n",
    "5) Use el método de Newton y el método de la secante para aproximarse a las soluciones de los siguientes problemas, con una precisión no mayor a $10 ^{-4} $.\n",
    "\n",
    "a) $x ^{3} - 2 x ^{ 2} - 5 = 0, \\quad [1,4]$ \n",
    "\n",
    "b) $x ^{ 3} + 3 x ^{2} - 1 = 0,\\quad [-3, -2] $ \n",
    "\n",
    "c) $x - \\cos x = 0, \\quad [0, \\pi/3]$ \n",
    "\n",
    "d) $x-0.8 - 0.2\\sin x = 0, \\quad [0, \\pi/2]$ \n",
    "\n",
    "6) Use el método de Newton y el método de la secante para aproximarse a las soluciones de los siguientes problemas, con una precisión no mayor a $10 ^{-5} $.\n",
    "\n",
    "a) $e ^{x}+ 2 ^{-x} + 2\\cos x - 6 = 0, \\quad \\text{para} \\quad 1 \\leq x \\leq 2  $ \n",
    "\n",
    "b) $\\ln (x-1) + \\cos (x-1) =0,  \\quad \\text{para} \\quad 1.3 \\leq x \\leq 2$ \n",
    "\n",
    "c) $2 x \\cos 2x - (x-2) ^{ 2} =0,  \\quad \\text{para} \\quad 2 \\leq x \\leq 3$ \n",
    "\n",
    "d) $2 x \\cos 2x - (x-2) ^{ 2} =0,  \\quad \\text{para} \\quad 3 \\leq x \\leq 4$ \n",
    "\n",
    "e) $(x-2) ^{ 2} - \\ln x =0,  \\quad \\text{para} \\quad 1 \\leq x \\leq 2$ \n",
    "\n",
    "f) $(x-2) ^{ 2} - \\ln x =0,  \\quad \\text{para} \\quad e \\leq x \\leq 4$ \n",
    "\n",
    "h) $e ^{x} - 3 x ^{ 2}   =0,  \\quad \\text{para} \\quad 0\\leq x \\leq 1$ \n",
    "\n",
    "i) $e ^{x} - 3 x ^{ 2}  =0,  \\quad \\text{para} \\quad 3\\leq x \\leq 5$ \n",
    "\n",
    "j) $\\sin x - e ^{-x} =0,  \\quad \\text{para} \\quad 3\\leq x \\leq 4$ \n",
    "\n",
    "k) $\\sin x - e ^{-x} =0,  \\quad \\text{para} \\quad 6\\leq x \\leq 7$ \n",
    "\n"
   ]
  },
  {
   "cell_type": "markdown",
   "metadata": {},
   "source": [
    "##### Ejemplo de localización de raíces\n",
    "\n",
    "APLICACIÓN: La siguiente ecuación diferencial modela el crecimiento en una población $$\\displaystyle \\frac{d N(t)}{dt} = \\lambda N(t) + v $$\n",
    "$N(t)$ es el número de la población en el tiempo $t$, $\\ \\lambda$ es la tasa constante de natalidad y $\\ v$ es la tasa constante de inmigración.\n",
    "\n",
    "La solución a la ecuación diferencial es $$N(t) = N _{0} e ^{\\lambda t} +\\displaystyle \\frac{v}{\\lambda}(e ^{\\lambda t } -1)   $$\n",
    "\n",
    "Suponga que, en un inicio, cierta población contiene $N(0)=1000000$ de individuos, que\n",
    "435000 individuos inmigran a la comunidad durante el primer año y que existen $N(1)=1564000$ individuos al final del año. Para determinar la natalidad de esa población, se necesita resolver la ecuación siguiente y los métodos estudiados en este cuaderno ayudarán a resolverla: $$1564000 = 1000000 e ^{\\lambda} + \\displaystyle \\frac{435000}{\\lambda}(e ^{\\lambda } -1  )  $$"
   ]
  }
 ],
 "metadata": {
  "kernelspec": {
   "display_name": "Python 3.9.5 64-bit",
   "language": "python",
   "name": "python3"
  },
  "language_info": {
   "codemirror_mode": {
    "name": "ipython",
    "version": 3
   },
   "file_extension": ".py",
   "mimetype": "text/x-python",
   "name": "python",
   "nbconvert_exporter": "python",
   "pygments_lexer": "ipython3",
   "version": "3.9.5"
  },
  "orig_nbformat": 4,
  "vscode": {
   "interpreter": {
    "hash": "e7370f93d1d0cde622a1f8e1c04877d8463912d04d973331ad4851f04de6915a"
   }
  }
 },
 "nbformat": 4,
 "nbformat_minor": 2
}
