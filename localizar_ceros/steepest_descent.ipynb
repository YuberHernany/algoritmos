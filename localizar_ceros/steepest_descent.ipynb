{
 "cells": [
  {
   "cell_type": "markdown",
   "metadata": {},
   "source": [
    "#### Método del gradiente descendente"
   ]
  },
  {
   "cell_type": "markdown",
   "metadata": {},
   "source": [
    "Sea $f:\\mathbb{R} ^{ n} \\to \\mathbb{R}$ con primera derivada $Df: \\mathbb{R} ^{ n} \\to \\mathbb{R} ^{ n} $. El siguiente método iterativo busca un minimizador local $\\textbf{x} ^{*} $ de $f$.\n",
    "\n",
    "$$\\textbf{x}_{k+1} = \\textbf{x}_{k} + \\alpha_{k} \\textbf{p}_{k} $$\n",
    "\n",
    "Allí $\\textbf{x} _{k } $ es la aproximación a $\\textbf{x} ^{*} $, $\\alpha _{k } $ es el tamaño del paso y $\\textbf{p} _{k} $ es la dirección de búsqueda.  "
   ]
  },
  {
   "cell_type": "markdown",
   "metadata": {},
   "source": [
    "El gradiente $\\nabla f(\\textbf{x})$ es un vector que apunta en la dirección de mayor crecimiento de $f$ en $\\textbf{x}$, luego $-\\nabla f(\\textbf{x}) $ apunta en la dirección de mayor decrecimiento. Así se toma el proceso iterativo:\n",
    "\n",
    "$$\\textbf{x}_{k+1} = \\textbf{x}_{k} - \\alpha_{k} \\nabla f(\\textbf{x} _{k } )$$"
   ]
  },
  {
   "cell_type": "markdown",
   "metadata": {},
   "source": []
  },
  {
   "cell_type": "code",
   "execution_count": 2,
   "metadata": {},
   "outputs": [
    {
     "name": "stdout",
     "output_type": "stream",
     "text": [
      "Matrix([[3.00000000000000], [-3.00000000000000]])\n"
     ]
    }
   ],
   "source": [
    "import sympy as sy\n",
    "x, y, z = sy.symbols('x y z')\n",
    "f = (x-3)**2 + 4*(y+3)**2\n",
    "# f = x**2 + 4*y**2\n",
    "# f = (1-x)**2 + 10*(y-x**2)**2\n",
    "alpha = 1\n",
    "X0 = sy.Matrix([[10], [10]])\n",
    "nabla_f = sy.Matrix([[f.diff(x)], \n",
    "                     [f.diff(y)]])\n",
    "for _ in range(4):\n",
    "    X1 = X0 - alpha * nabla_f.subs({x:X0[0], y:X0[1]})\n",
    "    alpha = alpha / 2\n",
    "    X0 = X1\n",
    "\n",
    "print(X1)"
   ]
  },
  {
   "cell_type": "code",
   "execution_count": 3,
   "metadata": {},
   "outputs": [
    {
     "name": "stdout",
     "output_type": "stream",
     "text": [
      "Matrix([[3.02409451520000], [-3.00319621120000]])\n"
     ]
    }
   ],
   "source": [
    "import numpy as np\n",
    "import sympy as sy\n",
    "x, y, z = sy.symbols('x y z')\n",
    "# f = x**2 + 4*y**2\n",
    "f = (x-3)**2 + 4*(y+3)**2\n",
    "# f = (1-x)**2 + 10*(y-x**2)**2 # función de Rosenbrock\n",
    "alpha = 0.1\n",
    "alphas = np.array([0.01 * k for k in range(100)])\n",
    "X0 = sy.Matrix([[10], [10]])\n",
    "nabla_f = sy.Matrix([[f.diff(x)], \n",
    "                     [f.diff(y)]])\n",
    "for _ in range(10):\n",
    "    X1 = X0 - alpha * nabla_f.subs({x:X0[0], y:X0[1]})\n",
    "    h = lambda a:  X1 - a * nabla_f.subs({x:X1[0], y:X1[1]})\n",
    "    fs = np.array([f.subs({x:h(a)[0], y:h(a)[1]}) for a in alphas]).astype(np.float16)\n",
    "    alpha = np.argmin(fs) / 100\n",
    "    X0 = X1\n",
    "\n",
    "print(X1)"
   ]
  },
  {
   "cell_type": "code",
   "execution_count": null,
   "metadata": {},
   "outputs": [],
   "source": []
  },
  {
   "cell_type": "code",
   "execution_count": null,
   "metadata": {},
   "outputs": [],
   "source": []
  }
 ],
 "metadata": {
  "kernelspec": {
   "display_name": "Python 3.9.5 64-bit",
   "language": "python",
   "name": "python3"
  },
  "language_info": {
   "codemirror_mode": {
    "name": "ipython",
    "version": 3
   },
   "file_extension": ".py",
   "mimetype": "text/x-python",
   "name": "python",
   "nbconvert_exporter": "python",
   "pygments_lexer": "ipython3",
   "version": "3.9.5"
  },
  "orig_nbformat": 4,
  "vscode": {
   "interpreter": {
    "hash": "e7370f93d1d0cde622a1f8e1c04877d8463912d04d973331ad4851f04de6915a"
   }
  }
 },
 "nbformat": 4,
 "nbformat_minor": 2
}
