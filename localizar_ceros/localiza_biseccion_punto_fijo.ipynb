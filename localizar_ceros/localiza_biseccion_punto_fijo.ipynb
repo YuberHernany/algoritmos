{
 "cells": [
  {
   "cell_type": "markdown",
   "metadata": {},
   "source": [
    "### El problema de la búsqueda de la raíz de $f$ \n",
    "\n",
    "Consiste en aproximarse al valor $p$ (la raíz de $f$) tal que $f(p)=0$. "
   ]
  },
  {
   "cell_type": "markdown",
   "metadata": {},
   "source": [
    "#### Método de la bisección"
   ]
  },
  {
   "cell_type": "markdown",
   "metadata": {},
   "source": [
    "Si $f$ es una función continua en $[a,b]$ con $f(a)$ y $f(b)$ de signos opuestos, el teorema de valor intermedio asegura que existe un punto $p\\in (a,b)$ tal que $f(p)=0$.    \n",
    "\n",
    "El método de la bisección consiste en ir localizando y reduciendo (a la mitad de la longitud) el intervalo en el que se encuentra la raíz $p$ de $f$.  "
   ]
  },
  {
   "cell_type": "code",
   "execution_count": 1,
   "metadata": {},
   "outputs": [],
   "source": [
    "import numpy as np\n",
    "\n",
    "def bisection(f, a, b, tol=1e-5, max_iter=30):\n",
    "    i = 0\n",
    "    while i <= max_iter:\n",
    "        m = 0.5 * (a+b)\n",
    "        if ((f(m) == 0) or ((0.5 * (b-a)) < tol)):\n",
    "            return m \n",
    "        elif np.sign(f(a)) != np.sign(f(m)):\n",
    "            b = m\n",
    "        else: \n",
    "            a = m\n",
    "        i = i+1\n",
    "    if i == max_iter:\n",
    "        advertencia = \"\"\"Se usó el máximo de iteraciones y\n",
    "         error no se asegura menor que la tolerancia. \n",
    "        No se ha localizado la raíz\"\"\"\n",
    "        print(advertencia)\n",
    "    return m"
   ]
  },
  {
   "cell_type": "code",
   "execution_count": 2,
   "metadata": {},
   "outputs": [
    {
     "data": {
      "text/plain": [
       "1.3652300134140969"
      ]
     },
     "execution_count": 2,
     "metadata": {},
     "output_type": "execute_result"
    }
   ],
   "source": [
    "import sympy as sy\n",
    "x = sy.symbols('x')\n",
    "f_expr = x ** 3 + 4 * x ** 2 - 10\n",
    "a, b = 1, 2\n",
    "f = sy.lambdify(x, f_expr, \"numpy\")\n",
    "bisection(f, a, b, tol=1e-15, max_iter=100)"
   ]
  },
  {
   "cell_type": "markdown",
   "metadata": {},
   "source": [
    "**Proposición**: Suponga que $f\\in C[a,b]$ y $f(a)\\cdot f(b) < 0$. El método de la bisección\n",
    "genera una sucesión $\\{p _{ n} \\} _{ n=1} ^{\\infty}  $ que se aproxima el cero \n",
    "de la función $f$ (dígase que el cero es $p$). Se afirma que $$|p _{n}-p| \\leq \\frac{b-a}{2 ^{ n} }, \\quad \\text{cuando} \\quad n\\geq 1 $$    \n",
    "\n",
    "**Prueba**: Note que para cada $n\\geq 1$, se tiene \n",
    "$$b _{ n} - a _{ n} = \\frac{1}{2 ^{n-1} }(b-a) \\quad \\text{y} \\quad p \\in (a _{n}, b _{n}  )$$ \n",
    "Dado que $p _{n} = \\frac{1}{2}( a  _{n} + b _{n}  )  $ para todo $n\\geq 1$, se sigue que \n",
    "$$|p _{n} -p| \\leq \\frac{1}{2}(b _{n} - a _{n}  ) = \\frac{b-a}{2 ^{ n} }  $$ "
   ]
  },
  {
   "cell_type": "markdown",
   "metadata": {},
   "source": [
    "**Ejercicios**\n",
    "\n",
    "1) Localice la raíz de la función $f(x) = x ^{3}  - 10 x ^{ 2}  + 5$. Luego estime el menor número de iteraciones en el método de bisección aplicado sobre el intervalo inicial $[0,1]$ que asegura que el error de aproximación cometido, no supera a $10 ^{-4} $.  \n",
    "\n",
    "2) Explique por qué la ecuación $e ^{-x} = x $ tiene una solución en el intervalo $[0,1]$. Otorgue un argumento usando la derivadas para justificar que la solución es única.\n",
    "\n",
    "3) Use el método de la bisección para aproximar con 5 crifras decimales al valor $\\displaystyle \\sqrt[6]{3}$. (**Sug**: considere la función $f(x) = x ^{6} -3 $.\n",
    "\n",
    "4) Use el método de la bisección para encontrar una aproximación del cero de la función $f(x) = \\sqrt{x} - \\cos (x)$ en $[0,1]$.\n",
    "\n",
    "5) Sea $f(x)= 3(x+1)(x-\\frac{1}{2})(x-1)$. Use bisección sobre $[-2, 1.5]$ para apriximarse a una raíz de $f$. \n",
    "\n",
    "6) Tome $f(x)= 2 x ^{3} - x ^{ 2} + x- 1$. Compare los números de iteraciones requeridos por el método de la bisección para aproximar la raíz con un error absoluto menor a $10 ^{-5} $ en los dos escenarios siguintes:\n",
    "\n",
    "a) El intervalo inicial de búsqueda es $[-4, 4]$.\n",
    "\n",
    "b) El intervalo inicial de búsqueda es $[0,1]$.\n",
    "\n",
    "7) Use el método de bisección para aproximar las soluciones de las siguientes ecuaciones con un error absoluto no mayor a $10 ^{-5} $:\n",
    "\n",
    "a) $x- 2 ^{-x}=0 \\quad \\text{para} \\quad 0\\leq x \\leq 1$  \n",
    "\n",
    "b) $e ^{x} - x ^{2} + 3x - 2 = 0 \\quad \\text{para} \\quad 0 \\leq x \\leq 1$  \n",
    "\n",
    "c) $2x \\cos (2x) - (x + 1 ) ^{ 2} =0 \\quad \\text{para} \\quad -3\\leq x \\leq -2 \\quad \\text{y} \\quad -1\\leq x \\leq 0$ \n",
    "\n",
    "d) $x\\cos x - 2 x ^{ 2} + 3x-1=0 \\quad \\text{para} \\quad 0.2\\leq x \\leq 0.3 \\quad \\text{y} \\quad1.2\\leq x \\leq 1.3$ \n",
    "\n",
    "8) Graficar $y=x$ y $y = 2\\sin x$. Usar método de bisección para aproximar con un error absoluto no mayor a $10 ^{-5} $ al primer valor positivo $x$ tal que $x = 2\\sin x$    \n",
    "\n",
    "9) Graficar $y=x$ y $y = \\tan x$. Usar método de bisección para aproximar con un error absoluto no mayor a $10 ^{-5} $ al primer valor positivo $x$ tal que $x = \\tan x$\n",
    "\n",
    "10) Graficar $y=e ^{x}-2 $ y $y = \\cos (e ^{x}-2) $. Usar método de bisección para aproximar con un error absoluto no mayor a $10 ^{-5} $ al primer valor positivo $x$ tal que $e ^{x}-2  = \\cos (e ^{x}-2) $"
   ]
  },
  {
   "cell_type": "markdown",
   "metadata": {},
   "source": [
    "#### Iteración de punto fijo\n",
    "\n",
    "$p$ se dice punto fijo de la función $g$, si $g(p)=p$. Cuando se desea hallar un valor $p$ tal que $f(p)=0$, se puede pensar en el problema equivalente de hallar el punto fijo $p$ de $g(x) = x - f(x)$.\n",
    "\n",
    "las siguientes dos proposiciones dan condiciones suficientes de existencia de punto fijo.\n",
    "\n",
    "* Si $g\\in C[a,b]$ y $g(x)\\in [a,b]$ para todas las $x$ en $[a,b]$, entonces $g$ tiene por lo menos un punto fijo en $[a,b]$.\n",
    "\n",
    "* Si además, $g'(x)$ existe en $(a,b)$ y hay una constante positiva $k<1$ con $|g'(x)|\\leq k$ para todas las $x$ en $(a,b)$ entonces, existe exáctamente un punto fijo en $[a,b]$.\n",
    "\n",
    "Para aproximarse el punto fijo de una función $g$, elegimos una aproximación inicial $p _{0} $ y generamos la sucesión $\\{p _{ n} \\} _{n=0} ^{\\infty}  $ al poner $p _{ n} = g (p _{ n-1}) $, para cada $n\\geq 1$. Si la sucesión converge a $p$ y $g$ es continua, entonces $$p = \\displaystyle \\lim _{n\\to \\infty} p _{ n} = \\lim _{n\\to \\infty} g (p _{n-1}) = g\\left(\\lim _{n\\to \\infty} p _{n-1} \\right) = g(p) $$  "
   ]
  },
  {
   "cell_type": "code",
   "execution_count": 3,
   "metadata": {},
   "outputs": [],
   "source": [
    "import numpy as np\n",
    "\n",
    "def punto_fijo(g, p0, tol=1e-10, max_iter=30):\n",
    "    for i in range(max_iter):\n",
    "        p = g(p0)\n",
    "        if np.abs(p - p0) < tol:\n",
    "            break\n",
    "        else:\n",
    "            p0 = p\n",
    "    return p\n"
   ]
  },
  {
   "cell_type": "code",
   "execution_count": 4,
   "metadata": {},
   "outputs": [
    {
     "name": "stdout",
     "output_type": "stream",
     "text": [
      "-0.3027756377369623\n"
     ]
    }
   ],
   "source": [
    "import sympy as sy\n",
    "\n",
    "x = sy.symbols('x')\n",
    "g_expr = sy.Rational(1,3) * (x**2 - 1)\n",
    "g = sy.lambdify(x, g_expr, \"numpy\")\n",
    "print(punto_fijo(g, 0.8)) # resuelve p**2-3p-1=0 y vea que punto_fijo aproxima (1/2)(3-sqrt(13))\n"
   ]
  },
  {
   "cell_type": "markdown",
   "metadata": {},
   "source": [
    "**Ejercicios**\n",
    "\n",
    "1) Use manipulación algebraica para mostrar que cada una de las siguientes funciones tiene como punto fijo un punto $p$, precisamente cuando $f(p)=0$, tomando $f(x) = x ^{4} + 2 x ^{ 2} - x -3 $:\n",
    "\n",
    "a) $\\displaystyle g _{ 1} (x) = (3 + x - 2 x ^{ 2} ) ^{1/4} \\quad \\quad$                          b) $\\displaystyle g _{2}(x) = \\left( \\frac{x + 3 - x ^{4} }{2} \\right) ^{1/2}  $ \n",
    "\n",
    "c) $\\displaystyle g _{3} (x)= \\left( \\frac{x + 3}{x ^{ 2} + 2} \\right) ^{1/2} \\quad \\quad $          d) $\\displaystyle g _{4} (x)= \\frac{3x ^{4} + 2 x ^{ 2} + 3 }{4 x ^{3} + 4x-1 }  $ \n",
    "\n",
    "2) Desarrolle cuatro iteraciones, si es posible, en cada una de las funciones $g$ definidas en el ejercicio anterior. Tome $p _{0} =1$  y $p _{n+1} = g(p _{n} ) $, para $n=0,1,2,3$. ¿Cuál función afirma usted otorga una mejor aproximación a la solución? \n",
    "\n",
    "3) Use el método de iteración de punto fijo para aproximarse con un error absoluto no mayor a $10 ^{-2} $ a la solución de $x ^{4} - 3 x ^{ 2} -3 = 0$  sobre $[1,2]$. Use $p _{0} =1$.  \n",
    "\n",
    "4) Use el método de iteración de punto fijo para aproximarse con un error absoluto no mayor a $10 ^{-2} $ a la solución de $x ^{3} - x-1= 0$  sobre $[1,2]$. Use $p _{0} =1$.\n",
    "\n",
    "5) Verifique condiciones suficientes para que $g(x) = \\pi + 0.5\\sin (x/2)$ tenga un único punto fijo en $[0, 2\\pi]$.\n",
    "\n",
    "6) Verifique condiciones suficientes para que $g(x) = 2 ^{-x} $ tenga un único punto fijo en $[\\frac{1}{3} , 1]$.\n",
    "\n",
    "7) Use el método de iteración de punto fijo para aproximarse a $\\sqrt{3}$ con un error absoluto no mayor a $10 ^{-4} $.\n",
    "\n",
    "8) Para cada una de las siguientes ecuaciones, determine un intervalo $[a, b]$ sobre el que el método de iteraciones de punto fijo converja:\n",
    "\n",
    "a) $\\displaystyle  x = \\frac{2  - e ^{x} + x ^{ 2}  }{3} \\quad \\quad  $    b) $\\displaystyle x = \\frac{5}{x ^{ 2} } + 2 $ \n",
    "\n",
    "c) $\\displaystyle x = (e ^{x}/3) ^{1/2} \\quad \\quad   $  d) $\\displaystyle x = 5 ^{-x} $ \n",
    "\n",
    "e) $x = 6 ^{-x} \\quad \\quad $ f) $\\displaystyle x = 0.5 ( \\sin x + \\cos x)$ \n",
    "\n",
    "9) Encuentre los puntos fijos de $g(x) = 1 + x - \\frac{1}{8} x ^{3}  $ "
   ]
  },
  {
   "cell_type": "markdown",
   "metadata": {},
   "source": [
    "#### Método de la búsqueda incremental\n",
    "\n",
    "En los métodos anteriores se tiene como hipótesis que $f$ es continua en $[a,b]$ y que $f(a)$ y $f(b)$ tienen signos opuestos. En algunas ocasiones se sabe que $f$ es continua pero no se tiene información sobre un intervalo $[a,b]$ donde hay cambio de signo. Es conveniente crear una función en Python que tenga como entradas a $f$, $A$ y $B$, en donde el intervalo $[A, B]$ es un intervalo que se pretende inspeccionar para localizar en su interior al intervalo $[a,b]\\subset [A, B]$ donde con seguridad se presente el cambio de signo. Dicha función en Python será llamada `rootsearch`.   "
   ]
  },
  {
   "cell_type": "code",
   "execution_count": 5,
   "metadata": {},
   "outputs": [],
   "source": [
    "import numpy as np\n",
    "\n",
    "def rootsearch(f, A, B, incremento):\n",
    "    \"\"\"\n",
    "    ENTRADAS:\n",
    "    :f: objeto tipo function \n",
    "    :A: float. Extremo izquierdo del intervalo de inspección\n",
    "    :B: float. Extremo derecho del intervalo de inspección\n",
    "    :incremento: float. Positivo indicando longitud de cada paso\n",
    "                        incrementado para buscar el cambio de signo\n",
    "    SALIDA:\n",
    "    (a, b, existencia_de_raiz)\n",
    "        :a: float. Extremo izquierdo del intervalo con cambio de signo (si hay)\n",
    "            en otro caso a=None\n",
    "        :b: float. Extremo derecho del intervalo con cambio de signo (si hay)\n",
    "            en otro caso a=None\n",
    "        :existencia_de_raiz: boolean. Indicando si hay cambio de signo\n",
    "    \"\"\"\n",
    "    valores = np.arange(A, B, incremento)\n",
    "    evaluaciones = f(valores)\n",
    "    hay_cambio_de_signo = False\n",
    "    for a, b, fa, fb in zip(valores, valores[1:], evaluaciones, evaluaciones[1:]):\n",
    "        if np.sign(fa) != np.sign(fb):\n",
    "            hay_cambio_de_signo = True\n",
    "            return a, b, True\n",
    "    if not hay_cambio_de_signo:\n",
    "        return None, None, False"
   ]
  },
  {
   "cell_type": "code",
   "execution_count": 6,
   "metadata": {},
   "outputs": [
    {
     "data": {
      "text/plain": [
       "(1.5, 1.7999999999999998, True)"
      ]
     },
     "execution_count": 6,
     "metadata": {},
     "output_type": "execute_result"
    }
   ],
   "source": [
    "import sympy as sy\n",
    "x = sy.symbols('x')\n",
    "f_expr = sy.cos(x)\n",
    "f = sy.lambdify(x, f_expr, \"numpy\")\n",
    "rootsearch(f, 0, np.pi, 0.3)"
   ]
  },
  {
   "cell_type": "markdown",
   "metadata": {},
   "source": [
    "**Ejercicios**\n",
    "\n",
    "1) Muestre que las siguientes ecuaciones tienen al menos una solución en los intervalos dados.\n",
    "\n",
    "a) $x \\cos x - 2 x ^{ 2} + 3x-1 = 0$, en $[0.2,0.3]$ y $[1.2, 1.3]$.\n",
    "\n",
    "b) $(x-2) ^{ 2} - \\ln x = 0$, en $[1,2]$ y $[e, 4]$.      \n",
    "\n",
    "c) $2x \\cos(2x) - (x-2) ^{ 2} = 0$, en $[2,3]$ y $[3,4]$.\n",
    "\n",
    "d) $x - (\\ln x) ^{x} = 0 $, en $[4,5]$     \n",
    "\n",
    "2) Encuentre intervalos conteniendo soluciones de las siguientes ecuaciones:\n",
    "\n",
    "a) $x - 3 ^{-x}=0 $ \n",
    "\n",
    "b) $4x ^{ 2} - e ^{x} =0  $ \n",
    "\n",
    "c) $x ^{3} - 2 x ^{ 2} - 4x + 2 = 0 $ \n",
    "\n",
    "d) $x ^{3}+ 4.001 x ^{ 2} + 4.002 x + 1.101 = 0 $ \n",
    "\n",
    "\n",
    "3) Muestre que $f'(x) $ es $0$ al menos una vez en los intervalos dados:\n",
    "\n",
    "a) $f(x) = 1 - e ^{x} + (e-1) \\sin ((\\pi /2) x) $, en $[0,1]$   \n",
    "\n",
    "b) $f(x) = (x-1) \\tan x + x \\sin ( \\pi x )$, en $[0,1]$  \n",
    "\n",
    "c) $f(x) = x sin (\\pi x ) - (x-2) \\ln x$, en $[1,2]$  \n",
    "\n",
    "d) $f(x) = (x-2) \\sin x \\ln (x+2)$, en $[-1,3]$  \n",
    "\n",
    "4) Muestre que $f(x) = x ^{3} + 2x + k $ cruza el eje $x$ exáctamente una vez, sin importar el valor de $k$.\n",
    "\n",
    "5) Suponga que $f\\in C[a,b]$ y $f'(x)$ existe en $(a,b)$. Muestre que si $f'(x) \\neq 0$ para todas las $x$ en $(a,b)$, entonces existe a lo sumo un número $p$ en $[a, b]$ con $f(p)=0$.          \n"
   ]
  }
 ],
 "metadata": {
  "kernelspec": {
   "display_name": "Python 3.9.5 64-bit",
   "language": "python",
   "name": "python3"
  },
  "language_info": {
   "codemirror_mode": {
    "name": "ipython",
    "version": 3
   },
   "file_extension": ".py",
   "mimetype": "text/x-python",
   "name": "python",
   "nbconvert_exporter": "python",
   "pygments_lexer": "ipython3",
   "version": "3.9.5"
  },
  "orig_nbformat": 4,
  "vscode": {
   "interpreter": {
    "hash": "e7370f93d1d0cde622a1f8e1c04877d8463912d04d973331ad4851f04de6915a"
   }
  }
 },
 "nbformat": 4,
 "nbformat_minor": 2
}
