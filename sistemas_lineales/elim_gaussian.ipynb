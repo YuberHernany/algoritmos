{
 "cells": [
  {
   "cell_type": "markdown",
   "metadata": {},
   "source": [
    "#### Descomposición LU para resolver sistemas lineales\n",
    "\n",
    "Es usual resolver el sistema $A\\textbf{x}=\\textbf{b}$ aplicando operaciones elementales de fila sobre $A$ para construir un sistema reducido equivalente $U\\textbf{x}=\\textbf{c}$. Las operaciones permitidas sobre las filas de $A$ son de tres tipos:\n",
    "\n",
    "1) Multiplicar una fila por un escalar no nulo\n",
    "\n",
    "2) Intercambiar dos filas\n",
    "\n",
    "3) Sumas un múltiplo escalar de una fila con otra fila"
   ]
  },
  {
   "cell_type": "markdown",
   "metadata": {},
   "source": [
    "Imagine que debe resolver el sistema \n",
    "$$x + y + z = 1$$ \n",
    "$$x + 4y + 2z = 3$$\n",
    "$$4x + 7y + 8z = 9$$"
   ]
  },
  {
   "cell_type": "markdown",
   "metadata": {},
   "source": [
    "El sistema se escribe en su forma matricial de la siguiente forma $A \\textbf{x} = \\textbf{b}$ con \n",
    "$A = \\begin{bmatrix}\n",
    "    1 & 1 & 1 \\\\\n",
    "    1 & 4 & 2 \\\\\n",
    "    4 & 7 & 8 \\\\\n",
    "\\end{bmatrix}$ y \n",
    "$\\textbf{b } = \\begin{bmatrix}\n",
    "   1 \\\\\n",
    "   3 \\\\\n",
    "   9 \\\\\n",
    "\\end{bmatrix}$"
   ]
  },
  {
   "cell_type": "markdown",
   "metadata": {},
   "source": [
    "**Exploración de operaciones elementales de fila en NumPy**"
   ]
  },
  {
   "cell_type": "code",
   "execution_count": 1,
   "metadata": {},
   "outputs": [],
   "source": [
    "# La forma de importar NumPy y de inicializar una matriz es:\n",
    "\n",
    "import numpy as np\n",
    "\n",
    "A = np.array([[1,1,1,1],\n",
    "              [1,4,2,3],\n",
    "              [4,7,8,9]], dtype=np.float64)"
   ]
  },
  {
   "cell_type": "code",
   "execution_count": 2,
   "metadata": {},
   "outputs": [
    {
     "data": {
      "text/plain": [
       "array([[1., 1., 1., 1.],\n",
       "       [0., 3., 1., 2.],\n",
       "       [0., 3., 4., 5.]])"
      ]
     },
     "execution_count": 2,
     "metadata": {},
     "output_type": "execute_result"
    }
   ],
   "source": [
    "# Poner ceros bajo el pivote de la primera fila\n",
    "A[1,0:] -= (A[1,0] / A[0,0]) * A[0]\n",
    "A[2,0:] -= (A[2,0] / A[0,0]) * A[0]\n",
    "A"
   ]
  },
  {
   "cell_type": "code",
   "execution_count": 3,
   "metadata": {},
   "outputs": [
    {
     "data": {
      "text/plain": [
       "array([[1., 1., 1., 1.],\n",
       "       [0., 3., 1., 2.],\n",
       "       [0., 0., 3., 3.]])"
      ]
     },
     "execution_count": 3,
     "metadata": {},
     "output_type": "execute_result"
    }
   ],
   "source": [
    "# Poner ceros bajo el pivote de la segunda fila\n",
    "A[2,1:] -= (A[2,1] / A[1,1]) * A[1,1:]\n",
    "A"
   ]
  },
  {
   "cell_type": "markdown",
   "metadata": {},
   "source": [
    "##### **Ejercicio 1**\n",
    "\n",
    "Escriba una función en Python que reciba una matriz aumentada $[A|b]$ (asuma que al escalonar $A$ no se requiren intercambios de filas) y luego retorne una matriz $U$ y $c$, asociados al sistema $[U|c]$ equivalente por filas al sistema original. (**Sug**: En las condiciones dadas, use operaciones tipo 3)).\n",
    "\n",
    "Ejemplifique con matrices chicas que su función está trabajando bien. Considdere `np.random.randint()` si necesita generar casos para verificar."
   ]
  },
  {
   "cell_type": "code",
   "execution_count": 4,
   "metadata": {},
   "outputs": [],
   "source": [
    "def escalonar(A_b):\n",
    "    \"\"\"entrada: A_b ndarray. concatenación de A y b, del sistema Ax=b.\n",
    "        salida: U, c. U es escalonada. Ux=c es el sistema reducido.\"\"\"\n",
    "    m, n = A.shape\n",
    "    U_c = A_b.copy()\n",
    "    for j in range(n):\n",
    "        for i in range(j+1, m):\n",
    "            U_c[i,j:] -= (U_c[i,j] / U_c[j,j]) * U_c[j,j:]\n",
    "    U, c = U_c[:, :-1], U_c[:, -1]\n",
    "    return U, c"
   ]
  },
  {
   "cell_type": "code",
   "execution_count": 5,
   "metadata": {},
   "outputs": [
    {
     "data": {
      "text/plain": [
       "(array([[1., 1., 1.],\n",
       "        [0., 3., 1.],\n",
       "        [0., 0., 3.]]),\n",
       " array([1., 2., 3.]))"
      ]
     },
     "execution_count": 5,
     "metadata": {},
     "output_type": "execute_result"
    }
   ],
   "source": [
    "A = np.array([[1,1,1,1],\n",
    "              [1,4,2,3],\n",
    "              [4,7,8,9]], dtype=np.float64)\n",
    "escalonar(A)\n"
   ]
  },
  {
   "cell_type": "markdown",
   "metadata": {},
   "source": [
    "Finalizado el proceso de construcción del sistema reducido equivalente $U\\textbf{x} = \\textbf{c}$, el problema se puede resolver por sustitución regresiva "
   ]
  },
  {
   "cell_type": "code",
   "execution_count": 6,
   "metadata": {},
   "outputs": [],
   "source": [
    "def matriz_de_coef_aleat(n_rows):\n",
    "    \"\"\"entrada: n_rows int que determina número de filas y columnas de A\n",
    "        salida: A_b matriz aumentada de un sistema lineal con valores aleatorios\"\"\"\n",
    "    A_b = np.random.randint(-5,5, (n_rows, n_rows+1)) / 1.0 # se divide por 1.0 para tener flaots\n",
    "    return A_b"
   ]
  },
  {
   "cell_type": "code",
   "execution_count": 7,
   "metadata": {},
   "outputs": [
    {
     "data": {
      "text/plain": [
       "array([[-4.  ,  1.  ,  4.  , -1.  ],\n",
       "       [ 0.  , -4.75, -4.  , -3.25],\n",
       "       [ 0.  ,  0.  , -6.53,  0.95],\n",
       "       [-4.  ,  1.  , -1.  ,  4.  ]])"
      ]
     },
     "execution_count": 7,
     "metadata": {},
     "output_type": "execute_result"
    }
   ],
   "source": [
    "A_b = matriz_de_coef_aleat(4)\n",
    "escalonar(A_b)[0].round(2)"
   ]
  },
  {
   "cell_type": "markdown",
   "metadata": {},
   "source": [
    "#### Sobre descomposición LU\n",
    "\n",
    "Es posible factorizar $A$ en la forma $LU$ donde $L$ es producto de matrices elementales tipo III y $U$ es triangular superior (escalonada equivalente por filas a $A$, sin uso de intercambio de filas). En dicho caso:\n",
    "\n",
    "$$E _{k}  \\cdots E _{ 2} E _{ 1} A = U \\quad \\to \\quad  A=(E _{k}  \\cdots E _{ 2} E _{ 1}) ^{-1}U  \\quad \\to \\quad A=E _{1} ^{-1}  E _{ 2} ^{-1}  \\cdots E _{ k} ^{-1}U \\quad \\to \\quad  A=LU$$ "
   ]
  },
  {
   "cell_type": "markdown",
   "metadata": {},
   "source": [
    "##### **Ejercicio 2**\n",
    "\n",
    "Defina una función que practique la descomposición $LU$ asumiendo que no se requieren intercambios de filas.\n"
   ]
  },
  {
   "cell_type": "markdown",
   "metadata": {},
   "source": [
    "Una forma de implementar la descomposición $LU$: "
   ]
  },
  {
   "cell_type": "code",
   "execution_count": 8,
   "metadata": {},
   "outputs": [],
   "source": [
    "def LUdecomposition(A):\n",
    "    m, n = A.shape\n",
    "    L, U = np.eye(m), A.copy()\n",
    "    for j in range(n):\n",
    "        for i in range(j+1, m):\n",
    "            L[i,j] = U[i,j] / U[j,j]\n",
    "            U[i,j:] -= L[i,j] * U[j,j:]\n",
    "    return L, U\n"
   ]
  },
  {
   "cell_type": "code",
   "execution_count": 9,
   "metadata": {},
   "outputs": [
    {
     "name": "stdout",
     "output_type": "stream",
     "text": [
      "A: \n",
      " [[1. 1. 2.]\n",
      " [3. 5. 5.]\n",
      " [6. 7. 9.]]\n",
      "L:\n",
      " [[1.  0.  0. ]\n",
      " [3.  1.  0. ]\n",
      " [6.  0.5 1. ]]\n",
      "U:\n",
      " [[ 1.   1.   2. ]\n",
      " [ 0.   2.  -1. ]\n",
      " [ 0.   0.  -2.5]]\n"
     ]
    }
   ],
   "source": [
    "A = np.arange(9).reshape((3,3)) / 1.0 + np.eye(3)\n",
    "print(\"A: \\n\", A)\n",
    "L, U = LUdecomposition(A)\n",
    "print(\"L:\\n\", L)\n",
    "print(\"U:\\n\", U)\n"
   ]
  },
  {
   "cell_type": "code",
   "execution_count": 10,
   "metadata": {},
   "outputs": [],
   "source": [
    "# El algoritmo anterior se puede mejorar\n",
    "\n",
    "def fastLUdecomposition(A): # revisar el problema con esta funcion\n",
    "    m, n = A.shape\n",
    "    L, U = np.eye(m), A.copy()\n",
    "    for k in range(n-1):\n",
    "        L[(k+1):, k] = U[(k+1):, k] / U[k,k]\n",
    "        U[(k+1):, k:] -= np.dot(L[(k+1):, k].reshape(-1, 1), U[k, k:].reshape(1, -1))\n",
    "    return L, U"
   ]
  },
  {
   "cell_type": "markdown",
   "metadata": {},
   "source": [
    "#### Sobre $LU$ para resolver sistemas\n",
    "\n",
    "\n",
    "Si $A = LU$ y $A\\textbf{x}=\\textbf{b}$, entonces $LU\\textbf{x}=A\\textbf{x} =\\textbf{b}$. Resolver los sistemas triangulares: \n",
    "\n",
    "**1)** $L\\textbf{y}=\\textbf{b}$ \n",
    "\n",
    "**2)** $U\\textbf{x}=\\textbf{y}$\n",
    "\n",
    "\n",
    "De $L\\textbf{y}=\\textbf{b}$ con $\\textbf{y}=[y _{ 1} ,\\cdots , y _{ n} ]$ y $\\textbf{b}= [b _{ 1} ,\\cdots , b _{ n} ]$, se deduce que\n",
    "$$y _{k} = b _{k} - \\displaystyle \\sum _{j=1} ^{ k-1} l _{k j}y _{ j}      $$\n",
    "\n",
    "\n",
    "De $U\\textbf{x}=\\textbf{y}$ con $\\textbf{y}=[y _{ 1} ,\\cdots , y _{ n} ]$ y $\\textbf{x}= [x _{ 1} ,\\cdots , x _{ n} ]$, se deduce que\n",
    "$$x _{k} = \\frac{1}{u _{k k} } \\left ( y _{k} - \\displaystyle \\sum _{ j=k+1} ^{ n} u _{k j}x _{ j}    \\right ) $$   \n"
   ]
  },
  {
   "cell_type": "markdown",
   "metadata": {},
   "source": [
    "##### **Ejercicio 3**\n",
    "\n",
    "Crear una función que reciba $A$ y $\\textbf{b}$ asociados al sistema $A \\textbf{x} = \\textbf{b}$ y utilizando las sustituciones previas retorne la solucón $\\textbf{x}$ "
   ]
  },
  {
   "cell_type": "code",
   "execution_count": 11,
   "metadata": {},
   "outputs": [],
   "source": [
    "def solve_Ly_Pb(L, P, b): # Use P = I, bajo hipótesis de NO intercambios de filas\n",
    "    n = len(b)\n",
    "    ys = []\n",
    "    for k in range(1, n+1):\n",
    "        s = np.array([L[k-1,j-1] * ys[j-1] for j in range(1, k)]).sum()\n",
    "        yk = b[k-1] - s\n",
    "        ys.append(yk)\n",
    "    return np.array(ys)\n",
    "\n",
    "def solve_Ux_y(U, y):\n",
    "    n = len(y)\n",
    "    xs = [(1/U[-1,-1]) * y[-1]] # primero, la ultima incognita\n",
    "    for k in range(n-2, -1, -1):\n",
    "        s = np.dot(np.array(xs), U[k, :][-len(xs)])[0]\n",
    "        xk = (1/U[k, k]) * (y[k] - s)\n",
    "        xs.insert(0, xk)\n",
    "    return np.array(xs)\n",
    "\n",
    "\n",
    "def solve_linear_system(A, b):\n",
    "    \"\"\" suponiendo que A factoriza LU, sin intercambio de filas\"\"\"\n",
    "    L, U = fastLUdecomposition(A)\n",
    "    n = A.shape[0]\n",
    "    P = np.eye(n)\n",
    "    y = solve_Ly_Pb(L, P, b)\n",
    "    return solve_Ux_y(U, y)\n"
   ]
  },
  {
   "cell_type": "code",
   "execution_count": 12,
   "metadata": {},
   "outputs": [
    {
     "name": "stdout",
     "output_type": "stream",
     "text": [
      "[[ 1.          0.          0.          0.        ]\n",
      " [-0.5         1.          0.          0.        ]\n",
      " [ 0.         -0.66666667  1.          0.        ]\n",
      " [ 0.          0.         -0.75        1.        ]]\n",
      "\n",
      "[[ 2.         -1.          0.          0.        ]\n",
      " [ 0.          1.5        -1.          0.        ]\n",
      " [ 0.          0.          1.33333333 -1.        ]\n",
      " [ 0.          0.          0.          1.25      ]]\n",
      "\n",
      "[[ 2. -1.  0.  0.]\n",
      " [-1.  2. -1.  0.]\n",
      " [ 0. -1.  2. -1.]\n",
      " [ 0.  0. -1.  2.]]\n",
      "[0.8 0.6 0.4 0.2]\n",
      "por otro lado\n",
      "[0.8 0.6 0.4 0.2]\n"
     ]
    }
   ],
   "source": [
    "# Verifiquemos con un ejemplo\n",
    "\n",
    "S = np.array([[2,-1,0,0],\n",
    "              [-1,2,-1,0],\n",
    "              [0, -1,2,-1],\n",
    "              [0,0,-1,2]], dtype=np.float64)\n",
    "              \n",
    "L1, U1 = fastLUdecomposition(S)\n",
    "print(L1)\n",
    "print('')\n",
    "print(U1)\n",
    "print('')\n",
    "print(L1 @ U1)\n",
    "\n",
    "# a continuacion un ejemplo de solucion de Sx=e1, donde x debe ser la primero col de S.inv()\n",
    "\n",
    "y = solve_Ly_Pb(L1, np.eye(len(L1)), np.eye(len(L1))[0])\n",
    "x = solve_Ux_y(U1, y)\n",
    "print(x)\n",
    "print('por otro lado')\n",
    "print(np.linalg.inv(S)[:, 0])"
   ]
  },
  {
   "cell_type": "markdown",
   "metadata": {},
   "source": [
    "#### Aplicaciones de la descomposición $LU$ \n",
    "\n",
    "La descomposición $LU$ puede ser usada para calcular inversas y determinantes con relativa eficiencia.\n",
    "\n",
    "**Inversa**\n",
    "\n",
    " $A = LU \\quad \\Rightarrow \\quad LU A ^{-1} = I $. Al resolver los sistemas con sustitución hacia atrás y hacia adelante: $LU a _{ i} = e _{ i} $ (donde $e _{ i} $ son columnas de la identidad), entonces las soluciones $a _{ i} $ ubicadas como columnas, constituirán:\n",
    "$$A ^{-1}  = \\begin{bmatrix} \n",
    "    a _{ 1} & a _{ 2} & \\cdots & a _{ n} \\\\\n",
    "    | &| & \\  &| \\\\\n",
    " \\end{bmatrix}$$ \n",
    "\n",
    "\n",
    " **Determinante**\n",
    "\n",
    " $\\det (A) = \\det(L) \\det(U) = \\displaystyle \\prod _{i} ^{ n} l _{ ii} \\prod _{i} ^{ n} u _{ ii} = \\displaystyle 1\\prod _{i} ^{ n} u _{ ii}  $ como consecuencia de que $L$ y $U$ son triangulares."
   ]
  },
  {
   "cell_type": "markdown",
   "metadata": {},
   "source": [
    "#### Aplicación a ecuación diferencial bajo condiciones de fontera\n",
    "$$\\displaystyle - \\frac{d ^{ 2} u}{dx ^{ 2} }= f(x), \\quad \\quad 0\\leq x\\leq 1, \\quad u(x) = 0, \\quad u(1) = 0 $$\n",
    "\n",
    "Tomar comoreferencia Strang page 76"
   ]
  },
  {
   "cell_type": "code",
   "execution_count": null,
   "metadata": {},
   "outputs": [],
   "source": []
  }
 ],
 "metadata": {
  "kernelspec": {
   "display_name": "Python 3.9.5 64-bit",
   "language": "python",
   "name": "python3"
  },
  "language_info": {
   "codemirror_mode": {
    "name": "ipython",
    "version": 3
   },
   "file_extension": ".py",
   "mimetype": "text/x-python",
   "name": "python",
   "nbconvert_exporter": "python",
   "pygments_lexer": "ipython3",
   "version": "3.9.5"
  },
  "orig_nbformat": 4,
  "vscode": {
   "interpreter": {
    "hash": "e7370f93d1d0cde622a1f8e1c04877d8463912d04d973331ad4851f04de6915a"
   }
  }
 },
 "nbformat": 4,
 "nbformat_minor": 2
}
