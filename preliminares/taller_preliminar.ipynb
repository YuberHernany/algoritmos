{
 "cells": [
  {
   "cell_type": "markdown",
   "metadata": {},
   "source": [
    "#### Preliminares\n",
    "\n",
    "1) Muestre que las siguientes ecuaciones tienen al menos una solución en los intervalos dados.\n",
    "\n",
    "    a) $x \\cos x - 2 x ^{ 2} + 3x-1 = 0$, en $[0.2,0.3]$ y $[1.2, 1.3]$.\n",
    "\n",
    "    b) $(x-2) ^{ 2} - \\ln x = 0$, en $[1,2]$ y $[e, 4]$.      \n",
    "\n",
    "    c) $2x \\cos(2x) - (x-2) ^{ 2} = 0$, en $[2,3]$ y $[3,4]$.\n",
    "\n",
    "    d) $x - (\\ln x) ^{x} = 0 $, en $[4,5]$     \n",
    "\n",
    "2) Encuentre intervalos conteniendo soluciones de las siguientes ecuaciones:\n",
    "\n",
    "    a) $x - 3 ^{-x}=0 $ \n",
    "\n",
    "    b) $4x ^{ 2} - e ^{x} =0  $ \n",
    "\n",
    "    c) $x ^{3} - 2 x ^{ 2} - 4x + 2 = 0 $ \n",
    "\n",
    "    d) $x ^{3}+ 4.001 x ^{ 2} + 4.002 x + 1.101 = 0 $ \n",
    "\n",
    "\n",
    "3) Muestre que $f'(x) $ es $0$ al menos una vez en los intervalos dados:\n",
    "\n",
    "    a) $f(x) = 1 - e ^{x} + (e-1) \\sin ((\\pi /2) x) $, en $[0,1]$   \n",
    "\n",
    "    b) $f(x) = (x-1) \\tan x + x \\sin ( \\pi x )$, en $[0,1]$  \n",
    "\n",
    "    c) $f(x) = x sin (\\pi x ) - (x-2) \\ln x$, en $[1,2]$  \n",
    "\n",
    "    d) $f(x) = (x-2) \\sin x \\ln (x+2)$, en $[-1,3]$  \n",
    "\n",
    "4) Muestre que $f(x) = x ^{3} + 2x + k $ cruza el eje $x$ exáctamente una vez, sin importar el valor de $k$.\n",
    "\n",
    "5) Suponga que $f\\in C[a,b]$ y $f'(x)$ existe en $(a,b)$. Muestre que si $f'(x) \\neq 0$ para todas las $x$ en $(a,b)$, entonces existe a lo sumo un número $p$ en $[a, b]$ con $f(p)=0$.          \n"
   ]
  }
 ],
 "metadata": {
  "kernelspec": {
   "display_name": "Python 3.9.5 64-bit",
   "language": "python",
   "name": "python3"
  },
  "language_info": {
   "name": "python",
   "version": "3.9.5"
  },
  "orig_nbformat": 4,
  "vscode": {
   "interpreter": {
    "hash": "e7370f93d1d0cde622a1f8e1c04877d8463912d04d973331ad4851f04de6915a"
   }
  }
 },
 "nbformat": 4,
 "nbformat_minor": 2
}
