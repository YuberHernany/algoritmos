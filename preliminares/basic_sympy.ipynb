{
 "cells": [
  {
   "cell_type": "markdown",
   "metadata": {},
   "source": [
    "#### Basic SymPy"
   ]
  },
  {
   "cell_type": "markdown",
   "metadata": {},
   "source": [
    "En nuchas ocasiones se hace necesario realizar cálculos\n",
    "simbólicos que involucran álgebra, diferenciación o\n",
    "integración (entre otras), para luego dar paso al\n",
    "cálculo numérico. Sympy permite la transición.\n",
    "\n",
    "Hay una nueva estructura de dato: `symbols`. Permite crear expresiones simbólicas.\n",
    "\n",
    "La forma clásica de importar es la siguiente:\n",
    "\n"
   ]
  },
  {
   "cell_type": "code",
   "execution_count": 80,
   "metadata": {},
   "outputs": [
    {
     "data": {
      "text/latex": [
       "$\\displaystyle 2 x^{2} + y^{2}$"
      ],
      "text/plain": [
       "2*x**2 + y**2"
      ]
     },
     "execution_count": 80,
     "metadata": {},
     "output_type": "execute_result"
    }
   ],
   "source": [
    "\n",
    "import sympy as sy\n",
    "\n",
    "# para crear símbolos y expresiones\n",
    "x = sy.symbols('x')\n",
    "y = sy.symbols('y')\n",
    "\n",
    "expression = 2 * x**2 + y**2\n",
    "expression"
   ]
  },
  {
   "cell_type": "markdown",
   "metadata": {},
   "source": [
    "`sympy` tiene su propia versión de expresiones simbólicas que representan a las funciones y constantes clásicas de las matemáticas.\n",
    "\n",
    "**Algunas funciones**:\n",
    "\n",
    "* $\\sin(x) \\quad \\to \\quad $ `sy.sin(x)`\n",
    "\n",
    "* $\\cos(x) \\quad \\to \\quad $ `sy.cos(x)`\n",
    "\n",
    "* $e ^{x}  \\quad \\to \\quad $ `sy.exp(x)`\n",
    "\n",
    "* $\\ln(x) \\quad \\to \\quad $ `sy.log(x)`\n",
    "\n",
    "* $\\sqrt{x} \\quad \\to \\quad $ `sy.sqrt(x)`\n",
    "\n",
    "\n",
    "**Algunas constantes**:\n",
    "\n",
    "* $\\pi \\quad \\to \\quad $ `sy.pi`\n",
    "\n",
    "* $e \\quad \\to \\quad $ `sy.E` \n",
    "\n",
    "* $i=\\sqrt{-1} \\quad \\to \\quad $ `sy.I` \n",
    "\n",
    "* $\\infty \\quad \\to \\quad $ `sy.oo` \n",
    "\n",
    "\n"
   ]
  },
  {
   "cell_type": "markdown",
   "metadata": {},
   "source": [
    "Se recomienda no mezclar funciones o constantes de Sympy con funciones o constantes de NumPy en una misma sentencia."
   ]
  },
  {
   "cell_type": "code",
   "execution_count": 81,
   "metadata": {},
   "outputs": [],
   "source": [
    "import numpy as np\n",
    "import sympy as sy\n",
    "\n",
    "# print(np.cos(sy.pi)) # produce error\n",
    "\n",
    "# print(np.cos(x)) # produce error\n",
    "\n",
    "# print(type(sy.cos(np.pi))) # no produce error, pero se recomienda no mezclar"
   ]
  },
  {
   "cell_type": "code",
   "execution_count": 82,
   "metadata": {},
   "outputs": [],
   "source": [
    "# forma \"incorrecta\"\n",
    "expr_incorrecta = (2/3) * sy.sin(sy.pi/4)\n",
    "\n",
    "# forma correcta usando sy.Rational\n",
    "expr_correcta = sy.Rational(2,3) * sy.sin(sy.pi/4)"
   ]
  },
  {
   "cell_type": "code",
   "execution_count": 83,
   "metadata": {},
   "outputs": [
    {
     "data": {
      "text/latex": [
       "$\\displaystyle 0.333333333333333 \\sqrt{2}$"
      ],
      "text/plain": [
       "0.333333333333333*sqrt(2)"
      ]
     },
     "execution_count": 83,
     "metadata": {},
     "output_type": "execute_result"
    }
   ],
   "source": [
    "expr_incorrecta"
   ]
  },
  {
   "cell_type": "code",
   "execution_count": 84,
   "metadata": {},
   "outputs": [
    {
     "data": {
      "text/latex": [
       "$\\displaystyle \\frac{\\sqrt{2}}{3}$"
      ],
      "text/plain": [
       "sqrt(2)/3"
      ]
     },
     "execution_count": 84,
     "metadata": {},
     "output_type": "execute_result"
    }
   ],
   "source": [
    "expr_correcta"
   ]
  },
  {
   "cell_type": "code",
   "execution_count": 85,
   "metadata": {},
   "outputs": [
    {
     "data": {
      "text/plain": [
       "sympy.core.mul.Mul"
      ]
     },
     "execution_count": 85,
     "metadata": {},
     "output_type": "execute_result"
    }
   ],
   "source": [
    "type(expr_correcta)"
   ]
  },
  {
   "cell_type": "code",
   "execution_count": 86,
   "metadata": {},
   "outputs": [
    {
     "data": {
      "text/latex": [
       "$\\displaystyle \\frac{x^{2} - 1}{x - 1}$"
      ],
      "text/plain": [
       "(x**2 - 1)/(x - 1)"
      ]
     },
     "execution_count": 86,
     "metadata": {},
     "output_type": "execute_result"
    }
   ],
   "source": [
    "# algunos métodos sobre expresiones de sympy\n",
    "x = sy.symbols('x')\n",
    "expr1 = x ** 2 - 1\n",
    "expr2 = x - 1\n",
    "expr3 = expr1 / expr2\n",
    "expr3"
   ]
  },
  {
   "cell_type": "code",
   "execution_count": 87,
   "metadata": {},
   "outputs": [
    {
     "data": {
      "text/latex": [
       "$\\displaystyle x + 1$"
      ],
      "text/plain": [
       "x + 1"
      ]
     },
     "execution_count": 87,
     "metadata": {},
     "output_type": "execute_result"
    }
   ],
   "source": [
    "# cancelar \n",
    "expr3.cancel()\n",
    "# expr3 # expr3 no se modifica\n",
    "# un método sobre una expresión no muta expresión original"
   ]
  },
  {
   "cell_type": "code",
   "execution_count": 88,
   "metadata": {},
   "outputs": [
    {
     "data": {
      "text/latex": [
       "$\\displaystyle \\left(x - 1\\right) \\left(x + 1\\right)$"
      ],
      "text/plain": [
       "(x - 1)*(x + 1)"
      ]
     },
     "execution_count": 88,
     "metadata": {},
     "output_type": "execute_result"
    }
   ],
   "source": [
    "# factorizar\n",
    "expr1.factor()"
   ]
  },
  {
   "cell_type": "code",
   "execution_count": 89,
   "metadata": {},
   "outputs": [
    {
     "data": {
      "text/latex": [
       "$\\displaystyle \\frac{x^{2}}{x - 1} - \\frac{1}{x - 1}$"
      ],
      "text/plain": [
       "x**2/(x - 1) - 1/(x - 1)"
      ]
     },
     "execution_count": 89,
     "metadata": {},
     "output_type": "execute_result"
    }
   ],
   "source": [
    "# expandir\n",
    "expr3.expand()\n",
    "# expr2.factor().expand()"
   ]
  },
  {
   "cell_type": "code",
   "execution_count": 90,
   "metadata": {},
   "outputs": [],
   "source": [
    "# el operador == no compara equivalencia algebraica.\n",
    "# el operador == compara igualdad exacta estructural.\n",
    "# (x ** 2 - 1) == (x+1) * (x-1)\n",
    "# (x ** 2 - 1) == ((x+1) * (x-1)).expand()\n",
    "# (x ** 2.0 - 1) == (x ** 2 - 1) # se recomienda no usar flotantes\n"
   ]
  },
  {
   "cell_type": "markdown",
   "metadata": {},
   "source": [
    "Si se quiere un tipo float, se usa `.evalf()`"
   ]
  },
  {
   "cell_type": "code",
   "execution_count": 91,
   "metadata": {},
   "outputs": [
    {
     "data": {
      "text/latex": [
       "$\\displaystyle 0.471404520791032$"
      ],
      "text/plain": [
       "0.471404520791032"
      ]
     },
     "execution_count": 91,
     "metadata": {},
     "output_type": "execute_result"
    }
   ],
   "source": [
    "expr_correcta.evalf()"
   ]
  },
  {
   "cell_type": "markdown",
   "metadata": {},
   "source": [
    "Hay una forma alternativa y es usar el método `.subs()`"
   ]
  },
  {
   "cell_type": "code",
   "execution_count": 92,
   "metadata": {},
   "outputs": [
    {
     "data": {
      "text/latex": [
       "$\\displaystyle 2 x^{2} + y^{2}$"
      ],
      "text/plain": [
       "2*x**2 + y**2"
      ]
     },
     "execution_count": 92,
     "metadata": {},
     "output_type": "execute_result"
    }
   ],
   "source": [
    "expression"
   ]
  },
  {
   "cell_type": "code",
   "execution_count": 93,
   "metadata": {},
   "outputs": [
    {
     "name": "stdout",
     "output_type": "stream",
     "text": [
      "<class 'sympy.core.add.Add'>\n"
     ]
    },
    {
     "data": {
      "text/latex": [
       "$\\displaystyle y^{2} + 8$"
      ],
      "text/plain": [
       "y**2 + 8"
      ]
     },
     "execution_count": 93,
     "metadata": {},
     "output_type": "execute_result"
    }
   ],
   "source": [
    "# Ojo! Sustituir en una expresión, es nuevamente una expresión!\n",
    "print(type(expression.subs(x,2)))\n",
    "expression.subs(x, 2)"
   ]
  },
  {
   "cell_type": "code",
   "execution_count": 94,
   "metadata": {},
   "outputs": [
    {
     "name": "stdout",
     "output_type": "stream",
     "text": [
      "<class 'sympy.core.numbers.Integer'>\n"
     ]
    },
    {
     "data": {
      "text/latex": [
       "$\\displaystyle 9$"
      ],
      "text/plain": [
       "9"
      ]
     },
     "execution_count": 94,
     "metadata": {},
     "output_type": "execute_result"
    }
   ],
   "source": [
    "# ejemplo de número que no es float sino Integer de SymPy\n",
    "print(type(expression.subs({x:2, y:1})))\n",
    "expression.subs({x:2, y:1})"
   ]
  },
  {
   "cell_type": "code",
   "execution_count": 95,
   "metadata": {},
   "outputs": [
    {
     "name": "stdout",
     "output_type": "stream",
     "text": [
      "<class 'sympy.core.numbers.Float'>\n"
     ]
    },
    {
     "data": {
      "text/latex": [
       "$\\displaystyle 9.0$"
      ],
      "text/plain": [
       "9.00000000000000"
      ]
     },
     "execution_count": 95,
     "metadata": {},
     "output_type": "execute_result"
    }
   ],
   "source": [
    "# ejemplo para obtener un float\n",
    "print(type(expression.subs({x:2, y:1}).evalf()))\n",
    "expression.subs({x:2, y:1}).evalf()"
   ]
  },
  {
   "cell_type": "markdown",
   "metadata": {},
   "source": [
    "**Uso de expresiones para crear funciones**"
   ]
  },
  {
   "cell_type": "code",
   "execution_count": 96,
   "metadata": {},
   "outputs": [
    {
     "name": "stdout",
     "output_type": "stream",
     "text": [
      "<class 'function'>\n",
      "-0.9026853619330714\n",
      "<class 'function'>\n",
      "0.5\n"
     ]
    }
   ],
   "source": [
    "import sympy as sy\n",
    "\n",
    "x, y = sy.symbols('x y')\n",
    "expr1 = sy.cos(x**2)\n",
    "expr2 = sy.cos(x) * sy.sin(y)\n",
    "\n",
    "f = sy.lambdify(x, expr1, \"numpy\")\n",
    "print(type(f))\n",
    "print(f(np.pi)) # ya se puede usar np\n",
    "\n",
    "g = sy.lambdify((x,y), expr2, \"numpy\")\n",
    "print(type(g))\n",
    "print(g(np.pi/4, np.pi/4))"
   ]
  },
  {
   "cell_type": "code",
   "execution_count": 97,
   "metadata": {},
   "outputs": [
    {
     "name": "stdout",
     "output_type": "stream",
     "text": [
      "CPU times: user 7.16 s, sys: 30.8 ms, total: 7.19 s\n",
      "Wall time: 7.27 s\n",
      "CPU times: user 16.3 ms, sys: 0 ns, total: 16.3 ms\n",
      "Wall time: 16.2 ms\n",
      "CPU times: user 587 µs, sys: 14 µs, total: 601 µs\n",
      "Wall time: 385 µs\n"
     ]
    }
   ],
   "source": [
    "# OPCIONAL: Ventajas de usar sy.lambdify con numpy\n",
    "\n",
    "x = sy.symbols('x')\n",
    "expre = sy.tanh(x)\n",
    "points = np.random.random(10000)\n",
    "\n",
    "# evalf()\n",
    "%time _ = [expre.subs(x, pt).evalf() for pt in points]\n",
    "\n",
    "# lambdify without numpy\n",
    "f = sy.lambdify(x, expre)\n",
    "%time _ = [f(pt) for pt in points]\n",
    "\n",
    "# lambdify with numpy\n",
    "f = sy.lambdify(x, expre, \"numpy\")\n",
    "%time _ = f(points)\n",
    "\n"
   ]
  },
  {
   "cell_type": "markdown",
   "metadata": {},
   "source": [
    "**Procesos de derivación o integración simbólica**"
   ]
  },
  {
   "cell_type": "code",
   "execution_count": 103,
   "metadata": {},
   "outputs": [
    {
     "data": {
      "text/latex": [
       "$\\displaystyle 6 x$"
      ],
      "text/plain": [
       "6*x"
      ]
     },
     "execution_count": 103,
     "metadata": {},
     "output_type": "execute_result"
    }
   ],
   "source": [
    "import sympy as sy\n",
    "x = sy.symbols('x')\n",
    "expr3 = x**3\n",
    "expr3_prima = sy.diff(expr3, x)\n",
    "expr3_prima\n",
    "expr3_doble_prima = sy.diff(expr3, x, 2)\n",
    "expr3_doble_prima"
   ]
  },
  {
   "cell_type": "code",
   "execution_count": 99,
   "metadata": {},
   "outputs": [
    {
     "data": {
      "text/latex": [
       "$\\displaystyle \\frac{d}{d x} x^{3}$"
      ],
      "text/plain": [
       "Derivative(x**3, x)"
      ]
     },
     "execution_count": 99,
     "metadata": {},
     "output_type": "execute_result"
    }
   ],
   "source": [
    "Derivada_indicada = sy.Derivative(expr3, x)\n",
    "# no se ha efectuado el cálculo de la derivada, sólo se ha indicado\n",
    "Derivada_indicada "
   ]
  },
  {
   "cell_type": "code",
   "execution_count": 100,
   "metadata": {},
   "outputs": [
    {
     "data": {
      "text/latex": [
       "$\\displaystyle \\frac{x^{4}}{4}$"
      ],
      "text/plain": [
       "x**4/4"
      ]
     },
     "execution_count": 100,
     "metadata": {},
     "output_type": "execute_result"
    }
   ],
   "source": [
    "import sympy as sy\n",
    "x = sy.symbols('x')\n",
    "expr3 = x**3\n",
    "expr3_antidev = sy.integrate(expr3, x)\n",
    "expr3_antidev"
   ]
  },
  {
   "cell_type": "code",
   "execution_count": 101,
   "metadata": {},
   "outputs": [
    {
     "data": {
      "text/latex": [
       "$\\displaystyle \\int x^{3}\\, dx$"
      ],
      "text/plain": [
       "Integral(x**3, x)"
      ]
     },
     "execution_count": 101,
     "metadata": {},
     "output_type": "execute_result"
    }
   ],
   "source": [
    "Antiderivada_indicada = sy.Integral(expr3, x)\n",
    "# no se ha efectuado el cálculo de la integral, sólo se ha indicado\n",
    "Antiderivada_indicada "
   ]
  },
  {
   "attachments": {},
   "cell_type": "markdown",
   "metadata": {},
   "source": [
    "### Mini-taller\n",
    "\n",
    "1) Escriba una función en Python que retorne la expresión $\\frac{2}{5} e ^{x ^{ 2} -y} \\cosh (x+y) + \\frac{3}{7} \\log(xy+1)   $ \n",
    "\n",
    "2) Escriba una función en Python que reciba un entero positivo $N$ y que retorne la expresión simbólica $\\displaystyle \\sum _{n=0}  ^{N} \\frac{x ^{ n} }{n!}  $. (**Sug:** Use `sy.factorial()` y utilice la función `sum()` que opera sobre listas\n",
    ").\n",
    "\n",
    "3) Considere $f(x) = 2 x ^{3} - 21 x ^{ 2}  + 60 x + 10 $. Diga cuáles son sus puntos críticos (donde su derivada es $0$) y decida qué tipo de extremo relativo se tiene en cada punto crítico según el signo de la segunda derivada."
   ]
  }
 ],
 "metadata": {
  "kernelspec": {
   "display_name": "Python 3.9.5 64-bit",
   "language": "python",
   "name": "python3"
  },
  "language_info": {
   "codemirror_mode": {
    "name": "ipython",
    "version": 3
   },
   "file_extension": ".py",
   "mimetype": "text/x-python",
   "name": "python",
   "nbconvert_exporter": "python",
   "pygments_lexer": "ipython3",
   "version": "3.9.5"
  },
  "orig_nbformat": 4,
  "vscode": {
   "interpreter": {
    "hash": "e7370f93d1d0cde622a1f8e1c04877d8463912d04d973331ad4851f04de6915a"
   }
  }
 },
 "nbformat": 4,
 "nbformat_minor": 2
}
