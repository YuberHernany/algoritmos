{
 "cells": [
  {
   "cell_type": "markdown",
   "metadata": {},
   "source": [
    "<a href=\"https://colab.research.google.com/github/YuberHernany/algoritmos/blob/main/preliminares/basic_python.ipynb\">\n",
    "  <img src=\"https://colab.research.google.com/assets/colab-badge.svg\" alt=\"Open In Colab\"/>\n",
    "</a>"
   ]
  },
  {
   "cell_type": "markdown",
   "metadata": {},
   "source": [
    "#### Introducción a Python\n",
    "\n",
    "Sintaxis, tipos de datos, funciones y sentencias de control."
   ]
  },
  {
   "cell_type": "code",
   "execution_count": 1,
   "metadata": {},
   "outputs": [],
   "source": [
    "# Comentar. Todo lo escrito después de # es ignorado"
   ]
  },
  {
   "cell_type": "code",
   "execution_count": 2,
   "metadata": {},
   "outputs": [
    {
     "name": "stdout",
     "output_type": "stream",
     "text": [
      "Hola\n"
     ]
    }
   ],
   "source": [
    "print('Hola') # lo que viene antes de # es ejecutado"
   ]
  },
  {
   "cell_type": "markdown",
   "metadata": {},
   "source": [
    "**Aritmética**"
   ]
  },
  {
   "cell_type": "code",
   "execution_count": 3,
   "metadata": {},
   "outputs": [
    {
     "data": {
      "text/plain": [
       "19"
      ]
     },
     "execution_count": 3,
     "metadata": {},
     "output_type": "execute_result"
    }
   ],
   "source": [
    "3**2 + 2*5 # python respeta jerarquía de operaciones"
   ]
  },
  {
   "cell_type": "code",
   "execution_count": 4,
   "metadata": {},
   "outputs": [
    {
     "data": {
      "text/plain": [
       "1"
      ]
     },
     "execution_count": 4,
     "metadata": {},
     "output_type": "execute_result"
    }
   ],
   "source": [
    "13 % 3  # el operador % calcula el residuo en la división entera"
   ]
  },
  {
   "cell_type": "code",
   "execution_count": 5,
   "metadata": {},
   "outputs": [
    {
     "data": {
      "text/plain": [
       "True"
      ]
     },
     "execution_count": 5,
     "metadata": {},
     "output_type": "execute_result"
    }
   ],
   "source": [
    "3 > 2.99 \n",
    "# (1.0 <= 1) or (2 > 3)\n",
    "# (7 == 7) and (not (4 < 4))"
   ]
  },
  {
   "cell_type": "markdown",
   "metadata": {},
   "source": [
    "##### Variables\n",
    "\n",
    "En donde almacenamos valores.\n",
    "\n",
    "El operador `=` asigna un valor (derecha) a un nombre (izquierda). \n",
    "\n",
    "El operador `==` compara y retorna `True` o `False`."
   ]
  },
  {
   "cell_type": "code",
   "execution_count": 6,
   "metadata": {},
   "outputs": [
    {
     "data": {
      "text/plain": [
       "False"
      ]
     },
     "execution_count": 6,
     "metadata": {},
     "output_type": "execute_result"
    }
   ],
   "source": [
    "x = 12\n",
    "y = 2 * 6\n",
    "x == y\n",
    "\n",
    "x, y = 2, 4\n",
    "x == y"
   ]
  },
  {
   "cell_type": "markdown",
   "metadata": {},
   "source": [
    "##### Funciones"
   ]
  },
  {
   "cell_type": "code",
   "execution_count": 7,
   "metadata": {},
   "outputs": [
    {
     "data": {
      "text/plain": [
       "6"
      ]
     },
     "execution_count": 7,
     "metadata": {},
     "output_type": "execute_result"
    }
   ],
   "source": [
    "# definir la función. base y altura son parámetros\n",
    "def area_rectangulo(base, altura):\n",
    "    return base * altura\n",
    "\n",
    "# usar o LLAMAR la función. 2 y 3 son argumentos\n",
    "area_rectangulo(2, 3)"
   ]
  },
  {
   "cell_type": "code",
   "execution_count": 8,
   "metadata": {},
   "outputs": [
    {
     "name": "stdout",
     "output_type": "stream",
     "text": [
      "-1 6\n"
     ]
    }
   ],
   "source": [
    "# función que retorna más de un resultado\n",
    "def resta_y_producto(a, b):\n",
    "    return a-b, a*b\n",
    "\n",
    "# desempacar resultados\n",
    "r, p = resta_y_producto(2, 3)\n",
    "print(r, p)\n"
   ]
  },
  {
   "cell_type": "code",
   "execution_count": 9,
   "metadata": {},
   "outputs": [
    {
     "data": {
      "text/plain": [
       "-1"
      ]
     },
     "execution_count": 9,
     "metadata": {},
     "output_type": "execute_result"
    }
   ],
   "source": [
    "# funciones sencillas: documentación sencilla.\n",
    "# Funciones complejas: documentación cuidadosa.\n",
    "def resta_y_producto(a, b):\n",
    "    \"\"\" Entradas: \n",
    "                float a. minuendo o primer factor\n",
    "                float b. sustraendo o segundo factor\n",
    "        Salidas:\n",
    "                float r. resta\n",
    "                float p. producto\n",
    "    \"\"\"    \n",
    "    return a-b, a*b\n",
    "\n",
    "# funciones anónimas (de una sola línea)\n",
    "resta = lambda a, b: a-b  #  No requiere documentación\n",
    "resta(2,3)"
   ]
  },
  {
   "cell_type": "markdown",
   "metadata": {},
   "source": [
    "**Ejercicio 1**\n",
    "\n",
    "Defina una función `volumen_esfera` que tenga parámetro $r$ y retorne $\\frac{4}{3}\\pi r ^{3}  $ "
   ]
  },
  {
   "cell_type": "code",
   "execution_count": 10,
   "metadata": {},
   "outputs": [
    {
     "name": "stdout",
     "output_type": "stream",
     "text": [
      "3\n",
      "None 3\n"
     ]
    }
   ],
   "source": [
    "# Usar estatuto return en lugar de print si se pretende\n",
    "# capturar el resultado de una función\n",
    "def oops(n):\n",
    "    print(n+1) # imprime incremento, pero no retorna\n",
    "\n",
    "def incrementa(n):\n",
    "    return n+1\n",
    "\n",
    "resultado1, resultado2 = oops(2), incrementa(2)\n",
    "print(resultado1, resultado2)"
   ]
  },
  {
   "cell_type": "code",
   "execution_count": 11,
   "metadata": {},
   "outputs": [
    {
     "name": "stdout",
     "output_type": "stream",
     "text": [
      "1 2 3\n",
      "1 2 0\n"
     ]
    }
   ],
   "source": [
    "# valores por defecto\n",
    "def tabla(a, b, c=0): # a y b argumentos posicionales. c=0 tiene que ir al final\n",
    "    print(a, b, c)\n",
    "\n",
    "tabla(1,2,3) # llamar cambiando valor por defecto\n",
    "tabla(1,2)   # llamar aceptando valor por defecto"
   ]
  },
  {
   "cell_type": "markdown",
   "metadata": {},
   "source": [
    "**Tipos de dato numérico y cadenas de caracteres**"
   ]
  },
  {
   "cell_type": "code",
   "execution_count": 12,
   "metadata": {},
   "outputs": [
    {
     "data": {
      "text/plain": [
       "int"
      ]
     },
     "execution_count": 12,
     "metadata": {},
     "output_type": "execute_result"
    }
   ],
   "source": [
    "type(\"maths\")\n",
    "type(2)\n",
    "type(2.0)\n",
    "type(15/4)\n",
    "type(15//4)"
   ]
  },
  {
   "cell_type": "markdown",
   "metadata": {},
   "source": [
    "**Listas**\n",
    "\n",
    "Almacena valores (posiblemente de diferentes tipos) en forma ordenada, separada por coma y encerrados en corchete. Puede mutar."
   ]
  },
  {
   "cell_type": "code",
   "execution_count": 18,
   "metadata": {},
   "outputs": [
    {
     "data": {
      "text/plain": [
       "[1, 2]"
      ]
     },
     "execution_count": 18,
     "metadata": {},
     "output_type": "execute_result"
    }
   ],
   "source": [
    "mi_lista = ['maths', 3, 3.14159, 'True', [1,2]]\n",
    "mi_lista[0]  # primer elemento\n",
    "mi_lista[1]  # segundo elemento\n",
    "mi_lista[-1] # último elemento"
   ]
  },
  {
   "cell_type": "code",
   "execution_count": 19,
   "metadata": {},
   "outputs": [
    {
     "name": "stdout",
     "output_type": "stream",
     "text": [
      "['maths', 3, 3.14159, 'True', [1, 2], 5]\n",
      "['maths', 3, 'insertado', 3.14159, 'True', [1, 2], 5]\n",
      "['maths', 'insertado', 3.14159, 'True', [1, 2], 5]\n",
      "['insertado', 3.14159, 'True', [1, 2], 5]\n",
      "lo extraido:  maths\n"
     ]
    }
   ],
   "source": [
    "# algunos métodos o funciones predefinidas para listas\n",
    "mi_lista.append(5)  # agrega al final el valor 5\n",
    "print(mi_lista)\n",
    "mi_lista.insert(2, 'insertado') # inserta 'insertado' en el index 2 (tercera posición)\n",
    "print(mi_lista)\n",
    "mi_lista.remove(3)  # remueve el valor 3\n",
    "print(mi_lista)\n",
    "extraido = mi_lista.pop(0)  # elimina primer elemento y lo captura en extraido\n",
    "print(mi_lista)\n",
    "print(\"lo extraido: \", extraido)"
   ]
  },
  {
   "cell_type": "code",
   "execution_count": 20,
   "metadata": {},
   "outputs": [
    {
     "name": "stdout",
     "output_type": "stream",
     "text": [
      "[0, 0, 'True', [1, 2], 5]\n"
     ]
    }
   ],
   "source": [
    "# rebanados usados para cambiar porciones\n",
    "mi_lista[:2] = [0,0]\n",
    "print(mi_lista)"
   ]
  },
  {
   "cell_type": "code",
   "execution_count": 21,
   "metadata": {},
   "outputs": [
    {
     "data": {
      "text/plain": [
       "False"
      ]
     },
     "execution_count": 21,
     "metadata": {},
     "output_type": "execute_result"
    }
   ],
   "source": [
    "# el operador especial in, verifica membresía\n",
    "-1 in mi_lista"
   ]
  },
  {
   "cell_type": "markdown",
   "metadata": {},
   "source": [
    "**Tuplas**\n",
    "\n",
    "Almacena valores en forma ordenada, separada por coma y encerrados en paréntesis. No puede mutar."
   ]
  },
  {
   "cell_type": "code",
   "execution_count": 17,
   "metadata": {},
   "outputs": [
    {
     "ename": "TypeError",
     "evalue": "'tuple' object does not support item assignment",
     "output_type": "error",
     "traceback": [
      "\u001b[0;31m---------------------------------------------------------------------------\u001b[0m",
      "\u001b[0;31mTypeError\u001b[0m                                 Traceback (most recent call last)",
      "\u001b[0;32m<ipython-input-17-b0bdc3c786dd>\u001b[0m in \u001b[0;36m<module>\u001b[0;34m\u001b[0m\n\u001b[1;32m      2\u001b[0m \u001b[0mmi_tupla\u001b[0m\u001b[0;34m[\u001b[0m\u001b[0;36m0\u001b[0m\u001b[0;34m]\u001b[0m  \u001b[0;31m# pimer elemento\u001b[0m\u001b[0;34m\u001b[0m\u001b[0;34m\u001b[0m\u001b[0m\n\u001b[1;32m      3\u001b[0m \u001b[0mmi_tupla\u001b[0m\u001b[0;34m[\u001b[0m\u001b[0;34m-\u001b[0m\u001b[0;36m1\u001b[0m\u001b[0;34m]\u001b[0m  \u001b[0;31m# último elemento\u001b[0m\u001b[0;34m\u001b[0m\u001b[0;34m\u001b[0m\u001b[0m\n\u001b[0;32m----> 4\u001b[0;31m \u001b[0mmi_tupla\u001b[0m\u001b[0;34m[\u001b[0m\u001b[0;36m0\u001b[0m\u001b[0;34m]\u001b[0m \u001b[0;34m=\u001b[0m \u001b[0;36m4\u001b[0m \u001b[0;31m# No muta\u001b[0m\u001b[0;34m\u001b[0m\u001b[0;34m\u001b[0m\u001b[0m\n\u001b[0m",
      "\u001b[0;31mTypeError\u001b[0m: 'tuple' object does not support item assignment"
     ]
    }
   ],
   "source": [
    "mi_tupla = (1,2,3)\n",
    "mi_tupla[0]  # pimer elemento\n",
    "mi_tupla[-1]  # último elemento\n",
    "mi_tupla[0] = 4 # No muta"
   ]
  },
  {
   "cell_type": "markdown",
   "metadata": {},
   "source": [
    "**Estatutos de control de flujo**"
   ]
  },
  {
   "cell_type": "code",
   "execution_count": 25,
   "metadata": {},
   "outputs": [
    {
     "name": "stdout",
     "output_type": "stream",
     "text": [
      "20 es múltiplo de 2\n"
     ]
    }
   ],
   "source": [
    "x = 20\n",
    "if (x % 3 == 0): # siempre va con una condición\n",
    "    print(f\"{x} es múltiplo de 3\")\n",
    "elif (x // 5 == 0):\n",
    "    print(f\"{x} es múltiplo de 5\")\n",
    "elif (x % 2 == 0):\n",
    "    print(f\"{x} es múltiplo de 2\")\n",
    "else:  # El flujo llega hasta acá, solo nada previo se ejecuta\n",
    "    print(f\"ni 2, ni 3, ni 5 dividen a {x}\")"
   ]
  },
  {
   "cell_type": "code",
   "execution_count": 28,
   "metadata": {},
   "outputs": [
    {
     "name": "stdout",
     "output_type": "stream",
     "text": [
      "0\n",
      "1\n",
      "2\n",
      "3\n",
      "4\n"
     ]
    }
   ],
   "source": [
    "i = 0\n",
    "while i < 5: # Condición\n",
    "    print(i)\n",
    "    i += 1 # siempre modificar variables de la condición"
   ]
  },
  {
   "cell_type": "code",
   "execution_count": null,
   "metadata": {},
   "outputs": [
    {
     "name": "stdout",
     "output_type": "stream",
     "text": [
      "0\n",
      "1\n",
      "2\n"
     ]
    }
   ],
   "source": [
    "j = 0\n",
    "while j < 10:\n",
    "    print(j)\n",
    "    j += 1\n",
    "    if j >= 3:\n",
    "        break # sale del bloque tipo while"
   ]
  },
  {
   "cell_type": "code",
   "execution_count": null,
   "metadata": {},
   "outputs": [
    {
     "name": "stdout",
     "output_type": "stream",
     "text": [
      "1\n",
      "3\n",
      "5\n"
     ]
    }
   ],
   "source": [
    "k = 0\n",
    "while k < 6:\n",
    "    k += 1\n",
    "    if (k % 2 == 0):\n",
    "        continue  # Salta a los pares\n",
    "    print(k)"
   ]
  },
  {
   "cell_type": "code",
   "execution_count": 29,
   "metadata": {},
   "outputs": [
    {
     "name": "stdout",
     "output_type": "stream",
     "text": [
      "red!\n",
      "green!\n",
      "blue!\n",
      "1 red\n",
      "2 green\n",
      "3 blue\n",
      "red 0\n",
      "green 1\n",
      "blue 2\n",
      "blue\n",
      "green\n",
      "red\n"
     ]
    }
   ],
   "source": [
    "# formas de uso de estatuto for\n",
    "colors = ['red', 'green', 'blue']\n",
    "numbers = [1,2,3,4]\n",
    "\n",
    "for cosa in colors:\n",
    "    print(cosa + \"!\")\n",
    "\n",
    "for c, n in zip(colors, numbers):\n",
    "    print(n, c)\n",
    "\n",
    "for index, color in enumerate(colors):\n",
    "    print(color, index)\n",
    "\n",
    "for color in reversed(colors):\n",
    "    print(color)"
   ]
  },
  {
   "cell_type": "code",
   "execution_count": 31,
   "metadata": {},
   "outputs": [
    {
     "name": "stdout",
     "output_type": "stream",
     "text": [
      "2\n",
      "12\n",
      "22\n",
      "32\n",
      "42\n",
      "52\n",
      "3 5 6 "
     ]
    }
   ],
   "source": [
    "for i in range(2, 60, 10):\n",
    "    print(i)\n",
    "\n",
    "for num in sorted([5,3,6]):\n",
    "    print(num, end=' ')"
   ]
  },
  {
   "cell_type": "code",
   "execution_count": 33,
   "metadata": {},
   "outputs": [
    {
     "data": {
      "text/plain": [
       "[0, 1, 2]"
      ]
     },
     "execution_count": 33,
     "metadata": {},
     "output_type": "execute_result"
    }
   ],
   "source": [
    "# el único propósito del iterador, es ser recorrido\n",
    "# type(range(3)) # range(3) no es lista , sino iterador\n",
    "\n",
    "list(range(3)) # cambio de tipo\n",
    "# tuple(range(3)) # cambio de tipo \n",
    "\n",
    "# opcional poner problema 7, page 19."
   ]
  },
  {
   "cell_type": "markdown",
   "metadata": {},
   "source": [
    "**List comprehension**: Usa estatuto `for` dentro de corchetes."
   ]
  },
  {
   "cell_type": "code",
   "execution_count": 35,
   "metadata": {},
   "outputs": [
    {
     "name": "stdout",
     "output_type": "stream",
     "text": [
      "[0, 1, 4, 9, 16, 25, 36, 49, 64, 81]\n",
      "[0, 4, 16, 36, 64]\n",
      "[1, 9, 25, 49, 81]\n"
     ]
    },
    {
     "data": {
      "text/plain": [
       "[1, 9, 25, 49, 81]"
      ]
     },
     "execution_count": 35,
     "metadata": {},
     "output_type": "execute_result"
    }
   ],
   "source": [
    "cuadrados = [n**2 for n in range(10)]\n",
    "print(cuadrados)\n",
    "cuadrados_pares = [c for c in cuadrados if c % 2 == 0]\n",
    "print(cuadrados_pares)\n",
    "cuadrados_impares = [n ** 2 for n in range(10) if n % 2 == 1]\n",
    "print(cuadrados_impares)\n",
    "cuadrados_impares = [c for c in cuadrados if c % 2 == 1]\n",
    "cuadrados_impares"
   ]
  },
  {
   "cell_type": "markdown",
   "metadata": {},
   "source": [
    "#### Otros\n",
    "\n",
    "**Entrada generalizada para funciones**: Funciones usadas sin conocimiento de los argumentos ni del número de los mismos"
   ]
  },
  {
   "cell_type": "code",
   "execution_count": null,
   "metadata": {},
   "outputs": [
    {
     "name": "stdout",
     "output_type": "stream",
     "text": [
      "0 2\n",
      "1 3\n",
      "2 5\n",
      "otro_primo 7\n",
      "no_primo 8\n"
     ]
    }
   ],
   "source": [
    "def reportar(*args, **kwargs): # args: tupla, kwargs: dict\n",
    "    # el asterisco ordena desempacar entradas de args y kwargs\n",
    "    for i, arg in enumerate(args):\n",
    "        print(i, arg)\n",
    "    for key in kwargs:\n",
    "        print(key, kwargs[key])\n",
    "\n",
    "reportar(2, 3, 5, otro_primo=7, no_primo=8)"
   ]
  },
  {
   "cell_type": "markdown",
   "metadata": {},
   "source": [
    "**Funciones decoradoras**: Reciben y retornan funciones. Se usan para procesos con entradas y salidas de una función original"
   ]
  },
  {
   "cell_type": "code",
   "execution_count": null,
   "metadata": {},
   "outputs": [],
   "source": [
    "def impresor_de_tipo_de_dato(func):\n",
    "    \"\"\"Decorador que imprime el tipo de dato de salida de func\"\"\"\n",
    "    def funcion_interna(*args, **kwargs):\n",
    "        salida = func(*args, **kwargs)\n",
    "        print(\"La salida es de tipo: \", type(salida))\n",
    "        return salida\n",
    "    return funcion_interna"
   ]
  },
  {
   "cell_type": "code",
   "execution_count": null,
   "metadata": {},
   "outputs": [],
   "source": [
    "# para usar una función decoradora, se debe poner encabezado @nombre_de_funcion_decoradora. Ej:\n",
    "\n",
    "@impresor_de_tipo_de_dato\n",
    "def perimetro(a, b, c):\n",
    "    return a + b + c"
   ]
  },
  {
   "cell_type": "code",
   "execution_count": null,
   "metadata": {},
   "outputs": [
    {
     "name": "stdout",
     "output_type": "stream",
     "text": [
      "La salida es de tipo:  <class 'int'>\n"
     ]
    },
    {
     "data": {
      "text/plain": [
       "6"
      ]
     },
     "execution_count": 32,
     "metadata": {},
     "output_type": "execute_result"
    }
   ],
   "source": [
    "perimetro(1,2,3)\n",
    "# perimetro(1., 2, 3)\n",
    "# perimetro('a', 'b', 'c')"
   ]
  },
  {
   "cell_type": "code",
   "execution_count": null,
   "metadata": {},
   "outputs": [],
   "source": []
  }
 ],
 "metadata": {
  "kernelspec": {
   "display_name": "Python 3.9.5 64-bit",
   "language": "python",
   "name": "python3"
  },
  "language_info": {
   "codemirror_mode": {
    "name": "ipython",
    "version": 3
   },
   "file_extension": ".py",
   "mimetype": "text/x-python",
   "name": "python",
   "nbconvert_exporter": "python",
   "pygments_lexer": "ipython3",
   "version": "3.9.5"
  },
  "orig_nbformat": 4,
  "vscode": {
   "interpreter": {
    "hash": "e7370f93d1d0cde622a1f8e1c04877d8463912d04d973331ad4851f04de6915a"
   }
  }
 },
 "nbformat": 4,
 "nbformat_minor": 2
}
