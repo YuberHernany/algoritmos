{
 "cells": [
  {
   "cell_type": "markdown",
   "metadata": {},
   "source": [
    "#### Secuencia de números que converge a $\\sqrt{a}$ con $a > 0$.\n",
    "\n",
    "El proceso siguiente era conocido en Mesopotamia hace más de 3500 años.\n",
    "\n",
    "Sea $a>0$ un real. Sea $s _{ 1} >0$ un número arbitrario y defina $$s _{ n+1} :=\\displaystyle \\frac{1}{2} \\left( s _{ n} + \\frac{a}{s _{ n} }  \\right), \\quad \\text{para} \\ n \\ \\in \\mathbb{N} $$\n",
    "\n",
    "Note que $s _{ n} $ satisface la ecuadrática $s _{ n} ^{ 2} - 2 s _{ n+1} s _{ n}  + a = 0$ y por tanto el discriminante $4 s _{ n+1} ^{ 2} - 4a \\geq 0 $, luego en última instancia la sucesión $(s _{ n} )$ es acotada por $\\sqrt{a}$, dado que:   $$s _{ n+1} ^{ 2} \\geq a, \\quad \\text{para} \\ n \\geq 1$$ \n",
    "\n",
    "Por otro lado, la siguiente desigualdad permite ver que la sucesión $(s _{ n} )$ es en última instancia decreciente, puesto que para $n \\geq 2$: $$s _{ n} - s _{ n+1} = s _{n} -\\frac{1}{2} \\left(s _{ n} + \\frac{a}{s _{ n} }\\right)  = \\frac{1}{2} \\frac{(s _{ n} ^{ 2} - a)}{s _{ n} } \\geq 0  $$\n",
    "\n",
    "Dado que $(s _{ n} )$ es en última instancia decreciente y acotada, entonces existe $s  = \\displaystyle \\lim _{ n \\to \\infty} s _{ n}  $  y además $s  =  \\displaystyle \\frac{1}{2} \\left(s + \\frac{a}{s} \\right) $, conduciendo a que $s = \\sqrt{a}$.\n",
    "\n",
    "Para tener una estimación de la cercanía de $s _{ n} $ hasta $\\sqrt{a}$, note que $\\sqrt{a} \\leq s _{ n} $ para toda $n\\geq 2$, por lo tanto $$\\displaystyle \\frac{a}{s _{ n} } \\leq \\sqrt{a} \\leq s _{ _{ n} }$$ y de allí \n",
    "$$0 \\leq s _{ n} - \\sqrt{a} \\leq s _{ n} - \\frac{a}{s _{ n} } = \\frac{( s _{ n} ^{ 2} - a)}{s _{ n} } = s _{ n} - \\frac{a}{s _{ n} }, \\quad \\text{para} \\quad n\\geq 2   $$\n",
    "\n",
    "Por tanto cuando se quieren $k$ cifras de precisión al calcular $\\sqrt{a}$, entonces se procura constuir los términos de la sucesión $( s _{ n} )$ hasta que $s _{ n} - \\frac{a}{s _{ n} } < 10 ^{-k-1} $ "
   ]
  },
  {
   "cell_type": "code",
   "execution_count": 23,
   "metadata": {},
   "outputs": [],
   "source": [
    "import numpy as np\n",
    "\n",
    "def aprox_root(a, tol=10**(-5), max_iter=30):\n",
    "    \"\"\"entrada: a -> float mayor que 0, se pretende apromizar a raíz de a\n",
    "                tol -> float mayor que cero (usualmente muy chico: default 10**(-5))\n",
    "                max_iter -> int indicando máximo número de iteraciones\n",
    "        salida: s_n float aprox a raiz de a. \n",
    "                iteraciones_usadas -> int indicando número de iteraciones\n",
    "                                            donde se alcanza 'convergencia'.\n",
    "                convergencia -> boolean indicando si hay 'convergencia' \n",
    "                                        antes de la máxima iteración realizada. \n",
    "                aproximaciones -> list que contiene cada aproximación\"\"\"\n",
    "    s_n = 1.0\n",
    "    iteraciones_usadas = 0\n",
    "    aproximaciones = [s_n]\n",
    "    for iter in range(1, max_iter):\n",
    "        s_n = 0.5 * (s_n + a / s_n)\n",
    "        aproximaciones.append(s_n)\n",
    "        iteraciones_usadas += 1\n",
    "        convergencia = np.abs(s_n - a / s_n) < tol\n",
    "        if convergencia:\n",
    "            break\n",
    "    return s_n, iteraciones_usadas, convergencia, aproximaciones\n"
   ]
  },
  {
   "cell_type": "code",
   "execution_count": 24,
   "metadata": {},
   "outputs": [
    {
     "data": {
      "text/plain": [
       "(20.0,\n",
       " 9,\n",
       " True,\n",
       " [1.0,\n",
       "  200.5,\n",
       "  101.24750623441396,\n",
       "  52.59911041180492,\n",
       "  30.101900881222353,\n",
       "  21.695049123587058,\n",
       "  20.06621767747577,\n",
       "  20.000109257780434,\n",
       "  20.000000000298428,\n",
       "  20.0])"
      ]
     },
     "execution_count": 24,
     "metadata": {},
     "output_type": "execute_result"
    }
   ],
   "source": [
    "aprox_root(400, tol=1e-10) "
   ]
  },
  {
   "cell_type": "code",
   "execution_count": null,
   "metadata": {},
   "outputs": [],
   "source": []
  }
 ],
 "metadata": {
  "kernelspec": {
   "display_name": "Python 3.9.5 64-bit",
   "language": "python",
   "name": "python3"
  },
  "language_info": {
   "codemirror_mode": {
    "name": "ipython",
    "version": 3
   },
   "file_extension": ".py",
   "mimetype": "text/x-python",
   "name": "python",
   "nbconvert_exporter": "python",
   "pygments_lexer": "ipython3",
   "version": "3.9.5"
  },
  "orig_nbformat": 4,
  "vscode": {
   "interpreter": {
    "hash": "e7370f93d1d0cde622a1f8e1c04877d8463912d04d973331ad4851f04de6915a"
   }
  }
 },
 "nbformat": 4,
 "nbformat_minor": 2
}
