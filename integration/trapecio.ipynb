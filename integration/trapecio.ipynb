{
 "cells": [
  {
   "attachments": {},
   "cell_type": "markdown",
   "metadata": {},
   "source": [
    "#### Intragración Numérica\n",
    "\n",
    "Problema: Calcular $$F(x) = \\displaystyle \\int _{a} ^{x}f(t)dt  $$\n",
    "\n",
    "\n",
    "Estrategia: Crear otra función $P$, tal que $f(t)\\approx  P(t)$ y $\\displaystyle \\int _{a} ^{x}f(t)dt \\approx \\displaystyle \\int _{a} ^{x}P(t)dt$ \n",
    "\n",
    "Si $f$ es no negativa, $\\displaystyle \\int _{a} ^{x}f(t)dt$ puede interpretarse como el área de una región.  Dicha interpretación geométrica, sugiere la regla del trapecio que aplica en un contexto más general.\n"
   ]
  },
  {
   "attachments": {},
   "cell_type": "markdown",
   "metadata": {},
   "source": [
    "Primero, se crea una partición regular con $x _{k } = a + kh$. Es decir, $a, a+h, a+2h, \\dots, a+nh=b, \\quad h = (b-a)/n$.\n",
    "\n",
    "Luego se define a trozos $P(x)$:\n",
    "\n",
    "$P(x) = \\frac{x _{k +1}-x }{h}f(x _{k } ) + \\frac{x-x _{k } }{h}f(x _{k +1}), \\quad  x _{k } \\leq x \\leq x _{k +1} $ \n",
    "\n",
    "\n",
    "Integral sobre $[x _{k }, x _{k +1}]$:  $$\\displaystyle \\int _{x _{k } } ^{x _{k +1} } P(x) dx = h \\frac{f(x _{k } ) + f(x _{k +1} )}{2}  $$ \n",
    "\n",
    "Integral sobre $[a, b]$:  $$\\int _{a} ^{b}P(x)dx = \\frac{h}{2} \\sum_{k=0}^{n-1}[f(x _{k } ) + f (x _{k+1} )] =\n",
    "\\frac{h}{2} \\left (f(a) + 2 \\sum _{k=1} ^{n-1} f(a + kh) +f(b)  \\right )  $$ "
   ]
  },
  {
   "attachments": {},
   "cell_type": "markdown",
   "metadata": {},
   "source": [
    "A continuación se crea la función `trapezoidalIntegration` en python que aproxima la integral definida:"
   ]
  },
  {
   "cell_type": "code",
   "execution_count": 1,
   "metadata": {},
   "outputs": [],
   "source": [
    "import numpy as np\n",
    "import sympy as sy\n",
    "x = sy.symbols('x')"
   ]
  },
  {
   "cell_type": "code",
   "execution_count": 2,
   "metadata": {},
   "outputs": [],
   "source": [
    "def trapezoidalIntegration(f_expr, a, b, n):\n",
    "    \"\"\" ENTRADAS: f_exp -> sympy expression. a, b: floats, n: int\n",
    "        SALIDA: integral_num -> float. Numerical approx \"\"\"\n",
    "    h = (b-a) / n # length of regular partition\n",
    "    x_regular = np.linspace(a, b, n+1)\n",
    "    f = sy.lambdify(x, f_expr, \"numpy\")\n",
    "    f_xs = f(x_regular)\n",
    "    sums = f_xs[0] + 2 * f_xs[1:-1].sum() + f_xs[-1]\n",
    "    integral_num = (h/2) * sums\n",
    "    return integral_num"
   ]
  },
  {
   "cell_type": "code",
   "execution_count": 7,
   "metadata": {},
   "outputs": [
    {
     "data": {
      "text/plain": [
       "0.8862190591728527"
      ]
     },
     "execution_count": 7,
     "metadata": {},
     "output_type": "execute_result"
    }
   ],
   "source": [
    "f_expr1 = sy.exp(-x**2)\n",
    "trapezoidalIntegration(f_expr1, -np.pi,0, 1000000)"
   ]
  },
  {
   "cell_type": "code",
   "execution_count": 4,
   "metadata": {},
   "outputs": [
    {
     "data": {
      "text/latex": [
       "$\\displaystyle 1.76416278152484$"
      ],
      "text/plain": [
       "1.76416278152484"
      ]
     },
     "execution_count": 4,
     "metadata": {},
     "output_type": "execute_result"
    }
   ],
   "source": [
    "sy.integrate(f_expr1, (x, -2,2)).evalf()"
   ]
  },
  {
   "attachments": {},
   "cell_type": "markdown",
   "metadata": {},
   "source": [
    "Existe otra forma de aproximar la integral definida y es la regla de Simpson.\n",
    "\n",
    "Si se asume $f$ tiene derivadas continuas hasta de orden $4$ en $[a,b]$. Al tomar $h=\\frac{b-a}{2n}  $ y $f _{k } =f(a + kh)$ para $k=1,2,\\dots, 2n-1$, entonces:\n",
    "\n",
    "$$\\displaystyle \\int _{a} ^{b } f(x) \\ dx = \\frac{b-a}{6n} \\left ( f(a) + 4 \\sum _{k=1} ^{ n} f _{2k-1} + 2 \\sum _{k=1} ^{n-1} f _{2k}  + f(b)     \\right ) - \\frac{(b-a) ^{5} }{2880 n ^{4}} f ^{(4)} (\\overline{c})$$ \n",
    "\n",
    "para algún  $\\overline{c}$ en $[a, b]$. "
   ]
  },
  {
   "attachments": {},
   "cell_type": "markdown",
   "metadata": {},
   "source": [
    "A continuación verá una función en python que permite practicar la regla de Simpson:"
   ]
  },
  {
   "cell_type": "code",
   "execution_count": 5,
   "metadata": {},
   "outputs": [],
   "source": [
    "def simpsonIntegration(f_expr, a, b, n):\n",
    "    \"\"\" ENTRADAS: f_exp -> sympy expression. a, b: floats, n: int\n",
    "    SALIDA: integral_num -> float. Numerical approx \"\"\"  \n",
    "    h = (b - a) / (2 * n)\n",
    "    scalar = (1/3) * h\n",
    "    x_regular = np.array([a + k*h for k in range(2*n+1)])\n",
    "    f = sy.lambdify(x, f_expr, \"numpy\")\n",
    "    f_xs = f(x_regular)\n",
    "    f_a, f_b = f_xs[0], f_xs[-1]\n",
    "    f_xs_odd, f_xs_even = f_xs[1::2], f_xs[::2][1:-1]\n",
    "    integral_num = scalar * (f_a + 4*f_xs_odd.sum() + 2*f_xs_even.sum() + f_b)\n",
    "    return integral_num"
   ]
  },
  {
   "cell_type": "code",
   "execution_count": 6,
   "metadata": {},
   "outputs": [
    {
     "data": {
      "text/plain": [
       "1.7641627815248433"
      ]
     },
     "execution_count": 6,
     "metadata": {},
     "output_type": "execute_result"
    }
   ],
   "source": [
    "simpsonIntegration(f_expr1, -2, 2, 10000)\n"
   ]
  },
  {
   "attachments": {},
   "cell_type": "markdown",
   "metadata": {},
   "source": [
    "#### Taller"
   ]
  },
  {
   "attachments": {},
   "cell_type": "markdown",
   "metadata": {},
   "source": [
    "1) Use aproximación numérica con regla de trapecio y con regla se Simpson, para aproximarse a $\\ln 2$. (**Sug:**  Recuerde que $\\ln 2 = \\int _{1} ^{2} \\frac{dx}{x}   $).\n",
    "\n",
    "2) Se puede probar que la longitud de arco de la elipse $\\displaystyle \\frac{x ^{ 2} }{a ^{ 2} } + \\frac{y ^{ 2} }{b ^{ 2} } =1, \\quad \\text{con}\\quad 0<b<a $ es: $$L = 4a \\displaystyle \\int  _{0} ^{\\pi/2} \\sqrt{1- k ^{ 2} \\sin ^{ 2} (t)\\ dt} $$ donde $k = \\frac{\\sqrt{a ^{ 2} - b ^{ 2} }}{a} $ \n",
    "\n",
    "Use reglas de trapecio y de Simpson para aproximarse a la longitud de arco de la elipse $\\displaystyle \\frac{x ^{ 2} }{5 ^{ 2} } + \\frac{y ^{ 2} }{4^{ 2} } =1$.\n",
    "\n",
    "3) Para la lista de funciones siguientes, calcular el valor de la integral definida exacta y sus aproximaciones con regla de trapecio y de Simpson en el intervalo $[0,2]$ con $n=100$. \n",
    "\n",
    "a) $f(x) = x ^{ 2} $ \n",
    "\n",
    "b) $f(x) = x ^{4} $ \n",
    "\n",
    "c) $f(x) = (x+1) ^{-1} $ \n",
    "\n",
    "d) $f(x) = \\sqrt{1 + x ^{ 2} }$ \n",
    "\n",
    "e) $f(x) = \\sin (x)$ \n",
    "\n",
    "f) $f(x) = e ^{x} $ \n",
    "\n",
    "4) Aproxime las siguientes integrales usando regla de trapecio:\n",
    "\n",
    "a) $\\displaystyle \\int _{1} ^{1.5}  x ^{ 2} \\ln x \\ dx, \\quad n=1000$ \n",
    "\n",
    "b) $\\displaystyle \\int _{0} ^{\\pi/4}  x  \\sin x \\ dx, \\quad n=1000$ \n",
    "\n",
    "c) $\\displaystyle \\int _{-0.25} ^{0.25}  \\cos ^{ 2} (x)\\   dx, \\quad n=1000$ \n",
    "\n",
    "\n",
    "5) Aproxime las siguientes integrales usando regla de Simpson:\n",
    "\n",
    "a) $\\displaystyle \\int _{0} ^{1}  x ^{ 2} e ^{-x}  \\ dx, \\quad n = 1000$ \n",
    "\n",
    "b) $\\displaystyle \\int _{0} ^{\\pi/4}  e ^{3x}   \\sin (2x) \\ dx, \\quad n = 1000$ \n",
    "\n",
    "c) $\\displaystyle \\int _{e} ^{e+1} \\frac{1}{x\\ln x}  \\   dx, \\quad n = 1000$ "
   ]
  }
 ],
 "metadata": {
  "kernelspec": {
   "display_name": "Python 3",
   "language": "python",
   "name": "python3"
  },
  "language_info": {
   "codemirror_mode": {
    "name": "ipython",
    "version": 3
   },
   "file_extension": ".py",
   "mimetype": "text/x-python",
   "name": "python",
   "nbconvert_exporter": "python",
   "pygments_lexer": "ipython3",
   "version": "3.9.5"
  },
  "orig_nbformat": 4,
  "vscode": {
   "interpreter": {
    "hash": "e7370f93d1d0cde622a1f8e1c04877d8463912d04d973331ad4851f04de6915a"
   }
  }
 },
 "nbformat": 4,
 "nbformat_minor": 2
}
