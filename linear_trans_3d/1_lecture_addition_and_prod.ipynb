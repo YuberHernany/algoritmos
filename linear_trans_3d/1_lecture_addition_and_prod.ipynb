{
 "cells": [
  {
   "attachments": {},
   "cell_type": "markdown",
   "metadata": {},
   "source": [
    "# Addition and product by scalar (with arrays)\n",
    "\n",
    "The addition and the product by a scalar are practiced component by component\n",
    "\n",
    "La  adición y el producto por un escalar se practican componente a componente\n",
    "\n",
    "\n",
    "<img src='addition_and.gif' width=300>"
   ]
  },
  {
   "attachments": {},
   "cell_type": "markdown",
   "metadata": {},
   "source": [
    "<img src='addition_and_carton.gif'>"
   ]
  },
  {
   "attachments": {},
   "cell_type": "markdown",
   "metadata": {},
   "source": [
    "### Geometric interpretation with vectors\n",
    "\n",
    "<img src='addition_vector.gif' width=350>\n",
    "<img src='scalar_times_vector.gif' width=350>\n",
    "\n",
    "### Geometric interpretation with functions\n",
    "\n",
    "<img src='function_addition.gif' width=350>\n",
    "<img src='function_product_by_scalar.gif' width=350>\n",
    "\n",
    "### Linear combinations\n",
    "<img src='linear_combinations.gif' width=350>\n"
   ]
  },
  {
   "cell_type": "code",
   "execution_count": null,
   "metadata": {},
   "outputs": [],
   "source": []
  },
  {
   "cell_type": "markdown",
   "metadata": {},
   "source": []
  }
 ],
 "metadata": {
  "kernelspec": {
   "display_name": "Python 3",
   "language": "python",
   "name": "python3"
  },
  "language_info": {
   "name": "python",
   "version": "3.9.5"
  },
  "orig_nbformat": 4,
  "vscode": {
   "interpreter": {
    "hash": "e7370f93d1d0cde622a1f8e1c04877d8463912d04d973331ad4851f04de6915a"
   }
  }
 },
 "nbformat": 4,
 "nbformat_minor": 2
}
