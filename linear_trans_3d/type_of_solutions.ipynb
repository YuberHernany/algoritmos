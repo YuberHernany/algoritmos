{
 "cells": [
  {
   "attachments": {},
   "cell_type": "markdown",
   "metadata": {},
   "source": [
    "# Type of solutions for linear system of equations"
   ]
  },
  {
   "attachments": {},
   "cell_type": "markdown",
   "metadata": {},
   "source": [
    "<img src='relative_pos_lines.gif'> <img src='relative_pos_planes.gif'>"
   ]
  },
  {
   "attachments": {},
   "cell_type": "markdown",
   "metadata": {},
   "source": [
    "How solve linear systems with sympy?\n",
    "\n",
    "1) Import `Matrix`, `solve_linear_system`, and `symbols`\n",
    "2) Use `solve_linear_system(matrix_augmented, unknows)`"
   ]
  },
  {
   "attachments": {},
   "cell_type": "markdown",
   "metadata": {},
   "source": [
    "The following system of equations represents two secant lines: $$2x-y=1$$ $$-x+2y=0$$"
   ]
  },
  {
   "cell_type": "code",
   "execution_count": 20,
   "metadata": {},
   "outputs": [
    {
     "data": {
      "text/plain": [
       "{x: 2/3, y: 1/3}"
      ]
     },
     "execution_count": 20,
     "metadata": {},
     "output_type": "execute_result"
    }
   ],
   "source": [
    "from sympy import Matrix, solve_linear_system, symbols\n",
    "\n",
    "\n",
    "matrix_augmented1 = Matrix([[2, -1, 1], \n",
    "                           [-1, 2, 0]])\n",
    "x, y= symbols('x y')\n",
    "solve_linear_system(matrix_augmented1, x, y) # unique solution"
   ]
  },
  {
   "attachments": {},
   "cell_type": "markdown",
   "metadata": {},
   "source": [
    "The following system of equations represents two coincident lines: $$2x-y=1$$ $$-x+\\frac{1}{2}y=-\\frac{1}{2}$$"
   ]
  },
  {
   "cell_type": "code",
   "execution_count": 21,
   "metadata": {},
   "outputs": [
    {
     "data": {
      "text/plain": [
       "{x: y/2 + 1/2}"
      ]
     },
     "execution_count": 21,
     "metadata": {},
     "output_type": "execute_result"
    }
   ],
   "source": [
    "from sympy import Rational\n",
    "\n",
    "matrix_augmented2 = Matrix([[2, -1, 1], \n",
    "                           [-1, Rational(1,2), Rational(-1,2)]])\n",
    "\n",
    "solve_linear_system(matrix_augmented2, x, y) # infinite solutions"
   ]
  },
  {
   "attachments": {},
   "cell_type": "markdown",
   "metadata": {},
   "source": [
    "The following system of equations represents two parallel lines: $$2x-y=1$$ $$-x+\\frac{1}{2}y=0$$"
   ]
  },
  {
   "cell_type": "code",
   "execution_count": 22,
   "metadata": {},
   "outputs": [
    {
     "name": "stdout",
     "output_type": "stream",
     "text": [
      "None\n"
     ]
    }
   ],
   "source": [
    "matrix_augmented3 = Matrix([[2, -1, 1], \n",
    "                           [-1, Rational(1,2), 0]])\n",
    "\n",
    "print(solve_linear_system(matrix_augmented3, x, y)) # No solution"
   ]
  },
  {
   "attachments": {},
   "cell_type": "markdown",
   "metadata": {},
   "source": [
    "The following system of equations represents three planes with only one point in common: $$2x-y \\quad =1$$ $$-x+2y-z=0$$ $$\\quad -y+2z=0$$"
   ]
  },
  {
   "cell_type": "code",
   "execution_count": 23,
   "metadata": {},
   "outputs": [
    {
     "data": {
      "text/plain": [
       "{x: 3/4, y: 1/2, z: 1/4}"
      ]
     },
     "execution_count": 23,
     "metadata": {},
     "output_type": "execute_result"
    }
   ],
   "source": [
    "matrix_augmented4 = Matrix([[2, -1, 0, 1], \n",
    "                           [-1, 2, -1, 0],\n",
    "                           [0, -1, 2, 0]])\n",
    "x, y, z = symbols('x y z')\n",
    "solve_linear_system(matrix_augmented4, x, y, z) # unique solution"
   ]
  },
  {
   "attachments": {},
   "cell_type": "markdown",
   "metadata": {},
   "source": [
    "The following system of equations represents three planes with a line in common: $$x-y \\quad =0$$ $$-x+2y-z=0$$ $$\\quad -y+z=0$$"
   ]
  },
  {
   "cell_type": "code",
   "execution_count": 24,
   "metadata": {},
   "outputs": [
    {
     "data": {
      "text/plain": [
       "{x: z, y: z}"
      ]
     },
     "execution_count": 24,
     "metadata": {},
     "output_type": "execute_result"
    }
   ],
   "source": [
    "matrix_augmented5 = Matrix([[1, -1, 0, 0], \n",
    "                           [-1, 2, -1, 0],\n",
    "                           [0, -1, 1, 0]])\n",
    "\n",
    "solve_linear_system(matrix_augmented5, x, y, z) # infinite solutions"
   ]
  },
  {
   "cell_type": "code",
   "execution_count": null,
   "metadata": {},
   "outputs": [],
   "source": []
  }
 ],
 "metadata": {
  "kernelspec": {
   "display_name": "Python 3",
   "language": "python",
   "name": "python3"
  },
  "language_info": {
   "codemirror_mode": {
    "name": "ipython",
    "version": 3
   },
   "file_extension": ".py",
   "mimetype": "text/x-python",
   "name": "python",
   "nbconvert_exporter": "python",
   "pygments_lexer": "ipython3",
   "version": "3.9.5"
  },
  "orig_nbformat": 4,
  "vscode": {
   "interpreter": {
    "hash": "e7370f93d1d0cde622a1f8e1c04877d8463912d04d973331ad4851f04de6915a"
   }
  }
 },
 "nbformat": 4,
 "nbformat_minor": 2
}
