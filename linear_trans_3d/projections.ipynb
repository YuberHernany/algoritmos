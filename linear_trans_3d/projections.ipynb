{
 "cells": [
  {
   "attachments": {},
   "cell_type": "markdown",
   "metadata": {},
   "source": [
    "# Projections"
   ]
  },
  {
   "attachments": {},
   "cell_type": "markdown",
   "metadata": {},
   "source": [
    "<img src='projection_cube.gif'>"
   ]
  },
  {
   "attachments": {},
   "cell_type": "markdown",
   "metadata": {},
   "source": [
    "If you want to create a projection over the column space $C(A)$, then you can use the projection matrix $$P = A(A ^{T} A) ^{-1} A ^{T}  $$  "
   ]
  },
  {
   "attachments": {},
   "cell_type": "markdown",
   "metadata": {},
   "source": [
    "# Rotations"
   ]
  },
  {
   "attachments": {},
   "cell_type": "markdown",
   "metadata": {},
   "source": [
    "<img src='rota.gif'>"
   ]
  },
  {
   "attachments": {},
   "cell_type": "markdown",
   "metadata": {},
   "source": [
    "The matrices representing rotations respecto to axis $x, y$ and $z$ are respectively: \n",
    "\n",
    "$$R _{x}(\\theta) = \\begin{bmatrix} 1 & 0 & 0\\\\\n",
    "                                    0 & \\cos(\\theta) & -\\sin(\\theta) \\\\\n",
    "                                    0 & \\sin(\\theta) & \\cos(\\theta) \\\\ \\end{bmatrix} $$\n",
    "\n",
    "$$R _{y}(\\theta) = \\begin{bmatrix} \\cos(\\theta) & 0 & -\\sin(\\theta)\\\\\n",
    "                                    0 & 1 & 0 \\\\\n",
    "                                    \\sin(\\theta) & 0 & \\cos(\\theta) \\\\ \\end{bmatrix} $$\n",
    "\n",
    "$$R _{z}(\\theta) = \\begin{bmatrix}  \\cos(\\theta) & -\\sin(\\theta) & 0 \\\\\n",
    "                                     \\sin(\\theta) & \\cos(\\theta) & 0 \\\\\n",
    "                                     0 & 0 & 1 \\end{bmatrix} $$"
   ]
  },
  {
   "attachments": {},
   "cell_type": "markdown",
   "metadata": {},
   "source": [
    "# Reflections"
   ]
  },
  {
   "attachments": {},
   "cell_type": "markdown",
   "metadata": {},
   "source": [
    "<img src='reflection_cube.gif'>"
   ]
  },
  {
   "attachments": {},
   "cell_type": "markdown",
   "metadata": {},
   "source": [
    "If $P$ is a matrix representation of a projection over a plane, then the matrix respresenting the reflection respect to the same plane is $H=2P-I$ (with $I$ the identity matrix)"
   ]
  }
 ],
 "metadata": {
  "kernelspec": {
   "display_name": "Python 3",
   "language": "python",
   "name": "python3"
  },
  "language_info": {
   "name": "python",
   "version": "3.9.5"
  },
  "orig_nbformat": 4,
  "vscode": {
   "interpreter": {
    "hash": "e7370f93d1d0cde622a1f8e1c04877d8463912d04d973331ad4851f04de6915a"
   }
  }
 },
 "nbformat": 4,
 "nbformat_minor": 2
}
