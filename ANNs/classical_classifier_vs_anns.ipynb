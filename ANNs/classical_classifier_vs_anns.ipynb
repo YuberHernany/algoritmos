{
 "cells": [
  {
   "attachments": {},
   "cell_type": "markdown",
   "metadata": {},
   "source": [
    "# Why we need neural networks?"
   ]
  },
  {
   "attachments": {},
   "cell_type": "markdown",
   "metadata": {},
   "source": [
    "We will train a `SGDClassifier` and an artificial neural network with a sequential method in `keras`. In both cases a versicolor detector (binary classifier model) will be constructed using the classical dataset `load_iris` from sklearn and we will see that in some sense the neural network help us to avoid feature engineearing."
   ]
  },
  {
   "attachments": {},
   "cell_type": "markdown",
   "metadata": {},
   "source": [
    "Some functions for preprocessing the dataset are in `prepross_iris_data.py` file. It is recommended go to the function's documentation."
   ]
  },
  {
   "attachments": {},
   "cell_type": "markdown",
   "metadata": {},
   "source": [
    "Let's begin focussing only on petal data (just the last columns in iris.data)"
   ]
  },
  {
   "cell_type": "code",
   "execution_count": 11,
   "metadata": {},
   "outputs": [],
   "source": [
    "import numpy as np\n",
    "from sklearn.datasets import load_iris\n",
    "from prepross_iris_data import *\n",
    "\n",
    "iris = load_iris()\n",
    "X, y = iris.data, iris.target\n",
    "\n",
    "X_pet = only_sepal_or_petal(X, kind='petal')\n",
    "y_ver = label_binary(y, kind='versicolor')"
   ]
  },
  {
   "attachments": {},
   "cell_type": "markdown",
   "metadata": {},
   "source": [
    "As you can see, we are focussed only on petal information and the task is just create a versicolor detector. We will create a figure in which you will see that the versicolor class is not linearly separable."
   ]
  },
  {
   "attachments": {},
   "cell_type": "markdown",
   "metadata": {},
   "source": [
    "<img src = 'Versicolor_class.png'> "
   ]
  },
  {
   "attachments": {},
   "cell_type": "markdown",
   "metadata": {},
   "source": [
    "### `SGDClassifier` with and without feature engineearing over the data"
   ]
  },
  {
   "cell_type": "code",
   "execution_count": 12,
   "metadata": {},
   "outputs": [
    {
     "name": "stdout",
     "output_type": "stream",
     "text": [
      "For simplicity, the following score is just on the train set.\n",
      "Score:  0.6466666666666666\n"
     ]
    }
   ],
   "source": [
    "from sklearn.linear_model import SGDClassifier\n",
    "\n",
    "classical_clf = SGDClassifier()\n",
    "classical_clf.fit(X_pet, y_ver) # without feature engineearing\n",
    "print('For simplicity, the following score is just on the train set.')\n",
    "print('Score: ', classical_clf.score(X_pet, y_ver))"
   ]
  },
  {
   "attachments": {},
   "cell_type": "markdown",
   "metadata": {},
   "source": [
    "We can help the classifier with the practice of feature engineearing strategy in the following way:\n",
    "\n",
    "1) Traslate the data using the versicolor means of length and width respectively.\n",
    "\n",
    "2) Create a new feature taking the square of the data in the previous step."
   ]
  },
  {
   "cell_type": "code",
   "execution_count": 13,
   "metadata": {},
   "outputs": [],
   "source": [
    "l_mean, w_mean = means_sepal_or_petal(X, kind='petal') # length mean and width mean\n",
    "X_pet_tras = traslate_data(X_pet, l_mean, w_mean)\n",
    "X_pet_tras_squared = np.square(X_pet_tras) # take data squared is considered feature engineearing"
   ]
  },
  {
   "attachments": {},
   "cell_type": "markdown",
   "metadata": {},
   "source": [
    "The following figure shows the versicolor new representation is now a little bit near of being linearly separable"
   ]
  },
  {
   "attachments": {},
   "cell_type": "markdown",
   "metadata": {},
   "source": [
    "<img src = 'Versicolor_separable.png'> "
   ]
  },
  {
   "attachments": {},
   "cell_type": "markdown",
   "metadata": {},
   "source": [
    "Now, we use again a `SGDClassifier` after feature engineearing excecuted"
   ]
  },
  {
   "cell_type": "code",
   "execution_count": 14,
   "metadata": {},
   "outputs": [
    {
     "name": "stdout",
     "output_type": "stream",
     "text": [
      "For simplicity, the following score is just on the train set.\n",
      "Score:  0.96\n"
     ]
    }
   ],
   "source": [
    "classical_clf = SGDClassifier()\n",
    "classical_clf.fit(X_pet_tras_squared, y_ver) # with feature engineearing\n",
    "print('For simplicity, the following score is just on the train set.')\n",
    "print('Score: ', classical_clf.score(X_pet_tras_squared, y_ver))"
   ]
  },
  {
   "attachments": {},
   "cell_type": "markdown",
   "metadata": {},
   "source": [
    "As you can see, the classifier is better now."
   ]
  },
  {
   "attachments": {},
   "cell_type": "markdown",
   "metadata": {},
   "source": [
    "### Artificial neural network without feature engineearing"
   ]
  },
  {
   "cell_type": "code",
   "execution_count": 15,
   "metadata": {},
   "outputs": [
    {
     "name": "stdout",
     "output_type": "stream",
     "text": [
      "Epoch 1/100\n",
      "5/5 [==============================] - 1s 4ms/step - loss: 0.7758 - accuracy: 0.5533\n",
      "Epoch 2/100\n",
      "5/5 [==============================] - 0s 20ms/step - loss: 0.7367 - accuracy: 0.6133\n",
      "Epoch 3/100\n",
      "5/5 [==============================] - 0s 7ms/step - loss: 0.7080 - accuracy: 0.6067\n",
      "Epoch 4/100\n",
      "5/5 [==============================] - 0s 7ms/step - loss: 0.6836 - accuracy: 0.5867\n",
      "Epoch 5/100\n",
      "5/5 [==============================] - 0s 9ms/step - loss: 0.6620 - accuracy: 0.5600\n",
      "Epoch 6/100\n",
      "5/5 [==============================] - 0s 4ms/step - loss: 0.6425 - accuracy: 0.5067\n",
      "Epoch 7/100\n",
      "5/5 [==============================] - 0s 15ms/step - loss: 0.6248 - accuracy: 0.4667\n",
      "Epoch 8/100\n",
      "5/5 [==============================] - 0s 13ms/step - loss: 0.6089 - accuracy: 0.4133\n",
      "Epoch 9/100\n",
      "5/5 [==============================] - 0s 6ms/step - loss: 0.5947 - accuracy: 0.4667\n",
      "Epoch 10/100\n",
      "5/5 [==============================] - 0s 8ms/step - loss: 0.5816 - accuracy: 0.6400\n",
      "Epoch 11/100\n",
      "5/5 [==============================] - 0s 7ms/step - loss: 0.5698 - accuracy: 0.6667\n",
      "Epoch 12/100\n",
      "5/5 [==============================] - 0s 6ms/step - loss: 0.5597 - accuracy: 0.6667\n",
      "Epoch 13/100\n",
      "5/5 [==============================] - 0s 8ms/step - loss: 0.5500 - accuracy: 0.6667\n",
      "Epoch 14/100\n",
      "5/5 [==============================] - 0s 9ms/step - loss: 0.5411 - accuracy: 0.6667\n",
      "Epoch 15/100\n",
      "5/5 [==============================] - 0s 6ms/step - loss: 0.5328 - accuracy: 0.6667\n",
      "Epoch 16/100\n",
      "5/5 [==============================] - 0s 9ms/step - loss: 0.5252 - accuracy: 0.6667\n",
      "Epoch 17/100\n",
      "5/5 [==============================] - 0s 7ms/step - loss: 0.5186 - accuracy: 0.6667\n",
      "Epoch 18/100\n",
      "5/5 [==============================] - 0s 7ms/step - loss: 0.5123 - accuracy: 0.6667\n",
      "Epoch 19/100\n",
      "5/5 [==============================] - ETA: 0s - loss: 0.4591 - accuracy: 0.78 - 0s 5ms/step - loss: 0.5069 - accuracy: 0.6667\n",
      "Epoch 20/100\n",
      "5/5 [==============================] - 0s 4ms/step - loss: 0.5021 - accuracy: 0.6667\n",
      "Epoch 21/100\n",
      "5/5 [==============================] - 0s 4ms/step - loss: 0.4973 - accuracy: 0.6667\n",
      "Epoch 22/100\n",
      "5/5 [==============================] - 0s 3ms/step - loss: 0.4928 - accuracy: 0.6667\n",
      "Epoch 23/100\n",
      "5/5 [==============================] - 0s 5ms/step - loss: 0.4886 - accuracy: 0.6667\n",
      "Epoch 24/100\n",
      "5/5 [==============================] - 0s 5ms/step - loss: 0.4847 - accuracy: 0.6667\n",
      "Epoch 25/100\n",
      "5/5 [==============================] - 0s 7ms/step - loss: 0.4810 - accuracy: 0.6667\n",
      "Epoch 26/100\n",
      "5/5 [==============================] - 0s 4ms/step - loss: 0.4774 - accuracy: 0.6667\n",
      "Epoch 27/100\n",
      "5/5 [==============================] - 0s 5ms/step - loss: 0.4738 - accuracy: 0.6667\n",
      "Epoch 28/100\n",
      "5/5 [==============================] - 0s 5ms/step - loss: 0.4705 - accuracy: 0.6667\n",
      "Epoch 29/100\n",
      "5/5 [==============================] - 0s 4ms/step - loss: 0.4674 - accuracy: 0.6667\n",
      "Epoch 30/100\n",
      "5/5 [==============================] - 0s 4ms/step - loss: 0.4645 - accuracy: 0.6667\n",
      "Epoch 31/100\n",
      "5/5 [==============================] - 0s 3ms/step - loss: 0.4618 - accuracy: 0.6667\n",
      "Epoch 32/100\n",
      "5/5 [==============================] - 0s 4ms/step - loss: 0.4589 - accuracy: 0.6667\n",
      "Epoch 33/100\n",
      "5/5 [==============================] - 0s 3ms/step - loss: 0.4561 - accuracy: 0.6667\n",
      "Epoch 34/100\n",
      "5/5 [==============================] - 0s 4ms/step - loss: 0.4537 - accuracy: 0.6667\n",
      "Epoch 35/100\n",
      "5/5 [==============================] - ETA: 0s - loss: 0.4941 - accuracy: 0.59 - 0s 3ms/step - loss: 0.4513 - accuracy: 0.6667\n",
      "Epoch 36/100\n",
      "5/5 [==============================] - 0s 5ms/step - loss: 0.4486 - accuracy: 0.6667\n",
      "Epoch 37/100\n",
      "5/5 [==============================] - 0s 6ms/step - loss: 0.4465 - accuracy: 0.6667\n",
      "Epoch 38/100\n",
      "5/5 [==============================] - 0s 6ms/step - loss: 0.4442 - accuracy: 0.6667\n",
      "Epoch 39/100\n",
      "5/5 [==============================] - 0s 4ms/step - loss: 0.4419 - accuracy: 0.6667\n",
      "Epoch 40/100\n",
      "5/5 [==============================] - 0s 5ms/step - loss: 0.4397 - accuracy: 0.6667\n",
      "Epoch 41/100\n",
      "5/5 [==============================] - 0s 5ms/step - loss: 0.4376 - accuracy: 0.6667\n",
      "Epoch 42/100\n",
      "5/5 [==============================] - 0s 8ms/step - loss: 0.4357 - accuracy: 0.6667\n",
      "Epoch 43/100\n",
      "5/5 [==============================] - 0s 8ms/step - loss: 0.4335 - accuracy: 0.6667\n",
      "Epoch 44/100\n",
      "5/5 [==============================] - 0s 11ms/step - loss: 0.4316 - accuracy: 0.6667\n",
      "Epoch 45/100\n",
      "5/5 [==============================] - 0s 10ms/step - loss: 0.4296 - accuracy: 0.6667\n",
      "Epoch 46/100\n",
      "5/5 [==============================] - 0s 7ms/step - loss: 0.4279 - accuracy: 0.6667\n",
      "Epoch 47/100\n",
      "5/5 [==============================] - 0s 8ms/step - loss: 0.4259 - accuracy: 0.6667\n",
      "Epoch 48/100\n",
      "5/5 [==============================] - 0s 5ms/step - loss: 0.4241 - accuracy: 0.6667\n",
      "Epoch 49/100\n",
      "5/5 [==============================] - 0s 6ms/step - loss: 0.4223 - accuracy: 0.6667\n",
      "Epoch 50/100\n",
      "5/5 [==============================] - 0s 5ms/step - loss: 0.4205 - accuracy: 0.6733\n",
      "Epoch 51/100\n",
      "5/5 [==============================] - ETA: 0s - loss: 0.4682 - accuracy: 0.56 - 0s 11ms/step - loss: 0.4188 - accuracy: 0.6800\n",
      "Epoch 52/100\n",
      "5/5 [==============================] - 0s 9ms/step - loss: 0.4169 - accuracy: 0.6800\n",
      "Epoch 53/100\n",
      "5/5 [==============================] - 0s 8ms/step - loss: 0.4154 - accuracy: 0.6800\n",
      "Epoch 54/100\n",
      "5/5 [==============================] - 0s 8ms/step - loss: 0.4135 - accuracy: 0.6933\n",
      "Epoch 55/100\n",
      "5/5 [==============================] - 0s 6ms/step - loss: 0.4118 - accuracy: 0.6933\n",
      "Epoch 56/100\n",
      "5/5 [==============================] - 0s 8ms/step - loss: 0.4101 - accuracy: 0.6933\n",
      "Epoch 57/100\n",
      "5/5 [==============================] - 0s 8ms/step - loss: 0.4084 - accuracy: 0.6933\n",
      "Epoch 58/100\n",
      "5/5 [==============================] - 0s 9ms/step - loss: 0.4068 - accuracy: 0.6933\n",
      "Epoch 59/100\n",
      "5/5 [==============================] - 0s 8ms/step - loss: 0.4051 - accuracy: 0.7000\n",
      "Epoch 60/100\n",
      "5/5 [==============================] - 0s 9ms/step - loss: 0.4035 - accuracy: 0.7000\n",
      "Epoch 61/100\n",
      "5/5 [==============================] - 0s 8ms/step - loss: 0.4018 - accuracy: 0.7067\n",
      "Epoch 62/100\n",
      "5/5 [==============================] - 0s 11ms/step - loss: 0.4003 - accuracy: 0.7067\n",
      "Epoch 63/100\n",
      "5/5 [==============================] - 0s 9ms/step - loss: 0.3986 - accuracy: 0.7067\n",
      "Epoch 64/100\n",
      "5/5 [==============================] - 0s 6ms/step - loss: 0.3970 - accuracy: 0.7067\n",
      "Epoch 65/100\n",
      "5/5 [==============================] - 0s 5ms/step - loss: 0.3955 - accuracy: 0.7267\n",
      "Epoch 66/100\n",
      "5/5 [==============================] - 0s 8ms/step - loss: 0.3939 - accuracy: 0.7267\n",
      "Epoch 67/100\n",
      "5/5 [==============================] - 0s 10ms/step - loss: 0.3923 - accuracy: 0.7400\n",
      "Epoch 68/100\n",
      "5/5 [==============================] - 0s 9ms/step - loss: 0.3907 - accuracy: 0.7400\n",
      "Epoch 69/100\n",
      "5/5 [==============================] - 0s 8ms/step - loss: 0.3891 - accuracy: 0.7400\n",
      "Epoch 70/100\n",
      "5/5 [==============================] - 0s 6ms/step - loss: 0.3876 - accuracy: 0.7467\n",
      "Epoch 71/100\n",
      "5/5 [==============================] - 0s 6ms/step - loss: 0.3861 - accuracy: 0.7533\n",
      "Epoch 72/100\n",
      "5/5 [==============================] - 0s 5ms/step - loss: 0.3845 - accuracy: 0.7533\n",
      "Epoch 73/100\n",
      "5/5 [==============================] - 0s 7ms/step - loss: 0.3830 - accuracy: 0.7533\n",
      "Epoch 74/100\n",
      "5/5 [==============================] - 0s 10ms/step - loss: 0.3814 - accuracy: 0.7533\n",
      "Epoch 75/100\n",
      "5/5 [==============================] - 0s 5ms/step - loss: 0.3799 - accuracy: 0.7533\n",
      "Epoch 76/100\n",
      "5/5 [==============================] - 0s 7ms/step - loss: 0.3784 - accuracy: 0.7667\n",
      "Epoch 77/100\n",
      "5/5 [==============================] - 0s 6ms/step - loss: 0.3769 - accuracy: 0.7667\n",
      "Epoch 78/100\n",
      "5/5 [==============================] - 0s 10ms/step - loss: 0.3755 - accuracy: 0.7667\n",
      "Epoch 79/100\n",
      "5/5 [==============================] - 0s 6ms/step - loss: 0.3740 - accuracy: 0.7667\n",
      "Epoch 80/100\n",
      "5/5 [==============================] - 0s 5ms/step - loss: 0.3726 - accuracy: 0.7667\n",
      "Epoch 81/100\n",
      "5/5 [==============================] - 0s 6ms/step - loss: 0.3712 - accuracy: 0.7733\n",
      "Epoch 82/100\n",
      "5/5 [==============================] - 0s 4ms/step - loss: 0.3698 - accuracy: 0.7867\n",
      "Epoch 83/100\n",
      "5/5 [==============================] - 0s 7ms/step - loss: 0.3683 - accuracy: 0.7867\n",
      "Epoch 84/100\n",
      "5/5 [==============================] - 0s 4ms/step - loss: 0.3669 - accuracy: 0.8000\n",
      "Epoch 85/100\n",
      "5/5 [==============================] - 0s 5ms/step - loss: 0.3654 - accuracy: 0.8000\n",
      "Epoch 86/100\n",
      "5/5 [==============================] - 0s 5ms/step - loss: 0.3640 - accuracy: 0.8000\n",
      "Epoch 87/100\n",
      "5/5 [==============================] - 0s 6ms/step - loss: 0.3627 - accuracy: 0.8000\n",
      "Epoch 88/100\n",
      "5/5 [==============================] - 0s 6ms/step - loss: 0.3612 - accuracy: 0.8000\n",
      "Epoch 89/100\n",
      "5/5 [==============================] - 0s 14ms/step - loss: 0.3598 - accuracy: 0.8000\n",
      "Epoch 90/100\n",
      "5/5 [==============================] - 0s 7ms/step - loss: 0.3585 - accuracy: 0.8000\n",
      "Epoch 91/100\n",
      "5/5 [==============================] - 0s 6ms/step - loss: 0.3571 - accuracy: 0.8000\n",
      "Epoch 92/100\n",
      "5/5 [==============================] - 0s 5ms/step - loss: 0.3557 - accuracy: 0.8067\n",
      "Epoch 93/100\n",
      "5/5 [==============================] - 0s 6ms/step - loss: 0.3543 - accuracy: 0.8067\n",
      "Epoch 94/100\n",
      "5/5 [==============================] - 0s 6ms/step - loss: 0.3530 - accuracy: 0.8067\n",
      "Epoch 95/100\n",
      "5/5 [==============================] - 0s 8ms/step - loss: 0.3516 - accuracy: 0.8067\n",
      "Epoch 96/100\n",
      "5/5 [==============================] - 0s 9ms/step - loss: 0.3503 - accuracy: 0.8067\n",
      "Epoch 97/100\n",
      "5/5 [==============================] - 0s 9ms/step - loss: 0.3490 - accuracy: 0.8067\n",
      "Epoch 98/100\n",
      "5/5 [==============================] - 0s 7ms/step - loss: 0.3476 - accuracy: 0.8067\n",
      "Epoch 99/100\n",
      "5/5 [==============================] - 0s 11ms/step - loss: 0.3463 - accuracy: 0.8067\n",
      "Epoch 100/100\n",
      "5/5 [==============================] - 0s 10ms/step - loss: 0.3450 - accuracy: 0.8133\n"
     ]
    },
    {
     "data": {
      "text/plain": [
       "<tensorflow.python.keras.callbacks.History at 0x7f44e0746b50>"
      ]
     },
     "execution_count": 15,
     "metadata": {},
     "output_type": "execute_result"
    }
   ],
   "source": [
    "import tensorflow as tf\n",
    "from tensorflow import keras\n",
    "\n",
    "model_pet = keras.models.Sequential()\n",
    "model_pet.add(keras.layers.Flatten(input_shape=[2]))\n",
    "model_pet.add(keras.layers.Dense(32, activation='relu'))\n",
    "model_pet.add(keras.layers.Dense(32, activation='relu'))\n",
    "model_pet.add(keras.layers.Dense(1, activation='sigmoid'))\n",
    "\n",
    "model_pet.compile(loss=\"BinaryCrossentropy\",\n",
    "                optimizer='sgd',\n",
    "                metrics=['accuracy'])\n",
    "\n",
    "model_pet.fit(X_pet_tras, y_ver, epochs=100)"
   ]
  },
  {
   "attachments": {},
   "cell_type": "markdown",
   "metadata": {},
   "source": [
    "The accuracy show us that the artificial neural network's success without feature engineearing (that is, take squares) is better than the SGDClassifier success without feature engineearing. In conclusion, We have seen a case of binary classifiers in which under the same conditions (without feature engineearing) the artificial neural network has beaten the classical model.\n",
    "\n",
    "In the following figure you can see how the artificial neural network detects versicolor zone, even with not linearly separable data. Also, it is important regognize that we could work a lot to improve the power of generalization but it wasn't the purpose of this notebook. "
   ]
  },
  {
   "attachments": {},
   "cell_type": "markdown",
   "metadata": {},
   "source": [
    "<img src='Versicolor_ann1.png'>"
   ]
  },
  {
   "cell_type": "code",
   "execution_count": null,
   "metadata": {},
   "outputs": [],
   "source": []
  }
 ],
 "metadata": {
  "kernelspec": {
   "display_name": "Python 3",
   "language": "python",
   "name": "python3"
  },
  "language_info": {
   "codemirror_mode": {
    "name": "ipython",
    "version": 3
   },
   "file_extension": ".py",
   "mimetype": "text/x-python",
   "name": "python",
   "nbconvert_exporter": "python",
   "pygments_lexer": "ipython3",
   "version": "3.9.5"
  },
  "orig_nbformat": 4,
  "vscode": {
   "interpreter": {
    "hash": "e7370f93d1d0cde622a1f8e1c04877d8463912d04d973331ad4851f04de6915a"
   }
  }
 },
 "nbformat": 4,
 "nbformat_minor": 2
}
