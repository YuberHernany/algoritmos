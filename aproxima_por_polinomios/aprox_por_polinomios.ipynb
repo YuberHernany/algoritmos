{
 "cells": [
  {
   "cell_type": "markdown",
   "metadata": {},
   "source": [
    "#### Aproximación por polinomios"
   ]
  },
  {
   "cell_type": "markdown",
   "metadata": {},
   "source": [
    "Una idea básica en el análisis numérico es el uso de funciones simples, usualmente polinomios, para aproximarse a una función dada $f$.\n",
    "\n",
    "Por ejemplo, el problema de encontrar un polinomio $P$ que se aproxime a una función $f$, al menos en una localidad. De forma más precisa, si $f$ posee derivadas hasta de orden $n$ en un punto $a$, entonces el polinomio $P(x)$ de grado $\\leq n$ que satisface las $n+1$ ecuaciones:\n",
    "$$P(a) = f(a), \\quad P'(a) = f'(a), \\quad \\cdots \\quad,  P ^{(n)}(a) = f ^{(n)}(a)  $$ \n",
    "\n",
    "Tiene por solución el polinomio de Taylor \n",
    "\n",
    "$$P(x) = \\displaystyle \\sum _{k=0} ^{n} \\frac{f ^{(k)}(a) }{k!} (x-a) ^{ k}    $$\n",
    "\n",
    "Ahora, si en lugar de buscar aproximación en una localidad de $a$, se quiere igualdad en un conjunto de puntos, entonces se pasa a un problema de aproximación conocido como el problema de la interpolación. En este caso, si $x _{0} , x _{ 1} , \\cdots, x _{ n} $ son puntos distintos, entonces se busca un polinomio $P$ que cumpla las condiciones:\n",
    "$$P(x _{0}) = f(x _{0} ), \\quad P(x _{1}) = f(x _{1} ) ,\\quad P(x _{2}) = f(x _{2} ) ,\n",
    "\\quad  \\cdots ,\\quad  P(x _{n}) = f(x _{n} )  $$\n",
    "\n",
    "Dado que hay $n+1$ condiciones, se busca un polinomio de grado $\\leq n$, digamos $\\displaystyle P(x) = \\sum _{k=0} ^{ n} a _{k} x ^{ k}   $ y se procura determinar los coeficientes $a _{0} , a _{ 1} , \\cdots , a _{ n} $. Bajo el único conocimiento de los valores $f(x _{0}), f(x _{ 1} ), \\cdots , f(x _{ n} ) $, se puede establecer un sistema de $n+1$ ecuaciones con $n+1 $ incógnitas y se puede probar que dicho sistema tendrá solución única, pero generalmente el procedimiento para construir el polinomio de interpolación $P(x)$ cuando $n$ es grande, no pasa por resolver tal sistema de ecuaciones, sino por una construcción más sistemática.\n",
    "\n",
    "Otra forma popular de aproximación por polinomios, es la famosa aproximación por mínimios cuadrados. En este contexto se supone que $f$ es integrable sobre el intervalo $[a,b]$ y se busca un polinomio $P$ de grado $\\leq n$ tal que $$\\displaystyle \\int _{a} ^{b} |f(x) - P(x)| ^{ 2} dx  $$  sea tan pequeña como sea posible. Se puede probrar que tal polinomio existe. Los polinomios de Legendre juegan un papel importante en este tipo de aproximación."
   ]
  },
  {
   "cell_type": "markdown",
   "metadata": {},
   "source": [
    "#### Espacios vectoriales de funciones\n",
    "\n",
    "Todos los ejemplos anteriores, se pueden describir mejor en el contexto de espacios vectoriales de funciones. Tome a $V$ con un espacio vectorial que contiene al subespacio $S$ de los polinomios de grado $\\leq n$ y también contiene a una función $f$ a la que pretendemos aproximarnos. Para hablar de proximidad entre un polinomio $P$ y una función $f$, hay que dotar de significado a la magnitud del \"error\" cometido al aproximar. En este caso, la magnitud de $f-P$.\n",
    "\n",
    "Si $V$ es un espacio euclidiano (inducido por un producto interno), entonces $\\|f-P\\|:=(f-P, f-P) ^{1/2} $. Algunos espacios no euclidianos admiten otra definición para $\\|f-P\\|$, como se verá más adelante.\n",
    "\n",
    "**DEFINICIÓN DE NORMA**\n",
    "\n",
    "Una norma $\\| \\cdot \\|$, es una función sobre $V$ que cumple las siguientes propiedades:\n",
    "\n",
    "(a) $\\quad \\|f\\|\\geq 0, \\quad \\forall f \\in V$ \n",
    "\n",
    "(b) $\\quad \\|cf\\| = |c|\\|f\\|, \\quad \\forall c\\in \\mathbb{R}, \\ \\forall f \\in V$ \n",
    "\n",
    "(c) $\\quad \\|f+g\\| \\leq \\|f\\| + \\|g\\|, \\quad \\forall f, g \\in V$ \n",
    "\n",
    "(d) $\\quad \\|f\\|=0 \\quad \\Longrightarrow f = O$ \n",
    "\n",
    "Una función $\\| \\cdot \\|$ que cumple (a), (b) y (c) pero no (d) se dice SEMINORMA. Si cumple (a), (b), (c) y (d) se dice NORMA.\n",
    "\n",
    "**Ejemplos**\n",
    "\n",
    "1) Sea $V$ es espacio de todas las funciones $f$ que son $n$ veces derivables en el punto $a$. Probar que la siguiente es una seminorma: (llamada seminorma de Taylor) $$\\|f\\|:= \\displaystyle \\sum _{k=0} ^{n} |f ^{(k)}(a) |  $$ \n",
    "\n",
    "\n",
    "2) Sea $V$ es espacio de todas las funciones $f$ con dominio el intervalo $[a, b]$. Sean $x _{0}, x _{ 1} , \\dots , x _{ n}  \\in [a,b]$ prefijados y distintos.  Probar que la siguiente es una seminorma: (llamada seminorma de interpolación) $$\\|f\\|:= \\displaystyle \\sum _{k=0} ^{n} |f (x _{k} ) |  $$ \n",
    "\n",
    "3) Sea $V = C[a,b]$ (continuas en $[a,b]$). Probar que la siguiente es una norma.\n",
    "$$\\|f\\|:= \\displaystyle \\sqrt{ \\int _{a} ^{b} |f(x)| ^{ 2} dx   }$$\n",
    "\n",
    "4) Sea $V = C[a,b]$ (continuas en $[a,b]$). Probar que la siguiente es una norma.\n",
    "$$\\|f\\|:= \\displaystyle \\max _{a\\leq x \\leq b} |f(x)| $$\n"
   ]
  },
  {
   "cell_type": "markdown",
   "metadata": {},
   "source": [
    "#### Problemas fundamentales de aproximación por polinomios.\n",
    "\n",
    "Sea $V=C[a,b]$. Sea $S$ el subespacio de polinimios de grado $\\leq n$. Asuma que $\\| \\cdot \\|$ es una norma o seminorma en $V$.\n",
    "Dada una $f\\in V$, si existe un polinomio $P\\in S$ tal que $\\|f-P\\|\\leq \\|f-Q\\|, \\quad \\forall Q\\in S$, se dice que $P$ es el polinomio de mejor aproximación a $f$ respecto a la norma o seminorma dada.\n",
    "\n",
    "Prefijando una norma o una seminorma, aparecen los tres problemas:\n",
    "\n",
    "**Existencia**: Dada cualquiera $f\\in C[a,b]$, ¿Existe $P$ el polinomio de mejor aproximación con grado especificado?\n",
    "\n",
    "**Unicidad**: Dada cualquiera $f\\in C[a,b]$, ¿Si existe $P$, el polinomio de mejor aproximación con grado especificado, es único?\n",
    "\n",
    "**Construcción**: Dada cualquiera $f\\in C[a,b]$, ¿Si existe $P$, el polinomio de mejor aproximación con grado especificado, entonces cuál es el algoritmo con el que se construye?"
   ]
  },
  {
   "cell_type": "markdown",
   "metadata": {},
   "source": [
    "**Taller**\n",
    "\n",
    "1) El conjunto $F$ de las funciones sobre $[a,b]$ constituye un espacio vectorial. Para ver si un subconjunto $S$ de $F$ es un subespacio vectorial, se debe garantizar de $(\\alpha f + g) \\in S$, siempre que $\\alpha\\in \\mathbb{R}$ y $f, g\\in S$. En ese sentido, diga si los siguientes subconjuntos son subespacios vectoriales:\n",
    "\n",
    "a) Todos los polinomios de grado $n$.\n",
    "\n",
    "b) Todas las funciones acotadas en $[a,b]$.\n",
    "\n",
    "c) Todas las funciones constantes a trozos en $[a,b]$.\n",
    "\n",
    "d) Todas las funciones monótonas en $[a,b]$. \n",
    "\n",
    "e) Todas las funciones integrables en $[a,b]$.\n",
    "\n",
    "2) Sea $V$ el espcio de las funciones continuas en $[a,b]$. Para cada una de las siguientes funciones, verifique si se cumple o no se cumple cada una de las propiedades para ser una seminorna o una norma.\n",
    "\n",
    "a) $\\|f\\|:=f(a)$ \n",
    "\n",
    "b) $\\|f\\|:=|f(a)|$ \n",
    "\n",
    "c) $\\|f\\|:=|f(b) - f(a)|$ \n",
    "\n",
    "d) $\\|f\\|:=\\displaystyle \\int _{a} ^{ b}  f(x)\\ dx$ \n",
    "\n",
    "e) $\\|f\\|:=\\displaystyle \\left |\\int _{a} ^{ b}  f(x)\\ dx \\right |$ \n",
    "\n",
    "f) $\\|f\\|:=\\displaystyle \\int _{a} ^{ b}  |f(x)|\\ dx$\n",
    "\n",
    "g) $\\|f\\|:=\\displaystyle \\int _{a} ^{ b}  |f(x)| ^{ 2} \\ dx$\n",
    "\n",
    "h) $\\|f\\|:=\\displaystyle \\left |\\int _{a} ^{ b}  f(x)\\ dx \\right | ^{ 2} $ \n",
    "\n",
    "3) Sea $V$ el espacio de funciones continuas en $[a, b]$. Pruebe que $\\|f\\|:= \\displaystyle \\max _{a\\leq x \\leq b} |f(x)| $ es una norma.\n",
    "\n",
    "4) Sea $V$ el espacio de funciones derivables $n$ veces en un punto fijo $x _{0} $. Pruebe que la siguiente es una seminorma $$\\|f\\|:= \\displaystyle \\sum _{k=0} ^{ n} \\frac{1}{k!} |f ^{(k)} (x _{0} ) |  $$ Pruebe que $\\|f\\cdot g\\| \\leq \\|f\\|\\cdot \\|g\\|$, además de probar que la seminorma de Taylor no lo cumple. \n",
    "\n",
    "\n",
    "5) Demostrar que el polinomio cuadrático de aproximación óptima relativo\n",
    "a la norma cuadrática en $[-1,1]$ viene dado por\n",
    "$$P(x) = \\frac{1}{2} \\int _{-1} ^{1} f(t) dt + \\frac{3}{2}x \\int _{-1} ^{1}tf(t)dt +\n",
    "\\frac{5}{8}(3x ^{ 2} -1)\\int _{-1} ^{1}(3t ^{ 2} -1)f(t)dt  $$\n",
    "(**Sug**: Use los polinomios de Legendre)\n",
    "\n",
    "6) Sea $C$ el espacio de las funciones reales continuas en $[-1, 1]$ con producto\n",
    "$<f, g>=\\int _{-1} ^{1}f(x)g(x) dx$. Si $e _{0}, \\cdots e _{n}  $ son los primeros\n",
    "polinomios de Legendre, se puede calcular el cuadrado de la norma del error de aproximación de la siguiente forma\n",
    "$$\\|f-P\\| ^{ 2} =\\|f\\| ^{ 2}  - \\sum _{k=0} ^{ n} <f, e _{k } > ^{ 2}  $$\n",
    "\n",
    "Calcular explícitamente ese error cuando $n=2$ y $f(x)= |x|$.\n"
   ]
  }
 ],
 "metadata": {
  "kernelspec": {
   "display_name": "Python 3.9.5 64-bit",
   "language": "python",
   "name": "python3"
  },
  "language_info": {
   "codemirror_mode": {
    "name": "ipython",
    "version": 3
   },
   "file_extension": ".py",
   "mimetype": "text/x-python",
   "name": "python",
   "nbconvert_exporter": "python",
   "pygments_lexer": "ipython3",
   "version": "3.9.5"
  },
  "orig_nbformat": 4,
  "vscode": {
   "interpreter": {
    "hash": "e7370f93d1d0cde622a1f8e1c04877d8463912d04d973331ad4851f04de6915a"
   }
  }
 },
 "nbformat": 4,
 "nbformat_minor": 2
}
