{
 "cells": [
  {
   "cell_type": "markdown",
   "metadata": {},
   "source": [
    "#### Interpolación\n",
    "\n",
    "Dados $n+1$ puntos distintos $x _{0}, x _{ 1} , ..., x _{ n}  $ y conocidos los valores $f(x _{0}), f(x _{ 1} ), ..., f(x _{n} ) $, se busca un polinomio $P(x)$ de grado $\\leq n$ tal que: \n",
    "\n",
    "$$f(x _{0}) = P(x _{0} ), \\quad f(x _{1}) = P(x _{1} ), \\quad \\dots , \\quad f(x _{n}) = P(x _{n} )  $$\n",
    "\n",
    "#### Interpolación de Lagrange\n",
    "\n",
    "Construcción de polinomio de grado $n$ que pasa por $n+1$ puntos distintos $x _{0}, x _{ 1} , ..., x _{ n}  $.\n",
    "\n",
    "Sea $$A(x) = (x-x _{0})(x- x _{ 1} ) \\cdots (x - x _{ n} ) =\\displaystyle \\prod _{j=0} ^{ n} (x-x _{ j} )  $$\n",
    "\n",
    "$A(x)$ tiene un cero simple en cada $x _{j} $.\n",
    "\n",
    "Sea $$A _{k}(x) = \\displaystyle \\prod _{j=0,\\ \\  j\\neq k}  ^{ n}  (x - x _{ j} )  $$ \n",
    "\n",
    "Note que $x _{k} $ no es un cero de $A _{k } (x)$. También note que $\\displaystyle \\frac{A _{k } (x) }{A _{k } (x _{k} )} $ es un polinomio que asume el valor $1$ cuando $x = x _{k } $ y que asume el valor $0$ cuando $x = x _{ j}$ con $x _{ j} \\neq x _{k } $     \n",
    "\n",
    "Es así como $$\\displaystyle P(x) = \\displaystyle \\sum _{k=0} ^{ n} \\frac{f(x _{k } ) A _{k } (x)}{A _{k } (x _{k } )}  $$\n",
    "es un polinomio de grado $\\leq n$ tal que $f(x _{ j} ) = P(x _{ j} ), \\quad \\forall j=0, 1, \\dots , n$ \n",
    "\n",
    "Otra forma de escribir a $P(x)$ es $$\\displaystyle \\sum _{k=0} ^{ n} \\left [ f(x _{k } ) \\prod _{j=0, \\ \\ j\\neq k}  ^{ n} \n",
    "\\frac{x - x _{ j} }{x _{k } - x _{ j} } \\right ]  $$ \n",
    "\n",
    "\n",
    "\n",
    "\n",
    "\n"
   ]
  },
  {
   "cell_type": "code",
   "execution_count": 1,
   "metadata": {},
   "outputs": [],
   "source": [
    "import sympy as sy\n",
    "\n",
    "def cardinal(X, k):\n",
    "    \"\"\"\n",
    "    ENTRADAS: X lista de floats distintos. k: entero\n",
    "    SALIDA: Expresión simbólica de sympy. Polinomio cardinal.\n",
    "    \"\"\"\n",
    "    x = sy.symbols('x')\n",
    "    n = len(X) - 1\n",
    "    numeradores = [x - X[j] for j in range(n+1) if j != k]\n",
    "    denominadores = [X[k] - X[j] for j in range(n+1) if j != k]\n",
    "    return sy.prod(numeradores) / sy.prod(denominadores)\n",
    "\n",
    "def interpola_Lagrange(X, Y):\n",
    "    \"\"\"\n",
    "    ENTRADAS: X, Y son las listas [x0, x1, ..., xn] y [y0, y1, ..., yn]     \n",
    "    SALIDA: Expresión simbólica de sympy. Polinomio de interpolación\n",
    "    \"\"\"\n",
    "    n = len(X) - 1\n",
    "    x = sy.symbols('x')\n",
    "    cardinales = [cardinal(X, k) for k in range(n+1)]\n",
    "    productos = [yk * card for yk, card in zip(Y, cardinales)]\n",
    "    return sum(productos)\n",
    "\n",
    "def polinomio_interpolacion_Lagrange(X, Y):\n",
    "    \"\"\"\n",
    "    ENTRADAS: X, Y son las listas [x0, x1, ..., xn] y [y0, y1, ..., yn]     \n",
    "    SALIDA: Función de Python. Polinomio de interpolación\n",
    "    \"\"\"\n",
    "    n = len(X) - 1\n",
    "    x = sy.symbols('x')\n",
    "    return sy.lambdify(x, interpola_Lagrange(X, Y), \"numpy\")\n",
    "\n"
   ]
  },
  {
   "cell_type": "code",
   "execution_count": 2,
   "metadata": {},
   "outputs": [
    {
     "data": {
      "text/latex": [
       "$\\displaystyle - \\frac{2 x \\left(x - 2\\right) \\left(x - 1\\right)}{3} - \\frac{7 x \\left(x - 2\\right) \\left(x + 1\\right)}{2} + \\frac{x \\left(x - 1\\right) \\left(x + 1\\right)}{6} - 3 \\left(x - 2\\right) \\left(x - 1\\right) \\left(x + 1\\right)$"
      ],
      "text/plain": [
       "-2*x*(x - 2)*(x - 1)/3 - 7*x*(x - 2)*(x + 1)/2 + x*(x - 1)*(x + 1)/6 - 3*(x - 2)*(x - 1)*(x + 1)"
      ]
     },
     "execution_count": 2,
     "metadata": {},
     "output_type": "execute_result"
    }
   ],
   "source": [
    "X = [-1,0, 1, 2]\n",
    "Y = [4, -6, 7, 1]\n",
    "x = sy.symbols('x')\n",
    "interpola_Lagrange(X, Y)"
   ]
  },
  {
   "cell_type": "code",
   "execution_count": 3,
   "metadata": {},
   "outputs": [],
   "source": [
    "import numpy as np\n",
    "import matplotlib.pyplot as plt\n",
    "\n",
    "def grafica_polinomio(P, xmin, xmax, **kwargs):\n",
    "    dom = np.linspace(xmin, xmax)\n",
    "    ax = plt.gca()\n",
    "    ax.plot(dom, P(dom), **kwargs)\n",
    "\n",
    "def grafica_puntos(x_s, y_s, **kwargs):\n",
    "    ax = plt.gca()\n",
    "    ax.scatter(x_s, y_s, **kwargs)"
   ]
  },
  {
   "cell_type": "code",
   "execution_count": 4,
   "metadata": {},
   "outputs": [
    {
     "data": {
      "image/png": "[encoded data removed]",
      "text/plain": [
       "<Figure size 432x288 with 1 Axes>"
      ]
     },
     "metadata": {
      "needs_background": "light"
     },
     "output_type": "display_data"
    }
   ],
   "source": [
    "# Creación de gráficos de polinomio de interpolación y de puntos\n",
    "#  de interlolación en un mismo sistema de ejes\n",
    "fig, ax = plt.subplots()\n",
    "P = polinomio_interpolacion_Lagrange(X, Y)\n",
    "xmin, xmax = -1.1, 2.1\n",
    "grafica_polinomio(P, xmin, xmax)\n",
    "grafica_puntos(X, Y)\n",
    "plt.show()"
   ]
  },
  {
   "cell_type": "markdown",
   "metadata": {},
   "source": [
    "**Taller: Interpolación de Lagrange**\n",
    "\n",
    " En cada caso encuentre el polinomio $P$ de menor grado posible que satisface las condiciones:\n",
    "  \n",
    "a) $\\ P(-1)=0$, $P(0)=2$, $P(2) = 7$.\n",
    "\n",
    "b) $\\ P(1)=1$, $P(2)=0$, $P(3) =0$, $P(4) =1$.\n",
    "\n",
    "c) $\\ P(1)=1$, $P(2)=2$, $P(3) =3$, $P(0) =1$.\n",
    "\n",
    "d) $\\ P(0)=-2$, $P(1)=0$, $P(-1) =-2$, $P(2) =16$.\n",
    "\n",
    "e) $\\ P(-2)=11$, $P(-1)=-11$, $P(0) =-5$, $P(1) =-1$.\n",
    "  \n",
    "\n",
    " Sea $f(x) = \\cos(\\pi x/4)$. Encuentre el polinomio $P$ de menor grado posible que toma los mismos valores que $f$ en los puntos $-2, -4/3, 0, 4/3, 2$. Luego grafique sobre un mismo sistema de ejes a $f$ y a $P$.\n",
    "\n",
    " Sea $f(x) = \\sin(\\pi x/4)$. Encuentre el polinomio $P$ de menor grado posible que toma los mismos valores que $f$ en los puntos $-2, -4/3, 0, 4/3, 2$. Luego grafique sobre un mismo sistema de ejes a $f$ y a $P$.\n",
    "\n",
    " Sea $f(x) = \\log _{4}(x) $.  Encuentre el polinomio $P$ de menor grado posible que toma los mismos valores que $f$ en los puntos:\n",
    "\n",
    "a)    $x=1, 64$.\n",
    "\n",
    "b)    $x=1, 16, 256$.\n",
    "\n",
    "c)    $x=4, 16, 64$.\n",
    "\n",
    "d)    $x=1, 4, 16, 64, 256$.\n",
    "\n",
    "\n",
    "En cada caso calcule la diferencia $f(32)-P(32)$. ¿Se puede concluir que con la interpolación en general mejora la aproximación al aumentar el número de puntos de interpolación?\n",
    "\n"
   ]
  },
  {
   "cell_type": "markdown",
   "metadata": {},
   "source": [
    "#### Interpolación de Chebyshev\n",
    "\n",
    "Un problema natural que surge en la teoría de aproximación por polinomios interpolando es el de acotar el error de aproximación, es decir \n",
    "$$f(x) -P(x) = \\displaystyle \\frac{A(x)}{(n+1)!} f^{(n+1)}(c), \\quad \\text{con} \\quad A(x) = (x-x _{0} )(x - x _{ 1} ) \\cdots (x - x _{ n} )  $$\n",
    "\n",
    "Allí $P$ es el polinomio de grado $\\leq n$ que coincide con $f$ en los $n+1$ puntos distintos $x _{0}, x _{ 1} , \\dots , x _{ n} \\in [a,b] $. Asumiendo que $f$ posee derivada de orden $n+1$ sobre $[a,b]$, existe un tal $c$ en $[a, b]$. Para acotar el error se requieren cotas para la derivada $f ^{(n+1)} $ y para el producto $A(x)$. Dado que $A$ es un polinomio (continua en $[a,b]$), asume máximo en $[a,b]$ y dicho máximo tiene dependencia de la selección de puntos $x _{0}, x _{1},\\dots x _{ n}    $, luego se busca seleccionar los puntos de tal forma que minimicen el máximo de $A$ sobre $[a,b]$. Este problema ha sido resuelto por Chebyshev.   \n",
    "\n"
   ]
  },
  {
   "cell_type": "markdown",
   "metadata": {},
   "source": [
    "**Polinomios de Chebyshev**\n",
    "\n",
    "Sea $x+iy$ un complejo de módulo $1$. Por teorema de binomio se tiene:\n",
    "$$(x+iy) ^{ n} = \\displaystyle \\sum _{k=0} ^{ n} {n \\choose k} x ^{n-k}(iy) ^{ k}, \\quad \\quad (1)   $$  \n",
    "\n",
    "Por otro lado si tomamos $x = \\cos \\theta, \\ y = \\sin \\theta$ y usamos la fórmula de Moivre, tenemos:\n",
    "$$(x+iy) ^{ n} = (\\cos \\theta + i \\ \\sin \\theta) ^{ n} = \\cos n \\theta + i\\ \\sin n \\theta, \\quad \\quad (2)$$ \n",
    "\n",
    "La parte real en $(1)$ es la suma sobre los pares en $(2)$, luego\n",
    "$$\\cos \\ n \\theta = x ^{ n} - {n \\choose 2} x ^{n-2} y ^{ 2} + {n \\choose 4} x ^{n-4}y ^{4} - \\cdots + \\cdots, \\quad \\quad (3)   $$ \n",
    "\n",
    "Dado que $y ^{ 2} = \\sin ^{ 2} \\theta = 1 - \\cos ^{ 2} \\theta = 1 - x ^{ 2} $, al sustituir en lado derecho de $(3)$, obtenemos la forma del llamado polinomio de Chebyshev $T _{ n} (x)$:\n",
    "$$T _{ n} (x) = \\displaystyle \\sum _{k=0} ^{[n/2]} {n\\choose 2k} x ^{n-2k}(x ^{ 2} -1) ^{k}    $$  \n",
    "\n",
    "Si $-1\\leq x \\leq 1$, la consideración $x = \\cos \\theta$ que equivale a $\\theta = \\arccos x$, puede ser reemplazada en $(2)$ y concluirse que $T _{ n} (x) = \\cos (n \\ \\arccos x)$. Además, se consigue la siguiente fórmula de recursión:\n",
    "$$T _{n+1}(x) = 2xT _{ n} (x) - T _{n-1}(x), \\quad \\text{para} \\quad n\\geq 1, \\quad \\text{con} \\quad T _{0}(x) = 1 \\quad \\text{y} \\quad T _{ 1} (x) = x   $$   \n",
    "Y ello se debe a que bajo el supuesto $x = \\cos \\theta$,  la identidad trigonométrica \n",
    "$$\\cos \\ (n+1)\\theta + \\cos \\ (n-1)\\theta = 2\\ \\cos \\theta \\cos n\\theta$$  \n",
    "equivale a\n",
    "$$T _{n+1}(x) + T _{n-1} (x) = 2x T _{n}(x), \\quad \\quad \\text{para} \\quad -1\\leq x\\leq 1   $$\n",
    "\n",
    "Los siguientes son algunos ejemplos de polinomios de Chebyshev:\n",
    "\n",
    "$T _{ 2} (x) = 2 x ^{ 2} -1, \\quad T _{3}(x) = 4x ^{3} - 3x, \\quad \n",
    "T _{4}(x) = 8 x ^{4} - 8 x ^{ 2} + 1, \\quad T _{5}(x) = 16x ^{5} - 20 x ^{3} + 5x $ \n",
    "\n",
    "Se nota que los coeficientes son enteros. Además el término principal es $2 ^{n-1} $. "
   ]
  },
  {
   "cell_type": "markdown",
   "metadata": {},
   "source": [
    "**Teorema**\n",
    "\n",
    "Si $n\\geq 1$, el polinomio $T _{n}(x) $ tiene ceros en los puntos $x _{k} = \\cos \\frac{(2k+1)\\pi}{2n}  , \\quad k=0,1,2,\\dots, n-1$   \n",
    "\n",
    "Por lo tanto $T _{ n} (x) $ tiene la factorización \n",
    "$$T _{n}(x) = 2 ^{n-1}(x-x _{0} )(x-x _{ 1} )\\cdots (x - x _{n-1} ) = 2 ^{n-1} \\displaystyle \n",
    "\\prod _{k=0} ^{n-1} \\left ( x- \\cos \\frac{(2k+1)\\pi}{2n}  \\right )     $$ "
   ]
  }
 ],
 "metadata": {
  "kernelspec": {
   "display_name": "Python 3.9.5 64-bit",
   "language": "python",
   "name": "python3"
  },
  "language_info": {
   "codemirror_mode": {
    "name": "ipython",
    "version": 3
   },
   "file_extension": ".py",
   "mimetype": "text/x-python",
   "name": "python",
   "nbconvert_exporter": "python",
   "pygments_lexer": "ipython3",
   "version": "3.9.5"
  },
  "orig_nbformat": 4,
  "vscode": {
   "interpreter": {
    "hash": "e7370f93d1d0cde622a1f8e1c04877d8463912d04d973331ad4851f04de6915a"
   }
  }
 },
 "nbformat": 4,
 "nbformat_minor": 2
}
