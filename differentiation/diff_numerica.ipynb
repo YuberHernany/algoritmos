{
 "cells": [
  {
   "attachments": {},
   "cell_type": "markdown",
   "metadata": {},
   "source": [
    "#### Aproximaciones numéricas a la derivada de una función en un punto"
   ]
  },
  {
   "attachments": {},
   "cell_type": "markdown",
   "metadata": {},
   "source": [
    "Recordemos que $$f'(x _{0}) := \\displaystyle \\lim _{h\\to 0} \\frac{f(x _{0}  + h) - f(x _{0} )}{h}  $$ \n",
    "lo que indica que con $h$ suficientemente chico, se puede lograr que $$f'(x _{0}) \\approx \\frac{f(x _{0}  + h) - f(x _{0} )}{h} $$ \n",
    "Dicha aproximación es conocida como aproximación hacia adelante o aproximación tipo `forward`.\n",
    "\n",
    "Existen también, aproximaciones tipo hacia atrás (`backward`) y tipo centradas (`centered`):\n",
    "$$f'(x _{0}) \\approx \\displaystyle  \\frac{f(x _{0}) - f(x _{0} -h)}{h} $$\n",
    "$$f'(x _{0}) \\approx \\displaystyle  \\frac{f(x _{0}+h) - f(x _{0} -h)}{2h} $$\n",
    "\n",
    "A continuación verá funciones de python emulando dichas aproximaciones."
   ]
  },
  {
   "cell_type": "code",
   "execution_count": 1,
   "metadata": {},
   "outputs": [],
   "source": [
    "import numpy as np\n",
    "import sympy as sy"
   ]
  },
  {
   "cell_type": "code",
   "execution_count": 2,
   "metadata": {},
   "outputs": [],
   "source": [
    "def forward_local1(f, x0, h):\n",
    "    return (1/h) * (f(x0+h) - f(x0))\n",
    "\n",
    "def backward_local1(f, x0, h):\n",
    "    return (1/h) * (f(x0) - f(x0-h))\n",
    "\n",
    "def centered_local(f, x0, h):\n",
    "    return (1/(2*h)) * (f(x0+h) - f(x0-h))\n"
   ]
  },
  {
   "cell_type": "code",
   "execution_count": 3,
   "metadata": {},
   "outputs": [],
   "source": [
    "x = sy.symbols('x')\n",
    "f_expr = x ** 2\n",
    "f = sy.lambdify(x, f_expr, \"numpy\")"
   ]
  },
  {
   "cell_type": "code",
   "execution_count": 6,
   "metadata": {},
   "outputs": [
    {
     "data": {
      "text/plain": [
       "2.0000000000000018"
      ]
     },
     "execution_count": 6,
     "metadata": {},
     "output_type": "execute_result"
    }
   ],
   "source": [
    "forward_local1(f, 1, 0.01)\n",
    "backward_local1(f, 1, 0.01)\n",
    "centered_local(f, 1, 0.01)\n"
   ]
  },
  {
   "attachments": {},
   "cell_type": "markdown",
   "metadata": {},
   "source": [
    "#### Aproximaciones a la derivada de una función en un intervalo"
   ]
  },
  {
   "attachments": {},
   "cell_type": "markdown",
   "metadata": {},
   "source": [
    "Si $f: [a,b]\\to \\mathbb{R}$ es una función derivable en $(a,b)$. Se puede subdividir el intervalo $[a,b]$ usando la partición $x _{0} =  a, x _{1} =  a+h,  x _{2} = a+2h, \\  \\cdots, \\  b$. Se considera al muestreo de $f$ como los valores $f(x _{0}), f(x _{ 1} ), \\cdots, f(x _{k} ), \\cdots $.\n",
    "\n",
    "Note que $f'(x _{k}) \\approx \\displaystyle \\frac{f(x _{k+1} ) - f(x _{k} )}{h} $, $f'(x _{k}) \\approx \\displaystyle \\frac{f(x _{k} ) - f(x _{k-1} )}{h} $ y $f'(x _{k}) \\approx \\displaystyle \\frac{f(x _{k+1} ) - f(x _{k-1} )}{2h} $ son las formas locales de aproximación a la derivada de $f $ en culaquier punto $x _{k} $. \n",
    "\n",
    "Matricialmente:\n",
    "\n",
    "$$\\frac{1}{h} \\begin{bmatrix}\n",
    "1 & -1 & \\ & \\ \\\\\n",
    "\\ &  1 & -1 & \\ \\\\\n",
    "\\ & \\ & 1 & -1 \\\\\n",
    "\\ & \\ & \\ & \\ddots \\\\\n",
    "\\ & \\ & \\ & \\ \\\\\n",
    "\\ & \\ & \\ & \\ \\\\\n",
    "\\end{bmatrix}\n",
    "\n",
    "\\begin{bmatrix}\n",
    "f(x _{0} ) \\\\\n",
    "f(x _{1} ) \\\\\n",
    "\\vdots \\\\\n",
    "f(x _{k-1}) \\\\\n",
    "f(x _{k}) \\\\\n",
    "f(x _{k+1}) \\\\\n",
    "\\vdots \\\\\n",
    "\\end{bmatrix}\n",
    "\\approx \n",
    "\n",
    "\\begin{bmatrix}\n",
    "f'(x _{ 1} )\\\\\n",
    "f'(x _{ 2} )\\\\\n",
    "\\vdots \\\\\n",
    "f'(x _{k } )\\\\\n",
    "\\vdots \n",
    "\\end{bmatrix} \\quad \\quad \\text{backward global}$$ \n",
    "\n",
    "\n",
    "\n",
    "$$\\frac{1}{h} \\begin{bmatrix}\n",
    "1 & \\ & \\ & \\ \\\\\n",
    "-1 &  1 & \\ & \\ \\\\\n",
    "\\ & -1 & 1 & \\ \\\\\n",
    "\\ & \\ & \\ & \\ddots \\\\\n",
    "\\ & \\ & \\ & \\ \\\\\n",
    "\\ & \\ & \\ & \\ \\\\\n",
    "\\end{bmatrix}\n",
    "\n",
    "\\begin{bmatrix}\n",
    "f(x _{0} ) \\\\\n",
    "f(x _{1} ) \\\\\n",
    "\\vdots \\\\\n",
    "f(x _{k-1}) \\\\\n",
    "f(x _{k}) \\\\\n",
    "f(x _{k+1}) \\\\\n",
    "\\vdots \\\\\n",
    "\\end{bmatrix}\n",
    "\\approx \n",
    "\n",
    "\\begin{bmatrix}\n",
    "- \\\\\n",
    "f'(x _{ 1} )\\\\\n",
    "f'(x _{ 2} )\\\\\n",
    "\\vdots \\\\\n",
    "f'(x _{k } )\\\\\n",
    "\\vdots \n",
    "\\end{bmatrix}  \\quad \\quad \\text{forward global}$$ \n",
    "\n",
    "\n",
    "$$\\frac{1}{2h} \\begin{bmatrix}\n",
    "0 & 1 & \\ & \\ \\\\\n",
    "-1 &  0 & 1 & \\ \\\\\n",
    "\\ & -1 & 0 & 1 \\\\\n",
    "\\ & \\ & \\ & \\ddots \\\\\n",
    "\\ & \\ & \\ & \\ \\\\\n",
    "\\ & \\ & \\ & \\ \\\\\n",
    "\\end{bmatrix}\n",
    "\n",
    "\\begin{bmatrix}\n",
    "f(x _{0} ) \\\\\n",
    "f(x _{1} ) \\\\\n",
    "\\vdots \\\\\n",
    "f(x _{k-1}) \\\\\n",
    "f(x _{k}) \\\\\n",
    "f(x _{k+1}) \\\\\n",
    "\\vdots \\\\\n",
    "\\end{bmatrix}\n",
    "\\approx \n",
    "\n",
    "\\begin{bmatrix}\n",
    "- \\\\\n",
    "f'(x _{ 1} )\\\\\n",
    "f'(x _{ 2} )\\\\\n",
    "\\vdots \\\\\n",
    "f'(x _{k } )\\\\\n",
    "\\vdots \n",
    "\\end{bmatrix}  \\quad \\quad \\text{centered global}$$ "
   ]
  },
  {
   "attachments": {},
   "cell_type": "markdown",
   "metadata": {},
   "source": [
    "a continuación verá funciones en python emulando aproximaciones globales:"
   ]
  },
  {
   "cell_type": "code",
   "execution_count": 12,
   "metadata": {},
   "outputs": [],
   "source": [
    "\n",
    "def forward(f, x):\n",
    "    \"\"\" Entradas: f es función, x es un arreglo\n",
    "        Salida: arreglo de aproximaciones a la derivada\"\"\"\n",
    "    n = len(x)\n",
    "    h = x[1] - x[0]\n",
    "    D = np.fromfunction(lambda i,j: (-1)*(i==j) + (1)*((j-i)==1), (n,n))\n",
    "    return (1/h) * (D @ f(x))\n",
    "\n",
    "\n",
    "def backward(f, x):\n",
    "    n = len(x)\n",
    "    h = x[1] - x[0]\n",
    "    D = np.fromfunction(lambda i,j: (1)*(i==j) + (-1)*((i-j)==1), (n,n))\n",
    "    return (1/h) * (D @ f(x))\n",
    "\n",
    "def centered(f, x):\n",
    "    n = len(x)\n",
    "    h = x[1] - x[0]\n",
    "    D = np.fromfunction(lambda i,j: (1)*((j-i)==1) + (-1)*((i-j)==1), (n,n))\n",
    "    return (1/(2*h)) * (D @ f(x))\n",
    "\n",
    "def centered_order4(f, x):\n",
    "    n = len(x)\n",
    "    h = x[1] - x[0]\n",
    "    D = np.fromfunction(lambda i,j: 8*((j-i)==1)-8*((i-j)==1)+1*((i-j)==2)-1*((j-i)==2), (n,n))\n",
    "    return (1/(12*h)) * (D @ f(x))"
   ]
  },
  {
   "cell_type": "code",
   "execution_count": 17,
   "metadata": {},
   "outputs": [],
   "source": [
    "x = sy.symbols('x')\n",
    "f_expr = x ** 2\n",
    "f = sy.lambdify(x, f_expr, \"numpy\")\n",
    "dominio = np.linspace(0,1)"
   ]
  },
  {
   "cell_type": "code",
   "execution_count": 18,
   "metadata": {},
   "outputs": [],
   "source": [
    "aprox1 = forward(f, dominio)\n",
    "aprox2 = backward(f, dominio)\n",
    "aprox3 = centered(f, dominio)"
   ]
  },
  {
   "cell_type": "code",
   "execution_count": 24,
   "metadata": {},
   "outputs": [
    {
     "data": {
      "image/png": "[encoded data removed]",
      "text/plain": [
       "<Figure size 432x288 with 3 Axes>"
      ]
     },
     "metadata": {
      "needs_background": "light"
     },
     "output_type": "display_data"
    }
   ],
   "source": [
    "import matplotlib.pyplot as plt\n",
    "\n",
    "fig, ax = plt.subplots(1,3)\n",
    "plt.subplot(131)\n",
    "axe = plt.gca()\n",
    "axe.plot(dominio, f(dominio), label=\"f\")\n",
    "axe.plot(dominio[:-1], aprox1[:-1], label=\"aprox f' forward\")\n",
    "axe.spines['bottom'].set_position(\"zero\")\n",
    "plt.legend(loc='lower left')\n",
    "plt.subplot(132)\n",
    "axe = plt.gca()\n",
    "axe.plot(dominio, f(dominio), label=\"f\")\n",
    "axe.plot(dominio[1:], aprox2[1:], label=\"aprox f' backward\")\n",
    "axe.spines['bottom'].set_position(\"zero\")\n",
    "plt.legend(loc='lower left')\n",
    "plt.subplot(133)\n",
    "axe = plt.gca()\n",
    "axe.plot(dominio, f(dominio), label=\"f\")\n",
    "axe.plot(dominio[1:-1], aprox3[1:-1], label=\"aprox f' centered\")\n",
    "axe.spines['bottom'].set_position(\"zero\")\n",
    "axe.spines['left'].set_position(\"zero\")\n",
    "plt.legend()\n",
    "plt.show()\n"
   ]
  },
  {
   "attachments": {},
   "cell_type": "markdown",
   "metadata": {},
   "source": [
    "#### Taller"
   ]
  },
  {
   "attachments": {},
   "cell_type": "markdown",
   "metadata": {},
   "source": [
    "1) Construya en `sympy` una expresión simbólica que represente a $f(x) = (\\sin (x) + 1) ^{\\sin (\\cos (x))} $ y calcule su derivada simbólicamente.\n",
    "Grafique sobre el intervalo $[-\\pi, \\pi]$ a la funci\\'on $f$ y a su derivada $f'$ además del eje $x$ usando el comando `ax.spines[\"bottom\"].set_position(\"zero\")` que le permita interpretar el signo de la derivada y su relación con el crecimiento o decrecimiento de $f$.  \n",
    "\n",
    "2) Use forward_local1 y backward_local1 para crear aproximaciones a la derivada de $f(x) = \\sin x$ en los puntos $x _{0} =0.5, \\ x _{0}  = 0.6$ y $x _{0} = 0.7 $, tomando $h = 10 ^{-4} $. \n",
    "\n",
    "3) Use forward_local1 y backward_local1 para crear aproximaciones a la derivada de\n",
    " $f(x) = e ^{x} - 2 x ^{ 2} + 3x-1 $ en los puntos $x _{0} =0, \\ x _{0}  = 0.2$ y $x _{0} = 0.4 $, tomando $h = 10 ^{-5} $.\n",
    "\n",
    "4) Construya funciones de python que le permitan construir aproximaciones locales a la derivada de una función en un punto teniendo en cuenta las siguientes relaciones:\n",
    "\n",
    "$$f'(x) \\approx \\displaystyle \\frac{-3f(x _{0})+ 4 f(x _{0}+h) - f(x _{0} + 2h )}{2h} \\quad \\text{forwardlocal2} $$\n",
    "\n",
    "$$f'(x) \\approx \\displaystyle \\frac{3f(x _{0})- 4 f(x _{0}-h) - f(x _{0} - 2h )}{2h} \\quad \\text{backwardlocal2} $$\n",
    "\n",
    "$$f'(x) \\approx \\displaystyle \\frac{f(x _{0} - 2h ) - 8 f (x _{0} -h ) + 8 f (x _{0} + h ) - f( x _{0} + 2h )}{12h} \\quad \\text{centeredlocal4} $$"
   ]
  },
  {
   "cell_type": "markdown",
   "metadata": {},
   "source": []
  }
 ],
 "metadata": {
  "kernelspec": {
   "display_name": "Python 3",
   "language": "python",
   "name": "python3"
  },
  "language_info": {
   "codemirror_mode": {
    "name": "ipython",
    "version": 3
   },
   "file_extension": ".py",
   "mimetype": "text/x-python",
   "name": "python",
   "nbconvert_exporter": "python",
   "pygments_lexer": "ipython3",
   "version": "3.9.5"
  },
  "orig_nbformat": 4,
  "vscode": {
   "interpreter": {
    "hash": "e7370f93d1d0cde622a1f8e1c04877d8463912d04d973331ad4851f04de6915a"
   }
  }
 },
 "nbformat": 4,
 "nbformat_minor": 2
}
